{
 "cells": [
  {
   "cell_type": "markdown",
   "id": "1efba2ab",
   "metadata": {},
   "source": [
    "# DS GA 1004 Capstone Project Team 27\n",
    "## Giulio Duregon, Joby George, Jonah Poczobutt \n",
    "\n",
    "## Local Playground on Small Dataset\n",
    "\n",
    "0. Imports\n",
    "1. Read the data (locally, for now)\n",
    "2. Clean the data (UTF-8 encoding)\n",
    "3. Create Train/Test/Validation\n",
    "4. Create a baseline model\n",
    "\n",
    "\n",
    "Note I have some cells below that will be useful if using the HPC rather than downloading the data locally\n"
   ]
  },
  {
   "cell_type": "code",
   "execution_count": 4,
   "id": "6f8d8da9",
   "metadata": {
    "ExecuteTime": {
     "end_time": "2022-04-20T00:08:04.091788Z",
     "start_time": "2022-04-20T00:08:04.076802Z"
    }
   },
   "outputs": [],
   "source": [
    "#0 Imports \n",
    "import os\n",
    "import numpy as np\n",
    "import pandas as pd\n",
    "import matplotlib.pyplot as plt\n",
    "import datetime as datetime\n",
    "from scipy.sparse import csr_matrix\n",
    "from sklearn.model_selection import train_test_split\n",
    "\n",
    "small_file_path = 'work/courses/DSGA1004-2021/movielens/ml-latest-small/'"
   ]
  },
  {
   "cell_type": "code",
   "execution_count": null,
   "id": "5d1c24e7",
   "metadata": {},
   "outputs": [],
   "source": [
    "#pwd"
   ]
  },
  {
   "cell_type": "markdown",
   "id": "7eb9d5de",
   "metadata": {},
   "source": [
    "you'll need to play with the number of cd ../ until you get to the **scratch** directory, on the HPC so you can read the data, for me it was the below:\n",
    "\n"
   ]
  },
  {
   "cell_type": "code",
   "execution_count": null,
   "id": "c395190d",
   "metadata": {},
   "outputs": [],
   "source": [
    "#cd ../.."
   ]
  },
  {
   "cell_type": "code",
   "execution_count": 6,
   "id": "209c3161",
   "metadata": {
    "ExecuteTime": {
     "end_time": "2022-04-20T00:08:18.890832Z",
     "start_time": "2022-04-20T00:08:18.759969Z"
    }
   },
   "outputs": [],
   "source": [
    "#1 Read the data\n",
    "\n",
    "\n",
    "movies = pd.read_csv(small_file_path+'movies.csv')\n",
    "ratings = pd.read_csv(small_file_path + 'ratings.csv')\n",
    "tags = pd.read_csv(small_file_path + 'tags.csv')\n",
    "links = pd.read_csv(small_file_path + 'links.csv')\n",
    "\n",
    "# commented code when working on local running, non commented code is on the HPC\n",
    "# Data are organized in links.csv, movies.csv, ratings.csv, and tags.csv\n",
    "# path = 'ml-latest-small/'\n",
    "\n",
    "# movies = pd.read_csv(path+'movies.csv')\n",
    "# ratings = pd.read_csv(path + 'ratings.csv')\n",
    "# tags = pd.read_csv(path + 'tags.csv')\n",
    "# links = pd.read_csv(path + 'links.csv')\n",
    "\n",
    "\n",
    "\n"
   ]
  },
  {
   "cell_type": "markdown",
   "id": "d5c1d023",
   "metadata": {},
   "source": [
    "now cd back to my directory"
   ]
  },
  {
   "cell_type": "code",
   "execution_count": null,
   "id": "1da73daa",
   "metadata": {},
   "outputs": [],
   "source": [
    "cd jg6615/capstone_project"
   ]
  },
  {
   "cell_type": "code",
   "execution_count": 4,
   "id": "ceac592c",
   "metadata": {
    "ExecuteTime": {
     "end_time": "2022-04-19T20:12:27.395560Z",
     "start_time": "2022-04-19T20:12:27.204915Z"
    }
   },
   "outputs": [],
   "source": [
    "#Clean the data\n",
    "def clean_dates(df,column):\n",
    "    \"\"\"\n",
    "    df = dataframe with a column we want to convert from utc time data to d/m/Y\n",
    "    column - string of column name, \n",
    "    \"\"\"\n",
    "    df[column] = pd.to_datetime(df[column]).dt.date\n",
    "    return(df)\n",
    "\n",
    "#we don't actually have to clean the timestamps for the baseline model\n",
    "\n",
    "\n",
    "#ratings = clean_dates(ratings,'timestamp')\n",
    "#tags = clean_dates(tags,'timestamp')\n",
    "\n",
    "\n",
    "\n",
    "def seperate_genres(df,column):\n",
    "    \"\"\"\n",
    "    df = dataframe with a column we want to convert from utc time data to d/m/Y\n",
    "    column - string of column name, \n",
    "    \"\"\"\n",
    "    genre_cols = df[column].str.get_dummies()\n",
    "    df = df.drop(columns = [column])\n",
    "    df = df.join(genre_cols, how='left', on=df.index)\n",
    "    return(df)\n",
    "\n",
    "#we don't have to clean genres for the baseline model, either\n",
    "\n",
    "#movies = seperate_genres(movies, 'genres')\n",
    "\n"
   ]
  },
  {
   "cell_type": "code",
   "execution_count": 7,
   "id": "cbf37224",
   "metadata": {
    "ExecuteTime": {
     "end_time": "2022-04-20T00:08:28.634071Z",
     "start_time": "2022-04-20T00:08:28.526561Z"
    }
   },
   "outputs": [
    {
     "name": "stdout",
     "output_type": "stream",
     "text": [
      "titles with more than one movieId in the movies data  ['Confessions of a Dangerous Mind (2002)', 'Emma (1996)', 'Eros (2004)', 'Saturn 3 (1980)', 'War of the Worlds (2005)']\n"
     ]
    }
   ],
   "source": [
    "#some titles have more than one movieId, \n",
    "#I wanted my sparsely populated matrix to be uesrs as rows\n",
    "#movie title on columns, so to correct for this\n",
    "\n",
    "#we identify titles with the more than 1 id, and remove the ids from the dataset with the least reviews\n",
    "#for a given title\n",
    "\n",
    "#find movies with multiple movie Ids\n",
    "g = movies.groupby('title').movieId.count()>1\n",
    "dupes = list(movies.groupby('title').movieId.count()[g].index)\n",
    "print('titles with more than one movieId in the movies data ',dupes)\n",
    "d = {title:movies.loc[movies.title == title]['movieId'].values for title in dupes}\n",
    "\n"
   ]
  },
  {
   "cell_type": "code",
   "execution_count": 8,
   "id": "ed3d3f13",
   "metadata": {
    "ExecuteTime": {
     "end_time": "2022-04-20T00:08:42.518072Z",
     "start_time": "2022-04-20T00:08:42.361560Z"
    }
   },
   "outputs": [],
   "source": [
    "#examine for the same title, which movie id has the fewest amount of reviews\n",
    "#we will remove those movies from the dataset such that every movie title has a singular movieId\n",
    "discard_ids = []\n",
    "for v in d.values():\n",
    "    g = ratings.loc[ratings['movieId'].isin(v)].groupby('movieId').count()\n",
    "    #keep only the movie id with the most amount of reviews for each title with multiple\n",
    "    #movieIds\n",
    "    discard_ids.append(g.sort_values(by='userId',ascending=True).iloc[-1].name)\n",
    "    \n",
    "#remove movieId's with a duplicate title    \n",
    "movies = movies.loc[~(movies.movieId.isin(discard_ids))]\n",
    "ratings = ratings.loc[~(ratings.movieId.isin(discard_ids))]\n",
    "\n",
    "#join ratings and movie data together\n",
    "utility_matrix = ratings.merge(movies, how = 'left', on = 'movieId')\n",
    "\n",
    "#subset on columns\n",
    "u = utility_matrix[['userId','title','rating']]\n",
    "\n",
    "#create sparse matrix transforming long data into wide with the .pivot() method\n",
    "u = u.pivot(index='userId', columns = 'title', values ='rating')"
   ]
  },
  {
   "cell_type": "code",
   "execution_count": 9,
   "id": "b3a6c13c",
   "metadata": {
    "ExecuteTime": {
     "end_time": "2022-04-20T00:08:47.449571Z",
     "start_time": "2022-04-20T00:08:47.411932Z"
    }
   },
   "outputs": [
    {
     "data": {
      "text/html": [
       "<div>\n",
       "<style scoped>\n",
       "    .dataframe tbody tr th:only-of-type {\n",
       "        vertical-align: middle;\n",
       "    }\n",
       "\n",
       "    .dataframe tbody tr th {\n",
       "        vertical-align: top;\n",
       "    }\n",
       "\n",
       "    .dataframe thead th {\n",
       "        text-align: right;\n",
       "    }\n",
       "</style>\n",
       "<table border=\"1\" class=\"dataframe\">\n",
       "  <thead>\n",
       "    <tr style=\"text-align: right;\">\n",
       "      <th>title</th>\n",
       "      <th>'71 (2014)</th>\n",
       "      <th>'Hellboy': The Seeds of Creation (2004)</th>\n",
       "      <th>'Round Midnight (1986)</th>\n",
       "      <th>'Salem's Lot (2004)</th>\n",
       "      <th>'Til There Was You (1997)</th>\n",
       "      <th>'Tis the Season for Love (2015)</th>\n",
       "      <th>'burbs, The (1989)</th>\n",
       "      <th>'night Mother (1986)</th>\n",
       "      <th>(500) Days of Summer (2009)</th>\n",
       "      <th>*batteries not included (1987)</th>\n",
       "      <th>...</th>\n",
       "      <th>Zulu (2013)</th>\n",
       "      <th>[REC] (2007)</th>\n",
       "      <th>[REC]² (2009)</th>\n",
       "      <th>[REC]³ 3 Génesis (2012)</th>\n",
       "      <th>anohana: The Flower We Saw That Day - The Movie (2013)</th>\n",
       "      <th>eXistenZ (1999)</th>\n",
       "      <th>xXx (2002)</th>\n",
       "      <th>xXx: State of the Union (2005)</th>\n",
       "      <th>¡Three Amigos! (1986)</th>\n",
       "      <th>À nous la liberté (Freedom for Us) (1931)</th>\n",
       "    </tr>\n",
       "    <tr>\n",
       "      <th>userId</th>\n",
       "      <th></th>\n",
       "      <th></th>\n",
       "      <th></th>\n",
       "      <th></th>\n",
       "      <th></th>\n",
       "      <th></th>\n",
       "      <th></th>\n",
       "      <th></th>\n",
       "      <th></th>\n",
       "      <th></th>\n",
       "      <th></th>\n",
       "      <th></th>\n",
       "      <th></th>\n",
       "      <th></th>\n",
       "      <th></th>\n",
       "      <th></th>\n",
       "      <th></th>\n",
       "      <th></th>\n",
       "      <th></th>\n",
       "      <th></th>\n",
       "      <th></th>\n",
       "    </tr>\n",
       "  </thead>\n",
       "  <tbody>\n",
       "    <tr>\n",
       "      <th>1</th>\n",
       "      <td>NaN</td>\n",
       "      <td>NaN</td>\n",
       "      <td>NaN</td>\n",
       "      <td>NaN</td>\n",
       "      <td>NaN</td>\n",
       "      <td>NaN</td>\n",
       "      <td>NaN</td>\n",
       "      <td>NaN</td>\n",
       "      <td>NaN</td>\n",
       "      <td>NaN</td>\n",
       "      <td>...</td>\n",
       "      <td>NaN</td>\n",
       "      <td>NaN</td>\n",
       "      <td>NaN</td>\n",
       "      <td>NaN</td>\n",
       "      <td>NaN</td>\n",
       "      <td>NaN</td>\n",
       "      <td>NaN</td>\n",
       "      <td>NaN</td>\n",
       "      <td>4.0</td>\n",
       "      <td>NaN</td>\n",
       "    </tr>\n",
       "    <tr>\n",
       "      <th>2</th>\n",
       "      <td>NaN</td>\n",
       "      <td>NaN</td>\n",
       "      <td>NaN</td>\n",
       "      <td>NaN</td>\n",
       "      <td>NaN</td>\n",
       "      <td>NaN</td>\n",
       "      <td>NaN</td>\n",
       "      <td>NaN</td>\n",
       "      <td>NaN</td>\n",
       "      <td>NaN</td>\n",
       "      <td>...</td>\n",
       "      <td>NaN</td>\n",
       "      <td>NaN</td>\n",
       "      <td>NaN</td>\n",
       "      <td>NaN</td>\n",
       "      <td>NaN</td>\n",
       "      <td>NaN</td>\n",
       "      <td>NaN</td>\n",
       "      <td>NaN</td>\n",
       "      <td>NaN</td>\n",
       "      <td>NaN</td>\n",
       "    </tr>\n",
       "    <tr>\n",
       "      <th>3</th>\n",
       "      <td>NaN</td>\n",
       "      <td>NaN</td>\n",
       "      <td>NaN</td>\n",
       "      <td>NaN</td>\n",
       "      <td>NaN</td>\n",
       "      <td>NaN</td>\n",
       "      <td>NaN</td>\n",
       "      <td>NaN</td>\n",
       "      <td>NaN</td>\n",
       "      <td>NaN</td>\n",
       "      <td>...</td>\n",
       "      <td>NaN</td>\n",
       "      <td>NaN</td>\n",
       "      <td>NaN</td>\n",
       "      <td>NaN</td>\n",
       "      <td>NaN</td>\n",
       "      <td>NaN</td>\n",
       "      <td>NaN</td>\n",
       "      <td>NaN</td>\n",
       "      <td>NaN</td>\n",
       "      <td>NaN</td>\n",
       "    </tr>\n",
       "    <tr>\n",
       "      <th>4</th>\n",
       "      <td>NaN</td>\n",
       "      <td>NaN</td>\n",
       "      <td>NaN</td>\n",
       "      <td>NaN</td>\n",
       "      <td>NaN</td>\n",
       "      <td>NaN</td>\n",
       "      <td>NaN</td>\n",
       "      <td>NaN</td>\n",
       "      <td>NaN</td>\n",
       "      <td>NaN</td>\n",
       "      <td>...</td>\n",
       "      <td>NaN</td>\n",
       "      <td>NaN</td>\n",
       "      <td>NaN</td>\n",
       "      <td>NaN</td>\n",
       "      <td>NaN</td>\n",
       "      <td>NaN</td>\n",
       "      <td>NaN</td>\n",
       "      <td>NaN</td>\n",
       "      <td>NaN</td>\n",
       "      <td>NaN</td>\n",
       "    </tr>\n",
       "    <tr>\n",
       "      <th>5</th>\n",
       "      <td>NaN</td>\n",
       "      <td>NaN</td>\n",
       "      <td>NaN</td>\n",
       "      <td>NaN</td>\n",
       "      <td>NaN</td>\n",
       "      <td>NaN</td>\n",
       "      <td>NaN</td>\n",
       "      <td>NaN</td>\n",
       "      <td>NaN</td>\n",
       "      <td>NaN</td>\n",
       "      <td>...</td>\n",
       "      <td>NaN</td>\n",
       "      <td>NaN</td>\n",
       "      <td>NaN</td>\n",
       "      <td>NaN</td>\n",
       "      <td>NaN</td>\n",
       "      <td>NaN</td>\n",
       "      <td>NaN</td>\n",
       "      <td>NaN</td>\n",
       "      <td>NaN</td>\n",
       "      <td>NaN</td>\n",
       "    </tr>\n",
       "  </tbody>\n",
       "</table>\n",
       "<p>5 rows × 9719 columns</p>\n",
       "</div>"
      ],
      "text/plain": [
       "title   '71 (2014)  'Hellboy': The Seeds of Creation (2004)  \\\n",
       "userId                                                        \n",
       "1              NaN                                      NaN   \n",
       "2              NaN                                      NaN   \n",
       "3              NaN                                      NaN   \n",
       "4              NaN                                      NaN   \n",
       "5              NaN                                      NaN   \n",
       "\n",
       "title   'Round Midnight (1986)  'Salem's Lot (2004)  \\\n",
       "userId                                                \n",
       "1                          NaN                  NaN   \n",
       "2                          NaN                  NaN   \n",
       "3                          NaN                  NaN   \n",
       "4                          NaN                  NaN   \n",
       "5                          NaN                  NaN   \n",
       "\n",
       "title   'Til There Was You (1997)  'Tis the Season for Love (2015)  \\\n",
       "userId                                                               \n",
       "1                             NaN                              NaN   \n",
       "2                             NaN                              NaN   \n",
       "3                             NaN                              NaN   \n",
       "4                             NaN                              NaN   \n",
       "5                             NaN                              NaN   \n",
       "\n",
       "title   'burbs, The (1989)  'night Mother (1986)  (500) Days of Summer (2009)  \\\n",
       "userId                                                                          \n",
       "1                      NaN                   NaN                          NaN   \n",
       "2                      NaN                   NaN                          NaN   \n",
       "3                      NaN                   NaN                          NaN   \n",
       "4                      NaN                   NaN                          NaN   \n",
       "5                      NaN                   NaN                          NaN   \n",
       "\n",
       "title   *batteries not included (1987)  ...  Zulu (2013)  [REC] (2007)  \\\n",
       "userId                                  ...                              \n",
       "1                                  NaN  ...          NaN           NaN   \n",
       "2                                  NaN  ...          NaN           NaN   \n",
       "3                                  NaN  ...          NaN           NaN   \n",
       "4                                  NaN  ...          NaN           NaN   \n",
       "5                                  NaN  ...          NaN           NaN   \n",
       "\n",
       "title   [REC]² (2009)  [REC]³ 3 Génesis (2012)  \\\n",
       "userId                                           \n",
       "1                 NaN                      NaN   \n",
       "2                 NaN                      NaN   \n",
       "3                 NaN                      NaN   \n",
       "4                 NaN                      NaN   \n",
       "5                 NaN                      NaN   \n",
       "\n",
       "title   anohana: The Flower We Saw That Day - The Movie (2013)  \\\n",
       "userId                                                           \n",
       "1                                                     NaN        \n",
       "2                                                     NaN        \n",
       "3                                                     NaN        \n",
       "4                                                     NaN        \n",
       "5                                                     NaN        \n",
       "\n",
       "title   eXistenZ (1999)  xXx (2002)  xXx: State of the Union (2005)  \\\n",
       "userId                                                                \n",
       "1                   NaN         NaN                             NaN   \n",
       "2                   NaN         NaN                             NaN   \n",
       "3                   NaN         NaN                             NaN   \n",
       "4                   NaN         NaN                             NaN   \n",
       "5                   NaN         NaN                             NaN   \n",
       "\n",
       "title   ¡Three Amigos! (1986)  À nous la liberté (Freedom for Us) (1931)  \n",
       "userId                                                                    \n",
       "1                         4.0                                        NaN  \n",
       "2                         NaN                                        NaN  \n",
       "3                         NaN                                        NaN  \n",
       "4                         NaN                                        NaN  \n",
       "5                         NaN                                        NaN  \n",
       "\n",
       "[5 rows x 9719 columns]"
      ]
     },
     "execution_count": 9,
     "metadata": {},
     "output_type": "execute_result"
    }
   ],
   "source": [
    "u.head()"
   ]
  },
  {
   "cell_type": "code",
   "execution_count": null,
   "id": "f8d814ac",
   "metadata": {},
   "outputs": [],
   "source": []
  },
  {
   "cell_type": "code",
   "execution_count": 10,
   "id": "a6672434",
   "metadata": {
    "ExecuteTime": {
     "end_time": "2022-04-20T00:19:20.425571Z",
     "start_time": "2022-04-20T00:09:03.481282Z"
    }
   },
   "outputs": [
    {
     "ename": "IndexError",
     "evalue": "single positional indexer is out-of-bounds",
     "output_type": "error",
     "traceback": [
      "\u001b[0;31m---------------------------------------------------------------------------\u001b[0m",
      "\u001b[0;31mIndexError\u001b[0m                                Traceback (most recent call last)",
      "\u001b[0;32m<ipython-input-10-fa07e87d2b74>\u001b[0m in \u001b[0;36m<module>\u001b[0;34m\u001b[0m\n\u001b[1;32m     16\u001b[0m     \u001b[0;31m#get a movie name, rating for all movies that this user has rated, from the sparsely populated matrix\u001b[0m\u001b[0;34m\u001b[0m\u001b[0;34m\u001b[0m\u001b[0;34m\u001b[0m\u001b[0m\n\u001b[1;32m     17\u001b[0m     \u001b[0;31m#note that u matrix has NANs instead of 0s so the notnull method grabs what we want\u001b[0m\u001b[0;34m\u001b[0m\u001b[0;34m\u001b[0m\u001b[0;34m\u001b[0m\u001b[0m\n\u001b[0;32m---> 18\u001b[0;31m     \u001b[0mfirst_guess\u001b[0m \u001b[0;34m=\u001b[0m \u001b[0mu\u001b[0m\u001b[0;34m.\u001b[0m\u001b[0miloc\u001b[0m\u001b[0;34m[\u001b[0m\u001b[0midx\u001b[0m\u001b[0;34m+\u001b[0m\u001b[0;36m1\u001b[0m\u001b[0;34m]\u001b[0m\u001b[0;34m.\u001b[0m\u001b[0mloc\u001b[0m\u001b[0;34m[\u001b[0m\u001b[0mu\u001b[0m\u001b[0;34m.\u001b[0m\u001b[0miloc\u001b[0m\u001b[0;34m[\u001b[0m\u001b[0midx\u001b[0m\u001b[0;34m+\u001b[0m\u001b[0;36m1\u001b[0m\u001b[0;34m]\u001b[0m\u001b[0;34m.\u001b[0m\u001b[0mnotnull\u001b[0m\u001b[0;34m(\u001b[0m\u001b[0;34m)\u001b[0m\u001b[0;34m]\u001b[0m\u001b[0;34m\u001b[0m\u001b[0;34m\u001b[0m\u001b[0m\n\u001b[0m\u001b[1;32m     19\u001b[0m \u001b[0;34m\u001b[0m\u001b[0m\n\u001b[1;32m     20\u001b[0m \u001b[0;34m\u001b[0m\u001b[0m\n",
      "\u001b[0;32m~/opt/anaconda3/lib/python3.8/site-packages/pandas/core/indexing.py\u001b[0m in \u001b[0;36m__getitem__\u001b[0;34m(self, key)\u001b[0m\n\u001b[1;32m    893\u001b[0m \u001b[0;34m\u001b[0m\u001b[0m\n\u001b[1;32m    894\u001b[0m             \u001b[0mmaybe_callable\u001b[0m \u001b[0;34m=\u001b[0m \u001b[0mcom\u001b[0m\u001b[0;34m.\u001b[0m\u001b[0mapply_if_callable\u001b[0m\u001b[0;34m(\u001b[0m\u001b[0mkey\u001b[0m\u001b[0;34m,\u001b[0m \u001b[0mself\u001b[0m\u001b[0;34m.\u001b[0m\u001b[0mobj\u001b[0m\u001b[0;34m)\u001b[0m\u001b[0;34m\u001b[0m\u001b[0;34m\u001b[0m\u001b[0m\n\u001b[0;32m--> 895\u001b[0;31m             \u001b[0;32mreturn\u001b[0m \u001b[0mself\u001b[0m\u001b[0;34m.\u001b[0m\u001b[0m_getitem_axis\u001b[0m\u001b[0;34m(\u001b[0m\u001b[0mmaybe_callable\u001b[0m\u001b[0;34m,\u001b[0m \u001b[0maxis\u001b[0m\u001b[0;34m=\u001b[0m\u001b[0maxis\u001b[0m\u001b[0;34m)\u001b[0m\u001b[0;34m\u001b[0m\u001b[0;34m\u001b[0m\u001b[0m\n\u001b[0m\u001b[1;32m    896\u001b[0m \u001b[0;34m\u001b[0m\u001b[0m\n\u001b[1;32m    897\u001b[0m     \u001b[0;32mdef\u001b[0m \u001b[0m_is_scalar_access\u001b[0m\u001b[0;34m(\u001b[0m\u001b[0mself\u001b[0m\u001b[0;34m,\u001b[0m \u001b[0mkey\u001b[0m\u001b[0;34m:\u001b[0m \u001b[0mTuple\u001b[0m\u001b[0;34m)\u001b[0m\u001b[0;34m:\u001b[0m\u001b[0;34m\u001b[0m\u001b[0;34m\u001b[0m\u001b[0m\n",
      "\u001b[0;32m~/opt/anaconda3/lib/python3.8/site-packages/pandas/core/indexing.py\u001b[0m in \u001b[0;36m_getitem_axis\u001b[0;34m(self, key, axis)\u001b[0m\n\u001b[1;32m   1499\u001b[0m \u001b[0;34m\u001b[0m\u001b[0m\n\u001b[1;32m   1500\u001b[0m             \u001b[0;31m# validate the location\u001b[0m\u001b[0;34m\u001b[0m\u001b[0;34m\u001b[0m\u001b[0;34m\u001b[0m\u001b[0m\n\u001b[0;32m-> 1501\u001b[0;31m             \u001b[0mself\u001b[0m\u001b[0;34m.\u001b[0m\u001b[0m_validate_integer\u001b[0m\u001b[0;34m(\u001b[0m\u001b[0mkey\u001b[0m\u001b[0;34m,\u001b[0m \u001b[0maxis\u001b[0m\u001b[0;34m)\u001b[0m\u001b[0;34m\u001b[0m\u001b[0;34m\u001b[0m\u001b[0m\n\u001b[0m\u001b[1;32m   1502\u001b[0m \u001b[0;34m\u001b[0m\u001b[0m\n\u001b[1;32m   1503\u001b[0m             \u001b[0;32mreturn\u001b[0m \u001b[0mself\u001b[0m\u001b[0;34m.\u001b[0m\u001b[0mobj\u001b[0m\u001b[0;34m.\u001b[0m\u001b[0m_ixs\u001b[0m\u001b[0;34m(\u001b[0m\u001b[0mkey\u001b[0m\u001b[0;34m,\u001b[0m \u001b[0maxis\u001b[0m\u001b[0;34m=\u001b[0m\u001b[0maxis\u001b[0m\u001b[0;34m)\u001b[0m\u001b[0;34m\u001b[0m\u001b[0;34m\u001b[0m\u001b[0m\n",
      "\u001b[0;32m~/opt/anaconda3/lib/python3.8/site-packages/pandas/core/indexing.py\u001b[0m in \u001b[0;36m_validate_integer\u001b[0;34m(self, key, axis)\u001b[0m\n\u001b[1;32m   1442\u001b[0m         \u001b[0mlen_axis\u001b[0m \u001b[0;34m=\u001b[0m \u001b[0mlen\u001b[0m\u001b[0;34m(\u001b[0m\u001b[0mself\u001b[0m\u001b[0;34m.\u001b[0m\u001b[0mobj\u001b[0m\u001b[0;34m.\u001b[0m\u001b[0m_get_axis\u001b[0m\u001b[0;34m(\u001b[0m\u001b[0maxis\u001b[0m\u001b[0;34m)\u001b[0m\u001b[0;34m)\u001b[0m\u001b[0;34m\u001b[0m\u001b[0;34m\u001b[0m\u001b[0m\n\u001b[1;32m   1443\u001b[0m         \u001b[0;32mif\u001b[0m \u001b[0mkey\u001b[0m \u001b[0;34m>=\u001b[0m \u001b[0mlen_axis\u001b[0m \u001b[0;32mor\u001b[0m \u001b[0mkey\u001b[0m \u001b[0;34m<\u001b[0m \u001b[0;34m-\u001b[0m\u001b[0mlen_axis\u001b[0m\u001b[0;34m:\u001b[0m\u001b[0;34m\u001b[0m\u001b[0;34m\u001b[0m\u001b[0m\n\u001b[0;32m-> 1444\u001b[0;31m             \u001b[0;32mraise\u001b[0m \u001b[0mIndexError\u001b[0m\u001b[0;34m(\u001b[0m\u001b[0;34m\"single positional indexer is out-of-bounds\"\u001b[0m\u001b[0;34m)\u001b[0m\u001b[0;34m\u001b[0m\u001b[0;34m\u001b[0m\u001b[0m\n\u001b[0m\u001b[1;32m   1445\u001b[0m \u001b[0;34m\u001b[0m\u001b[0m\n\u001b[1;32m   1446\u001b[0m     \u001b[0;31m# -------------------------------------------------------------------\u001b[0m\u001b[0;34m\u001b[0m\u001b[0;34m\u001b[0m\u001b[0;34m\u001b[0m\u001b[0m\n",
      "\u001b[0;31mIndexError\u001b[0m: single positional indexer is out-of-bounds"
     ]
    }
   ],
   "source": [
    "#hard part -- create a train val test split!\n",
    "#from lecture we want to make sure we subset a portion of each user into the val and test split!\n",
    "# meaning 70% of records from user 1 is in the training set, and 30% are further hold out\n",
    "\n",
    "#strategy, initialize 3 empty dataframes in the same dimmensions as our sparse matrix\n",
    "fill = u.shape\n",
    "train= pd.DataFrame(np.zeros(fill), columns = u.columns)\n",
    "val = pd.DataFrame(np.zeros(fill), columns = u.columns)\n",
    "test = pd.DataFrame(np.zeros(fill), columns = u.columns)\n",
    "\n",
    "\n",
    "#takes a couple of minutes for this to run, could be worth using dask or something \n",
    "#iterate from 0 -609, we reset index at the end to get our row num to equal the previous userId\n",
    "\n",
    "for idx in range(len(u.index)):\n",
    "    #get a movie name, rating for all movies that this user has rated, from the sparsely populated matrix\n",
    "    #note that u matrix has NANs instead of 0s so the notnull method grabs what we want\n",
    "    first_guess = u.iloc[idx].loc[u.iloc[idx].notnull()]\n",
    "    \n",
    "    \n",
    "    #get 60 percent of the data to split into train, 40 % to split into test, which will be further split\n",
    "    #into validation\n",
    "    msk1 = np.random.rand(len(first_guess)) < 0.6\n",
    "    train_cols, big_test_cols = list(first_guess[msk1].index), list(first_guess[~msk1].index)\n",
    "    train_vals, big_test_vals = list(first_guess[msk1].values),list(first_guess[~msk1].values)\n",
    "    \n",
    "    #create a dictionary that will be passed into the .replace() method to assign the true ratings for this \n",
    "    #user for the given set of movies in train and big test \n",
    "    d_train = {train_cols[i]:{0:train_vals[i]} for i in range(len(train_cols))}\n",
    "\n",
    "    #modify the row to replace 0s with the appropriate value, using replace\n",
    "    train.iloc[idx] = train.replace(d_train).iloc[idx]\n",
    "\n",
    "    #subset big_test into true validation/test sets, taking 50% of 40% (i.e. 20%)\n",
    "    msk2 = np.random.rand(len(big_test_cols)) < 0.5\n",
    "    val_cols, test_cols = list(first_guess[~msk1][msk2].index), list(first_guess[~msk1][~msk2].index)\n",
    "    val_vals, test_vals = list(first_guess[~msk1][msk2].values),list(first_guess[~msk1][~msk2].values)\n",
    "    \n",
    "    d_val = {val_cols[i]:{0:val_cols[i]} for i in range(len(val_cols))}\n",
    "    d_test = {test_cols[i]:{0:test_vals[i]} for i in range(len(test_cols))}\n",
    "\n",
    "    #update the validation and test datasets to be a matrix in the same dimmension as u, but with\n",
    "    #that given user's rating for each movie \n",
    "    val.iloc[idx] = val.replace(d_val).iloc[idx]\n",
    "    test.iloc[idx] = test.replace(d_test).iloc[idx]\n",
    "\n",
    "#replace 0's with NaN's\n",
    "train = train.replace(0, np.nan)\n",
    "val = val.replace(0, np.nan)\n",
    "test = test.replace(0, np.nan)\n",
    "\n",
    "#set indicidees to match the original, my indexing was off by 1 (no userId = 0)\n",
    "train = train.set_index(u.index)\n",
    "val = val.set_index(u.index)\n",
    "test = test.set_index(u.index)"
   ]
  },
  {
   "cell_type": "code",
   "execution_count": 23,
   "id": "efa2b534",
   "metadata": {
    "ExecuteTime": {
     "end_time": "2022-04-20T00:23:26.903808Z",
     "start_time": "2022-04-20T00:23:26.870676Z"
    }
   },
   "outputs": [
    {
     "data": {
      "text/html": [
       "<div>\n",
       "<style scoped>\n",
       "    .dataframe tbody tr th:only-of-type {\n",
       "        vertical-align: middle;\n",
       "    }\n",
       "\n",
       "    .dataframe tbody tr th {\n",
       "        vertical-align: top;\n",
       "    }\n",
       "\n",
       "    .dataframe thead th {\n",
       "        text-align: right;\n",
       "    }\n",
       "</style>\n",
       "<table border=\"1\" class=\"dataframe\">\n",
       "  <thead>\n",
       "    <tr style=\"text-align: right;\">\n",
       "      <th>title</th>\n",
       "      <th>'71 (2014)</th>\n",
       "      <th>'Hellboy': The Seeds of Creation (2004)</th>\n",
       "      <th>'Round Midnight (1986)</th>\n",
       "      <th>'Salem's Lot (2004)</th>\n",
       "      <th>'Til There Was You (1997)</th>\n",
       "      <th>'Tis the Season for Love (2015)</th>\n",
       "      <th>'burbs, The (1989)</th>\n",
       "      <th>'night Mother (1986)</th>\n",
       "      <th>(500) Days of Summer (2009)</th>\n",
       "      <th>*batteries not included (1987)</th>\n",
       "      <th>...</th>\n",
       "      <th>Zulu (2013)</th>\n",
       "      <th>[REC] (2007)</th>\n",
       "      <th>[REC]² (2009)</th>\n",
       "      <th>[REC]³ 3 Génesis (2012)</th>\n",
       "      <th>anohana: The Flower We Saw That Day - The Movie (2013)</th>\n",
       "      <th>eXistenZ (1999)</th>\n",
       "      <th>xXx (2002)</th>\n",
       "      <th>xXx: State of the Union (2005)</th>\n",
       "      <th>¡Three Amigos! (1986)</th>\n",
       "      <th>À nous la liberté (Freedom for Us) (1931)</th>\n",
       "    </tr>\n",
       "    <tr>\n",
       "      <th>userId</th>\n",
       "      <th></th>\n",
       "      <th></th>\n",
       "      <th></th>\n",
       "      <th></th>\n",
       "      <th></th>\n",
       "      <th></th>\n",
       "      <th></th>\n",
       "      <th></th>\n",
       "      <th></th>\n",
       "      <th></th>\n",
       "      <th></th>\n",
       "      <th></th>\n",
       "      <th></th>\n",
       "      <th></th>\n",
       "      <th></th>\n",
       "      <th></th>\n",
       "      <th></th>\n",
       "      <th></th>\n",
       "      <th></th>\n",
       "      <th></th>\n",
       "      <th></th>\n",
       "    </tr>\n",
       "  </thead>\n",
       "  <tbody>\n",
       "    <tr>\n",
       "      <th>1</th>\n",
       "      <td>NaN</td>\n",
       "      <td>NaN</td>\n",
       "      <td>NaN</td>\n",
       "      <td>NaN</td>\n",
       "      <td>NaN</td>\n",
       "      <td>NaN</td>\n",
       "      <td>NaN</td>\n",
       "      <td>NaN</td>\n",
       "      <td>NaN</td>\n",
       "      <td>NaN</td>\n",
       "      <td>...</td>\n",
       "      <td>NaN</td>\n",
       "      <td>NaN</td>\n",
       "      <td>NaN</td>\n",
       "      <td>NaN</td>\n",
       "      <td>NaN</td>\n",
       "      <td>NaN</td>\n",
       "      <td>NaN</td>\n",
       "      <td>NaN</td>\n",
       "      <td>NaN</td>\n",
       "      <td>NaN</td>\n",
       "    </tr>\n",
       "    <tr>\n",
       "      <th>2</th>\n",
       "      <td>NaN</td>\n",
       "      <td>NaN</td>\n",
       "      <td>NaN</td>\n",
       "      <td>NaN</td>\n",
       "      <td>NaN</td>\n",
       "      <td>NaN</td>\n",
       "      <td>NaN</td>\n",
       "      <td>NaN</td>\n",
       "      <td>NaN</td>\n",
       "      <td>NaN</td>\n",
       "      <td>...</td>\n",
       "      <td>NaN</td>\n",
       "      <td>NaN</td>\n",
       "      <td>NaN</td>\n",
       "      <td>NaN</td>\n",
       "      <td>NaN</td>\n",
       "      <td>NaN</td>\n",
       "      <td>NaN</td>\n",
       "      <td>NaN</td>\n",
       "      <td>NaN</td>\n",
       "      <td>NaN</td>\n",
       "    </tr>\n",
       "    <tr>\n",
       "      <th>3</th>\n",
       "      <td>NaN</td>\n",
       "      <td>NaN</td>\n",
       "      <td>NaN</td>\n",
       "      <td>NaN</td>\n",
       "      <td>NaN</td>\n",
       "      <td>NaN</td>\n",
       "      <td>NaN</td>\n",
       "      <td>NaN</td>\n",
       "      <td>NaN</td>\n",
       "      <td>NaN</td>\n",
       "      <td>...</td>\n",
       "      <td>NaN</td>\n",
       "      <td>NaN</td>\n",
       "      <td>NaN</td>\n",
       "      <td>NaN</td>\n",
       "      <td>NaN</td>\n",
       "      <td>NaN</td>\n",
       "      <td>NaN</td>\n",
       "      <td>NaN</td>\n",
       "      <td>NaN</td>\n",
       "      <td>NaN</td>\n",
       "    </tr>\n",
       "    <tr>\n",
       "      <th>4</th>\n",
       "      <td>NaN</td>\n",
       "      <td>NaN</td>\n",
       "      <td>NaN</td>\n",
       "      <td>NaN</td>\n",
       "      <td>NaN</td>\n",
       "      <td>NaN</td>\n",
       "      <td>NaN</td>\n",
       "      <td>NaN</td>\n",
       "      <td>NaN</td>\n",
       "      <td>NaN</td>\n",
       "      <td>...</td>\n",
       "      <td>NaN</td>\n",
       "      <td>NaN</td>\n",
       "      <td>NaN</td>\n",
       "      <td>NaN</td>\n",
       "      <td>NaN</td>\n",
       "      <td>NaN</td>\n",
       "      <td>NaN</td>\n",
       "      <td>NaN</td>\n",
       "      <td>NaN</td>\n",
       "      <td>NaN</td>\n",
       "    </tr>\n",
       "    <tr>\n",
       "      <th>5</th>\n",
       "      <td>NaN</td>\n",
       "      <td>NaN</td>\n",
       "      <td>NaN</td>\n",
       "      <td>NaN</td>\n",
       "      <td>NaN</td>\n",
       "      <td>NaN</td>\n",
       "      <td>NaN</td>\n",
       "      <td>NaN</td>\n",
       "      <td>NaN</td>\n",
       "      <td>NaN</td>\n",
       "      <td>...</td>\n",
       "      <td>NaN</td>\n",
       "      <td>NaN</td>\n",
       "      <td>NaN</td>\n",
       "      <td>NaN</td>\n",
       "      <td>NaN</td>\n",
       "      <td>NaN</td>\n",
       "      <td>NaN</td>\n",
       "      <td>NaN</td>\n",
       "      <td>NaN</td>\n",
       "      <td>NaN</td>\n",
       "    </tr>\n",
       "  </tbody>\n",
       "</table>\n",
       "<p>5 rows × 9719 columns</p>\n",
       "</div>"
      ],
      "text/plain": [
       "title   '71 (2014)  'Hellboy': The Seeds of Creation (2004)  \\\n",
       "userId                                                        \n",
       "1              NaN                                      NaN   \n",
       "2              NaN                                      NaN   \n",
       "3              NaN                                      NaN   \n",
       "4              NaN                                      NaN   \n",
       "5              NaN                                      NaN   \n",
       "\n",
       "title   'Round Midnight (1986)  'Salem's Lot (2004)  \\\n",
       "userId                                                \n",
       "1                          NaN                  NaN   \n",
       "2                          NaN                  NaN   \n",
       "3                          NaN                  NaN   \n",
       "4                          NaN                  NaN   \n",
       "5                          NaN                  NaN   \n",
       "\n",
       "title   'Til There Was You (1997)  'Tis the Season for Love (2015)  \\\n",
       "userId                                                               \n",
       "1                             NaN                              NaN   \n",
       "2                             NaN                              NaN   \n",
       "3                             NaN                              NaN   \n",
       "4                             NaN                              NaN   \n",
       "5                             NaN                              NaN   \n",
       "\n",
       "title   'burbs, The (1989)  'night Mother (1986)  (500) Days of Summer (2009)  \\\n",
       "userId                                                                          \n",
       "1                      NaN                   NaN                          NaN   \n",
       "2                      NaN                   NaN                          NaN   \n",
       "3                      NaN                   NaN                          NaN   \n",
       "4                      NaN                   NaN                          NaN   \n",
       "5                      NaN                   NaN                          NaN   \n",
       "\n",
       "title   *batteries not included (1987)  ...  Zulu (2013)  [REC] (2007)  \\\n",
       "userId                                  ...                              \n",
       "1                                  NaN  ...          NaN           NaN   \n",
       "2                                  NaN  ...          NaN           NaN   \n",
       "3                                  NaN  ...          NaN           NaN   \n",
       "4                                  NaN  ...          NaN           NaN   \n",
       "5                                  NaN  ...          NaN           NaN   \n",
       "\n",
       "title   [REC]² (2009)  [REC]³ 3 Génesis (2012)  \\\n",
       "userId                                           \n",
       "1                 NaN                      NaN   \n",
       "2                 NaN                      NaN   \n",
       "3                 NaN                      NaN   \n",
       "4                 NaN                      NaN   \n",
       "5                 NaN                      NaN   \n",
       "\n",
       "title   anohana: The Flower We Saw That Day - The Movie (2013)  \\\n",
       "userId                                                           \n",
       "1                                                     NaN        \n",
       "2                                                     NaN        \n",
       "3                                                     NaN        \n",
       "4                                                     NaN        \n",
       "5                                                     NaN        \n",
       "\n",
       "title   eXistenZ (1999)  xXx (2002)  xXx: State of the Union (2005)  \\\n",
       "userId                                                                \n",
       "1                   NaN         NaN                             NaN   \n",
       "2                   NaN         NaN                             NaN   \n",
       "3                   NaN         NaN                             NaN   \n",
       "4                   NaN         NaN                             NaN   \n",
       "5                   NaN         NaN                             NaN   \n",
       "\n",
       "title   ¡Three Amigos! (1986)  À nous la liberté (Freedom for Us) (1931)  \n",
       "userId                                                                    \n",
       "1                         NaN                                        NaN  \n",
       "2                         NaN                                        NaN  \n",
       "3                         NaN                                        NaN  \n",
       "4                         NaN                                        NaN  \n",
       "5                         NaN                                        NaN  \n",
       "\n",
       "[5 rows x 9719 columns]"
      ]
     },
     "execution_count": 23,
     "metadata": {},
     "output_type": "execute_result"
    }
   ],
   "source": [
    "train.head()"
   ]
  },
  {
   "cell_type": "code",
   "execution_count": 90,
   "id": "3cd6557d",
   "metadata": {
    "ExecuteTime": {
     "end_time": "2022-04-20T00:32:11.001018Z",
     "start_time": "2022-04-20T00:32:10.871367Z"
    }
   },
   "outputs": [],
   "source": [
    "#validate that for a row, the data in the train, val and test split are exactly \n",
    "#the same as the original dataset\n",
    "a, b = train.iloc[26].loc[train.iloc[26].notnull()], val.iloc[26].loc[val.iloc[26].notnull()]\n",
    "c = test.iloc[26].loc[test.iloc[26].notnull()]\n",
    "d= list(a.index)+list(b.index)+list(c.index)\n",
    "e = u.iloc[27].loc[u.iloc[27].notnull()]\n",
    "\n",
    "f = list(e.index.sort_values())\n",
    "##commented code will work on the next time i run it, i made a mistake in indexing above in my loop\n",
    "# a, b = train.iloc[27].loc[train.iloc[27].notnull()], val.iloc[27].loc[val.iloc[27].notnull()]\n",
    "# c = test.iloc[27].loc[test.iloc[27].notnull()]\n",
    "# d= list(a.index)+list(b.index)+list(c.index)\n",
    "# e = u.iloc[27].loc[u.iloc[27].notnull()]"
   ]
  },
  {
   "cell_type": "code",
   "execution_count": 92,
   "id": "cfbcc933",
   "metadata": {
    "ExecuteTime": {
     "end_time": "2022-04-20T00:32:14.813070Z",
     "start_time": "2022-04-20T00:32:14.805196Z"
    }
   },
   "outputs": [
    {
     "data": {
      "text/plain": [
       "True"
      ]
     },
     "execution_count": 92,
     "metadata": {},
     "output_type": "execute_result"
    }
   ],
   "source": [
    "#confirm list for userId 28, movies they've rated are the same \n",
    "d.sort()\n",
    "d == f"
   ]
  },
  {
   "cell_type": "code",
   "execution_count": 32,
   "id": "72a7a23e",
   "metadata": {
    "ExecuteTime": {
     "end_time": "2022-04-20T00:24:15.125846Z",
     "start_time": "2022-04-20T00:24:15.117340Z"
    }
   },
   "outputs": [
    {
     "data": {
      "text/plain": [
       "3.0"
      ]
     },
     "execution_count": 32,
     "metadata": {},
     "output_type": "execute_result"
    }
   ],
   "source": [
    "e['Wrestler, The (2008)']"
   ]
  },
  {
   "cell_type": "code",
   "execution_count": 93,
   "id": "32fbc706",
   "metadata": {
    "ExecuteTime": {
     "end_time": "2022-04-20T00:32:42.518764Z",
     "start_time": "2022-04-20T00:32:42.509250Z"
    }
   },
   "outputs": [
    {
     "data": {
      "text/plain": [
       "True"
      ]
     },
     "execution_count": 93,
     "metadata": {},
     "output_type": "execute_result"
    }
   ],
   "source": [
    "## confirming that ratings are the same  for a single movie \n",
    "e['Wrestler, The (2008)'] == c['Wrestler, The (2008)'] #move is exclusively in testing data\n",
    "\n",
    "#a['Wrestler, The (2008)'] not present in training data\n",
    "#b['Wrestler, The (2008)'] not present in validation data"
   ]
  },
  {
   "cell_type": "code",
   "execution_count": 94,
   "id": "3f5b684c",
   "metadata": {
    "ExecuteTime": {
     "end_time": "2022-04-20T00:32:44.149698Z",
     "start_time": "2022-04-20T00:32:44.139867Z"
    }
   },
   "outputs": [
    {
     "name": "stdout",
     "output_type": "stream",
     "text": [
      "341.4 350 110 109\n"
     ]
    },
    {
     "data": {
      "text/plain": [
       "True"
      ]
     },
     "execution_count": 94,
     "metadata": {},
     "output_type": "execute_result"
    }
   ],
   "source": [
    "#lastly, making sure the proportions are correct (60% train, 20% val, 20% test)\n",
    "print(len(e)*.6, len(a),len(b),len(c))\n",
    "352+107+110 == len(e) \n",
    "#percentages are rough, but it checks out, would have expected ~113 in test/val but this is good enough "
   ]
  },
  {
   "cell_type": "markdown",
   "id": "fca07948",
   "metadata": {},
   "source": [
    "## Maybe Useful, later"
   ]
  },
  {
   "cell_type": "code",
   "execution_count": null,
   "id": "863ec55b",
   "metadata": {},
   "outputs": [],
   "source": [
    "\n",
    "#u =  u.pivot(index='userId', columns = 'title', values ='rating')\n",
    "#https://towardsdatascience.com/working-with-sparse-data-sets-in-pandas-and-sklearn-d26c1cfbe067 \n",
    "#make a sparse dataframe, because we can use sci-py and sci-kit learn to get our train test validation split\n",
    "#light fm doesn't work on greene\n",
    "#this also one hot encodes userId and movie, which is useful for when we do splitting on X,y\n",
    "# sparse_u = pd.get_dummies(u, columns=['userId', 'title'], sparse=True)\n",
    "\n",
    "# y_sparse = sparse_u['rating']\n",
    "# X_sparse = scipy.sparse.csr_matrix(sparse_u[sparse_u.columns.difference(['rating'])])\n",
    "\n",
    "\n",
    "\n"
   ]
  },
  {
   "cell_type": "code",
   "execution_count": null,
   "id": "ecc28247",
   "metadata": {},
   "outputs": [],
   "source": [
    "\n",
    "\n",
    "#def get_release_year(df,column):\n",
    "    \"\"\"\n",
    "    df = dataframe with a column we want to convert from utc time data to d/m/Y\n",
    "    column - string of column name, \n",
    "    \"\"\"\n",
    "    #grabs the last 4 characters, usually a year, but does not work all the time for all movies on small dataset\n",
    "    #release_year_array = df[column].str[-5:-1]\n",
    "    #df.Salary.apply(lambda x: np.where(x.isdigit(),x,'0'))\n",
    "    #will need to see how the full dataset has missing years, and how to do deal with movies with no year\n",
    "    #return(df)"
   ]
  }
 ],
 "metadata": {
  "kernelspec": {
   "display_name": "Python 3",
   "language": "python",
   "name": "python3"
  },
  "language_info": {
   "codemirror_mode": {
    "name": "ipython",
    "version": 3
   },
   "file_extension": ".py",
   "mimetype": "text/x-python",
   "name": "python",
   "nbconvert_exporter": "python",
   "pygments_lexer": "ipython3",
   "version": "3.8.8"
  },
  "latex_envs": {
   "LaTeX_envs_menu_present": true,
   "autoclose": false,
   "autocomplete": true,
   "bibliofile": "biblio.bib",
   "cite_by": "apalike",
   "current_citInitial": 1,
   "eqLabelWithNumbers": true,
   "eqNumInitial": 1,
   "hotkeys": {
    "equation": "Ctrl-E",
    "itemize": "Ctrl-I"
   },
   "labels_anchors": false,
   "latex_user_defs": false,
   "report_style_numbering": false,
   "user_envs_cfg": false
  },
  "toc": {
   "base_numbering": 1,
   "nav_menu": {},
   "number_sections": true,
   "sideBar": true,
   "skip_h1_title": false,
   "title_cell": "Table of Contents",
   "title_sidebar": "Contents",
   "toc_cell": false,
   "toc_position": {},
   "toc_section_display": true,
   "toc_window_display": false
  },
  "varInspector": {
   "cols": {
    "lenName": 16,
    "lenType": 16,
    "lenVar": 40
   },
   "kernels_config": {
    "python": {
     "delete_cmd_postfix": "",
     "delete_cmd_prefix": "del ",
     "library": "var_list.py",
     "varRefreshCmd": "print(var_dic_list())"
    },
    "r": {
     "delete_cmd_postfix": ") ",
     "delete_cmd_prefix": "rm(",
     "library": "var_list.r",
     "varRefreshCmd": "cat(var_dic_list()) "
    }
   },
   "types_to_exclude": [
    "module",
    "function",
    "builtin_function_or_method",
    "instance",
    "_Feature"
   ],
   "window_display": false
  }
 },
 "nbformat": 4,
 "nbformat_minor": 5
}
