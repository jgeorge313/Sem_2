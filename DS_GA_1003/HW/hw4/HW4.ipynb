{
 "cells": [
  {
   "cell_type": "markdown",
   "id": "bdf8427c",
   "metadata": {},
   "source": [
    "## HW 4 Probabilistic Models\n",
    "## Joby George (jg6615)\n",
    "\n",
    "## Due 3/23/2022\n",
    "\n",
    "\n",
    "\n"
   ]
  },
  {
   "cell_type": "markdown",
   "id": "6c4ac56a",
   "metadata": {},
   "source": [
    "# Problem 1 Prompt:\n",
    "\n",
    "Prove equivalence of ERM for binary classification using logistic loss and probabilistic approach to logistic regression results in the same minimization problem\n",
    "\n",
    "## Problem 1 Answer\n",
    "\n",
    "### MLE Expression for logistic Regression\n",
    "\n",
    "Using slides 45 and 46 from week two of lecture, we know the logistic log function is \n",
    "$$ L(\\theta) = \\frac{1}{n}\\sum_i^{n}log(1 +e^{-m}) \\space and $$\n",
    "\n",
    "where n = the number of data points\n",
    "\n",
    "$$ m =  y_i\\theta^{T} x_i $$\n",
    "\n",
    "Which is equivalent to:\n",
    "\n",
    "$$ L(\\theta) = \\frac{1}{n}\\sum_i^{n}log(1 +e^{-y_i\\theta^{T}x_i}) \\space \\text  where \\space y \\space \\in {-1,1}$$\n",
    "\n",
    "Which is the expression we would like to minimize to minimize empirical risk.\n",
    "\n",
    "### Negative Log-likelihood for logistic regression\n",
    "\n",
    "### Case 1 Y_i = 0, (-1 in MLE Outcome Space) \n",
    "\n",
    "From slide 19 we observe the log-likelihood we would like to maximize:\n",
    "\n",
    "$$NLL = -\\sum_{i}^{n}y_{i} log(f(\\theta^{T}x_{i}))+(1-y_{i})(log(1−f(\\theta^{T}x_{i})) \\space where \\space y_{i} \\space \\in {0,1} \\space and$$\n",
    "\n",
    "$$f(\\eta) = \\frac{1}{1+e^{\\eta}}$$\n",
    "\n",
    "if $y_{i}$ = 0, we observe this to be:\n",
    "\n",
    "$$NLL = \\sum_{i}^{n}-log(1-f(\\theta^{T}x_{i})) \\space $$\n",
    "\n",
    "\n",
    "plugging  in our logistic link function, if $y_{i}$ = 0 we get:\n",
    "\n",
    "$$NLL = \\sum_{i}^{n}-log(1-\\frac{1}{1+e^{(-\\theta^{T}x_{i})}}) \\space $$\n",
    "\n",
    "setting a common denominator and expanding our logistic, we get: \n",
    "$$NLL = \\sum_{i}^{n}-log(\\frac{1+e^{(-\\theta^{T}x_{i})}-1}{1+e^{(-\\theta^{T}x_{i})}}) \\space $$\n",
    "\n",
    "simplifying this we get \n",
    "$$NLL = \\sum_{i}^{n}-log(\\frac{e^{(-\\theta^{T}x_{i})}}{1+e^{(-\\theta^{T}x_{i})}}) \\space $$\n",
    "\n",
    "multiplying the numerator and denominator by one, expressed as:\n",
    "$$\\frac{e^{(\\theta^{T}x_{i})}}{e^{(\\theta^{T}x_{i})}}$$\n",
    "\n",
    "we get:\n",
    "\n",
    "$$NLL = \\sum_{i}^{n}-log(\\frac{e^{0}}{(1+e^{(-\\theta^{T}x_{i})})   (e^{(\\theta^{T}x_{i})})}) \\space $$\n",
    "\n",
    "\n",
    "which simplifies to \n",
    "$$NLL = \\sum_{i}^{n}-log(\\frac{1}{1+e^{(\\theta^{T}x_{i})}}) \\space $$\n",
    "\n",
    "if we apply the negative sign to the log by taking the reciprocal of it's input, and scale it by a factor of $\\frac{1}{n}$ we end with our final expression:\n",
    "\n",
    "$$NLL = \\frac{1}{n}\\sum_{i}^{n}log(1+e^{\\theta^{T}x_{i}})$$\n",
    "\n",
    "This is equivalent to the MLE when $y_{i}$ = -1:\n",
    "\n",
    "$$ L(\\theta) = \\frac{1}{n}\\sum_i^{n}log(1 +e^{\\theta^{T}x_i}) $$\n",
    "\n",
    "### Case 1 Y_i = 1, (1 in MLE Outcome Space) \n",
    "\n",
    "\n",
    "$$NLL = \\sum_{i}^{n}-log(f(\\theta^{T}x_{i})) \\space $$\n",
    "\n",
    "plugging  in our logistic link function, if $y_{i}$ = 1 we get:\n",
    "\n",
    "$$NLL = \\sum_{i}^{n}-log(\\frac{1}{1+e^{(-\\theta^{T}x_{i})}}) \\space $$\n",
    "\n",
    "if we apply the negative sign to the log by taking the reciprocal of it's input, and scale it by a factor of $\\frac{1}{n}$ we end with our final expression:\n",
    "\n",
    "$$NLL = \\frac{1}{n} \\sum_{i}^{n}log(1+e^{(-\\theta^{T}x_{i})}) \\space $$\n",
    "\n",
    "This is equivalent to the MLE when $y_{i}$ = 1:\n",
    "\n",
    "$$ L(\\theta) = \\frac{1}{n}\\sum_i^{n}log(1 +e^{-\\theta^{T}x_i}) $$\n",
    "\n",
    "### Q.E.D"
   ]
  },
  {
   "cell_type": "code",
   "execution_count": null,
   "id": "5ddb2aa1",
   "metadata": {},
   "outputs": [],
   "source": []
  }
 ],
 "metadata": {
  "kernelspec": {
   "display_name": "Python 3",
   "language": "python",
   "name": "python3"
  },
  "language_info": {
   "codemirror_mode": {
    "name": "ipython",
    "version": 3
   },
   "file_extension": ".py",
   "mimetype": "text/x-python",
   "name": "python",
   "nbconvert_exporter": "python",
   "pygments_lexer": "ipython3",
   "version": "3.8.8"
  },
  "latex_envs": {
   "LaTeX_envs_menu_present": true,
   "autoclose": false,
   "autocomplete": true,
   "bibliofile": "biblio.bib",
   "cite_by": "apalike",
   "current_citInitial": 1,
   "eqLabelWithNumbers": true,
   "eqNumInitial": 1,
   "hotkeys": {
    "equation": "Ctrl-E",
    "itemize": "Ctrl-I"
   },
   "labels_anchors": false,
   "latex_user_defs": false,
   "report_style_numbering": false,
   "user_envs_cfg": false
  },
  "toc": {
   "base_numbering": 1,
   "nav_menu": {},
   "number_sections": true,
   "sideBar": true,
   "skip_h1_title": false,
   "title_cell": "Table of Contents",
   "title_sidebar": "Contents",
   "toc_cell": false,
   "toc_position": {},
   "toc_section_display": true,
   "toc_window_display": false
  },
  "varInspector": {
   "cols": {
    "lenName": 16,
    "lenType": 16,
    "lenVar": 40
   },
   "kernels_config": {
    "python": {
     "delete_cmd_postfix": "",
     "delete_cmd_prefix": "del ",
     "library": "var_list.py",
     "varRefreshCmd": "print(var_dic_list())"
    },
    "r": {
     "delete_cmd_postfix": ") ",
     "delete_cmd_prefix": "rm(",
     "library": "var_list.r",
     "varRefreshCmd": "cat(var_dic_list()) "
    }
   },
   "types_to_exclude": [
    "module",
    "function",
    "builtin_function_or_method",
    "instance",
    "_Feature"
   ],
   "window_display": false
  }
 },
 "nbformat": 4,
 "nbformat_minor": 5
}
