{
 "cells": [
  {
   "cell_type": "markdown",
   "id": "bdf8427c",
   "metadata": {},
   "source": [
    "## HW 4 Probabilistic Models\n",
    "## Joby George (jg6615)\n",
    "\n",
    "## Due 3/23/2022\n",
    "\n",
    "\n",
    "\n"
   ]
  },
  {
   "cell_type": "markdown",
   "id": "6c4ac56a",
   "metadata": {},
   "source": [
    "# Problem 1 Prompt:\n",
    "\n",
    "Prove equivalence of ERM for binary classification using logistic loss and probabilistic approach to logistic regression results in the same minimization problem\n",
    "\n",
    "## Problem 1 Answer\n",
    "\n",
    "### MLE Expression for logistic Regression\n",
    "\n",
    "Using slides 45 and 46 from week two of lecture, we know the logistic log function is \n",
    "$$ L(\\theta) = \\frac{1}{n}\\sum_i^{n}log(1 +e^{-m}) \\space and $$\n",
    "\n",
    "where n = the number of data points\n",
    "\n",
    "$$ m =  y_i\\theta^{T} x_i $$\n",
    "\n",
    "Which is equivalent to:\n",
    "\n",
    "$$ L(\\theta) = \\frac{1}{n}\\sum_i^{n}log(1 +e^{-y_i\\theta^{T}x_i}) \\space \\text  where \\space y \\space \\in {-1,1}$$\n",
    "\n",
    "Which is the expression we would like to minimize to minimize empirical risk.\n",
    "\n",
    "### Negative Log-likelihood for logistic regression\n",
    "\n",
    "### Case 1 Y_i = 0, (-1 in MLE Outcome Space) \n",
    "\n",
    "From slide 19 we observe the log-likelihood we would like to maximize:\n",
    "\n",
    "$$NLL = -\\sum_{i}^{n}y_{i} log(f(\\theta^{T}x_{i}))+(1-y_{i})(log(1−f(\\theta^{T}x_{i})) \\space where \\space y_{i} \\space \\in {0,1} \\space and$$\n",
    "\n",
    "$$f(\\eta) = \\frac{1}{1+e^{\\eta}}$$\n",
    "\n",
    "if $y_{i}$ = 0, we observe this to be:\n",
    "\n",
    "$$NLL = \\sum_{i}^{n}-log(1-f(\\theta^{T}x_{i})) \\space $$\n",
    "\n",
    "\n",
    "plugging  in our logistic link function, if $y_{i}$ = 0 we get:\n",
    "\n",
    "$$NLL = \\sum_{i}^{n}-log(1-\\frac{1}{1+e^{(-\\theta^{T}x_{i})}}) \\space $$\n",
    "\n",
    "setting a common denominator and expanding our logistic, we get: \n",
    "$$NLL = \\sum_{i}^{n}-log(\\frac{1+e^{(-\\theta^{T}x_{i})}-1}{1+e^{(-\\theta^{T}x_{i})}}) \\space $$\n",
    "\n",
    "simplifying this we get \n",
    "$$NLL = \\sum_{i}^{n}-log(\\frac{e^{(-\\theta^{T}x_{i})}}{1+e^{(-\\theta^{T}x_{i})}}) \\space $$\n",
    "\n",
    "multiplying the numerator and denominator by one, expressed as:\n",
    "$$\\frac{e^{(\\theta^{T}x_{i})}}{e^{(\\theta^{T}x_{i})}}$$\n",
    "\n",
    "we get:\n",
    "\n",
    "$$NLL = \\sum_{i}^{n}-log(\\frac{e^{0}}{(1+e^{(-\\theta^{T}x_{i})})   (e^{(\\theta^{T}x_{i})})}) \\space $$\n",
    "\n",
    "\n",
    "which simplifies to \n",
    "$$NLL = \\sum_{i}^{n}-log(\\frac{1}{1+e^{(\\theta^{T}x_{i})}}) \\space $$\n",
    "\n",
    "if we apply the negative sign to the log by taking the reciprocal of it's input, and scale it by a factor of $\\frac{1}{n}$ we end with our final expression:\n",
    "\n",
    "$$NLL = \\frac{1}{n}\\sum_{i}^{n}log(1+e^{\\theta^{T}x_{i}})$$\n",
    "\n",
    "This is equivalent to the MLE when $y_{i}$ = -1:\n",
    "\n",
    "$$ L(\\theta) = \\frac{1}{n}\\sum_i^{n}log(1 +e^{\\theta^{T}x_i}) $$\n",
    "\n",
    "### Case 1 Y_i = 1, (1 in MLE Outcome Space) \n",
    "\n",
    "\n",
    "$$NLL = \\sum_{i}^{n}-log(f(\\theta^{T}x_{i})) \\space $$\n",
    "\n",
    "plugging  in our logistic link function, if $y_{i}$ = 1 we get:\n",
    "\n",
    "$$NLL = \\sum_{i}^{n}-log(\\frac{1}{1+e^{(-\\theta^{T}x_{i})}}) \\space $$\n",
    "\n",
    "if we apply the negative sign to the log by taking the reciprocal of it's input, and scale it by a factor of $\\frac{1}{n}$ we end with our final expression:\n",
    "\n",
    "$$NLL = \\frac{1}{n} \\sum_{i}^{n}log(1+e^{(-\\theta^{T}x_{i})}) \\space $$\n",
    "\n",
    "This is equivalent to the MLE when $y_{i}$ = 1:\n",
    "\n",
    "$$ L(\\theta) = \\frac{1}{n}\\sum_i^{n}log(1 +e^{-\\theta^{T}x_i}) $$\n",
    "\n",
    "### Q.E.D"
   ]
  },
  {
   "cell_type": "markdown",
   "id": "1fce7b6d",
   "metadata": {},
   "source": [
    "# Problem 2 Prompt:\n",
    "\n",
    "Show that the decision boundary of logistic regression is given by x : $x^T$w = 0. Note that the set will not change if we multiply the weights by some constant c.\n",
    "\n",
    "## Problem 2 answer\n",
    "\n",
    "First let's prove that the decision boundary equals $x^T$w, we start with the log odds ratio from the slides:\n",
    "\n",
    "$$log(\\frac{P(Y=1|X)}{P(Y=0|X)})$$\n",
    "\n",
    "plugging in our formulas for those two expressions, we get:\n",
    "\n",
    "\n",
    "$$log(\\frac{\\frac{1}{1+e^{(-x^{T}w)}}}{1-\\frac{1}{1+e^{(-x^{T}w)}}})$$\n",
    "\n",
    "Focusing only on the denominator P(Y=0|X), we can simplify it by setting a common denominator and algebraically manipulating it.\n",
    "\n",
    "$$denominator = \\frac{1+e^{(-x^{T}w)}-1}{1+e^{(-x^{T}w)}}$$\n",
    "\n",
    "$$denominator = \\frac{e^{(-x^{T}w)}}{1+e^{(-x^{T}w)}}$$\n",
    "\n",
    "giving us \n",
    "$$log(\\frac{\\frac{1}{1+e^{(-x^{T}w)}}}{\\frac{e^{(-x^{T}w)}}{1+e^{(-x^{T}w)}}})$$\n",
    "\n",
    "simplifying this by applying the division we get \n",
    "\n",
    "$$log({\\frac{1}{e^{(-x^{T}w)}}})$$\n",
    "\n",
    "multiplying the numerator and denominator by 1 in the form of \n",
    "\n",
    "$$\\frac{e^{(x^{T}w})}{e^{(x^{T}w)}}$$\n",
    "\n",
    "we get \n",
    "\n",
    "$$log({\\frac{e^{(x^{T}w)}}{1}}) = x^Tw $$\n",
    "\n",
    "Thus proving our log odds function is the decision boundary.\n",
    "\n",
    "Next, to prove that our decision boundary is 0. By definition, the decision boundary is where the P(y=1|x) = P(y=0|x) = .5\n",
    "\n",
    "Plugging this into our equation for P(Y=1|X), we observe:\n",
    "\n",
    "\n",
    "$${\\frac{1}{1+e^{(-x^{T}w)}}} = \\frac{1}{2}$$\n",
    "\n",
    "$$2 = {1+e^{(-x^{T}w)}} $$\n",
    "\n",
    "$$1 = e^{(-x^{T}w)} $$\n",
    "\n",
    "$$log(1) = -x^Tw $$\n",
    "\n",
    "$$x^Tw = 0$$ \n",
    "\n",
    "Solving for P(Y=0|X), we observe:\n",
    "\n",
    "\n",
    "$${1-\\frac{1}{1+e^{(-x^{T}w)}}} = \\frac{1}{2}$$\n",
    "\n",
    "simplifying via a common denominator, we get:\n",
    "\n",
    "$$\\frac{e^{(-x^{T}w)}}{1+e^{(-x^{T}w)}} = \\frac{1}{2}  $$\n",
    "\n",
    "Cross multiplying we get:\n",
    "$$ 2e^{(-x^{T}w)} = 1+e^{(-x^{T}w)} $$\n",
    "\n",
    "subtracting one common term we get \n",
    "\n",
    "$$e^{(-x^{T}w)} = 1 $$\n",
    "\n",
    "taking the log of both sides we get:\n",
    "\n",
    "$$x^{T}w = 0$$\n",
    "\n",
    "This shows that the decision boundary, defined by when the log odds of both classes are equivalent, must be when \n",
    "$x^{T}w$ = 0\n",
    "\n",
    "Furthermore we can scale our weights by some constant c to get an equivalent but differently shaped decision boundary, meaning many equally accurate decision boundaries exist for linearly separable data. \n",
    "### Q.E.D\n"
   ]
  },
  {
   "cell_type": "markdown",
   "id": "40f28bbc",
   "metadata": {},
   "source": [
    "# Problem 3 Prompt:\n",
    "Assume the data are linearly separable and we have reached a $\\hat{w}$ that perfectly classifies the data. \n",
    "Show that we can always increase the likelihood of the data by multiplying a scalar c on $\\hat{w}$, which means that MLE is not well-defined in this case. (Hint: You can show this by taking the derivative of L(c$\\hat{w}$) with respect to c, where L is the likelihood function.)\n",
    "\n",
    "## Problem 3 Answer\n",
    "\n",
    "$$L(c\\hat{w})= \\sum_{i}^{n}y_{i} log(f(c\\hat{w}^{T}x_{i}))+(1-y_{i})(log(1−f(c\\hat{w}^{T}x_{i})) \\space where \\space y_{i} \\space \\in {0,1} \\space and$$\n",
    "\n",
    "$$L(c\\hat{w})  \\sum_{i}^{n}y_{i} log(\\frac{1}{1+e^{(-c\\hat{w}^{T}x)}})+(1-y_{i})(log(1-\\frac{1}{1+e^{(-c\\hat{w}^{T}x)}}) \\space where \\space y_{i} \\space \\in {0,1} \\space and$$\n",
    "\n",
    "$$\\frac{\\delta L(c\\hat{w})}{\\delta c}  = \\sum_i^n y_{i}\\frac{(\\hat{w}^{T}x_i)}{1+e^{c\\hat{w}^T x_i}} +(1-y_{i})\\frac{(-\\hat{w}^{T}x_i e^{cw^Tx_i})}{1+e^{cw^Tx_i}} $$\n",
    "\n",
    "Simplifying this we get:\n",
    "$$\\frac{\\delta L(c\\hat{w})}{\\delta c}  = \\sum_i^n \\frac{y_{i}\\hat{w}^{T}x_i + (y_{i}-1)\\hat{w}^{T}x_i e^{cw^Tx_i}}{1+e^{c\\hat{w}^T x_i}}  $$\n",
    "\n",
    "\n",
    "Since all of our predictions are correct, we note that our likelihood function can always increase.\n",
    "\n",
    "When $y_i$ = 1 we see:\n",
    "\n",
    "$$\\frac{\\delta L(c\\hat{w})}{\\delta c}  =  \\frac{\\hat{w}^{T}x_i}{1+e^{c\\hat{w}^T x_i}} $$ \n",
    "\n",
    "Since we are correct in our prediction and y=1, the $\\hat{w}^{T}x_i$ must be positive, meaning we can always increase the likelihood by manipulating c to be a smaller denominator. Furthermore we know the denominator is always positive as well as 1 + $e^{x}$ is lower bounded by 1.\n",
    "\n",
    "\n",
    "When $y_i$ = 0 we see:\n",
    "\n",
    "$$\\frac{\\delta L(c\\hat{w})}{\\delta c}  =  \\frac{-\\hat{w}^{T}x_i}{1+e^{c\\hat{w}^T x_i}} $$ \n",
    "\n",
    "Since $y_i$ = 0, $\\hat{w}^{T}x_i$ must be negative, and when we multiply it by -1, we get a positive number in our numerator. Again, this means we can manipulate c to increase the likelihood by making the denominator smaller. \n",
    "\n",
    "This means that the MLE is not well defined.\n",
    "\n",
    "### Q.E.D."
   ]
  },
  {
   "cell_type": "markdown",
   "id": "f2c24bf2",
   "metadata": {},
   "source": [
    "# Problem 4 Prompt:\n",
    "\n",
    "Prove the objective function $J_{logistic}$ is convex.\n",
    "\n",
    "$$J_{logistic} = \\hat{R}_{n}(w) + \\lambda||w||^{2}$$\n",
    "\n",
    "## Problem 4 Answer\n",
    "\n",
    "From [Professor Rosenberg's notes on convex optimization page 5](https://davidrosenberg.github.io/mlcourse/Notes/convex-optimization.pdf) we see that the Log-Sum-Exp (LSE) is convex\n",
    "\n",
    "$$LSE = log(e^{x_{1}}+ .. e^{x_{n}}) $$\n",
    "\n",
    "Since $\\hat{R}_{n}(w)$ = $\\sum_i^n$(log(1+$e^{-y_iw^Tx_i})$, which can be re-expressed as $\\sum_i^n$(log($e^{0}$+$e^{-y_iw^Tx_i})$, meaning that $\\hat{R}_{n}$(w) is convex\n",
    "\n",
    "Additionally, on the same page of the notes linked above we observe that norms are convex as well.\n",
    "\n",
    "The sum of two convex functions must be convex proving that our objective function $J_{logistic}$ is convex\n",
    "\n",
    "### Q.E.D."
   ]
  },
  {
   "cell_type": "markdown",
   "id": "1210d550",
   "metadata": {},
   "source": [
    "# Problem 5 Prompt\n",
    "\n",
    "Complete the f objective function in the skeleton code, which computes the objective function for $J_{logistic(w)}$. (Hint: you may get numerical overflow when computing the exponential literally, e.g. try $e^{1000}$ in Numpy. Make sure to read about the log-sum-exp trick and use the numpy function logaddexp to get accurate calculations and to prevent overflow.\n",
    "\n",
    "## Problem 5 answer \n",
    "Done below"
   ]
  },
  {
   "cell_type": "code",
   "execution_count": 2,
   "id": "a7fcdced",
   "metadata": {
    "ExecuteTime": {
     "end_time": "2022-03-22T19:47:27.627183Z",
     "start_time": "2022-03-22T19:47:27.619427Z"
    }
   },
   "outputs": [],
   "source": [
    "import numpy as np\n",
    "def f_objective(theta, X, y, l2_param=1):\n",
    "    '''\n",
    "    Args:\n",
    "        theta: 1D numpy array of size num_features\n",
    "        X: 2D numpy array of size (num_instances, num_features)\n",
    "        y: 1D numpy array of size num_instances\n",
    "        l2_param: regularization parameter\n",
    "\n",
    "    Returns:\n",
    "        objective: scalar value of objective function\n",
    "    '''\n",
    "    n = X.shape[0]\n",
    "    scalar = 1/n\n",
    "    loss = 0\n",
    "    for i in range(n):\n",
    "        \"\"\"\n",
    "        logaddexp adds the log(e^(input1), e^input2)\n",
    "        since we want it to be log(1+e^(-y*theta^Tx)) we need to actually pass\n",
    "        0 in as our first input so e^(0) = 1\n",
    "        \"\"\"\n",
    "        loss+=np.logaddexp(0,-y[i]*np.dot(theta,X[i]))\n",
    "    loss*=scalar\n",
    "    return(loss+l2_param*np.dot(theta,theta))\n",
    "    \n",
    "    \n"
   ]
  },
  {
   "cell_type": "markdown",
   "id": "5a2c408a",
   "metadata": {},
   "source": [
    "# Problem 6 Prompt\n",
    "\n",
    "Complete the fit logistic regression function in the skeleton code using the minimize function from scipy.optimize. Use this function to train a model on the provided data. Make sure to take the appropriate preprocessing steps, such as standardizing the data and adding a column for the bias term.\n",
    "\n",
    "## Problem 6 Answer\n",
    "\n",
    "        function completed in the next cell\n",
    "        data loading and preprocessing completed in the cell after \n",
    "        training the model done in the third cell down"
   ]
  },
  {
   "cell_type": "code",
   "execution_count": 7,
   "id": "25ce2cc8",
   "metadata": {
    "ExecuteTime": {
     "end_time": "2022-03-22T19:47:54.497801Z",
     "start_time": "2022-03-22T19:47:54.489940Z"
    }
   },
   "outputs": [],
   "source": [
    "### Finishing the function\n",
    "from scipy.optimize import minimize\n",
    "from functools import partial\n",
    "def fit_logistic_reg(X, y, objective_function, l2_param=1):\n",
    "    '''\n",
    "    Args:\n",
    "        X: 2D numpy array of size (num_instances, num_features)\n",
    "        y: 1D numpy array of size num_instances\n",
    "        objective_function: function returning the value of the objective\n",
    "        l2_param: regularization parameter\n",
    "        \n",
    "    Returns:\n",
    "        optimal_theta: 1D numpy array of size num_features\n",
    "    '''\n",
    "    \"\"\"logic\n",
    "            create an initial feature vector of 1's\n",
    "            create a partial objective function using functools.partial that passes in our \n",
    "            X data, Y data and l2 parameter\n",
    "            call scipy.optimize.minimize on the objective function passing in our initial\n",
    "            feature vector\n",
    "            return the optimized weights\n",
    "    \"\"\"\n",
    "\n",
    "    num_feats = X.shape[1]\n",
    "    w_initial = np.ones(num_feats)\n",
    "    obj_func = partial(objective_function, X=X, y=y, l2_param=l2_param)\n",
    "    \"\"\"\n",
    "    minimize function takes in the function to minimize, with an initial weight vector guess\n",
    "    the optimal feature values are obtained with the .x attribute\n",
    "    \"\"\"\n",
    "    w_star = minimize(obj_func,w_initial).x\n",
    "    return(w_star)\n",
    "    "
   ]
  },
  {
   "cell_type": "code",
   "execution_count": 8,
   "id": "a7326df7",
   "metadata": {
    "ExecuteTime": {
     "end_time": "2022-03-22T19:47:55.092273Z",
     "start_time": "2022-03-22T19:47:55.029436Z"
    }
   },
   "outputs": [],
   "source": [
    "### loading and cleaning data\n",
    "path = 'logistic-code/'\n",
    "file_names = ['X_train.txt', 'X_val.txt', 'y_train.txt', 'y_val.txt']\n",
    "path_list = [path + file_name for file_name in file_names]\n",
    "\n",
    "for i in range(len(path_list)):\n",
    "    if i == 0:\n",
    "        with open(path_list[i]) as textFile:\n",
    "            x_train = [line.split() for line in textFile]\n",
    "        #change data type to reflect an array as data are comma seperated\n",
    "        x_train = [[float(value) for value in row[0].split(',')] for row in x_train]\n",
    "    elif i == 1:\n",
    "        with open(path_list[i]) as textFile:\n",
    "            x_val = [line.split() for line in textFile]\n",
    "        x_val = [[float(value) for value in row[0].split(',')] for row in x_val]\n",
    "    elif i == 2:\n",
    "        with open(path_list[i]) as textFile:\n",
    "                y_train = [line.split() for line in textFile]\n",
    "        y_train = [[float(value) for value in row[0].split(',')] for row in y_train]\n",
    "    else:\n",
    "        with open(path_list[i]) as textFile:\n",
    "            y_val = [line.split() for line in textFile]\n",
    "        y_val = [[float(value) for value in row[0].split(',')] for row in y_val]\n",
    "\n",
    "            \n",
    "        \n",
    "#convert data into numpy arrays\n",
    "x_train, x_val, y_train, y_val,   = np.array(x_train), np.array(x_val), np.array(y_train), np.array(y_val)\n",
    "\n",
    "#preprocessing the data: standardizing the input data\n",
    "from sklearn.preprocessing import StandardScaler\n",
    "\n",
    "SS = StandardScaler()\n",
    "x_train = SS.fit_transform(x_train)\n",
    "x_val = SS.transform(x_val)\n",
    "\n",
    "##preprocessing the data: adding a bias column to x_train and x_val using np.hstack()\n",
    "x_train = np.hstack((x_train, np.ones((x_train.shape[0],1))))\n",
    "x_val = np.hstack((x_val, np.ones((x_val.shape[0],1))))\n",
    "\n",
    "##change y train and val labels to -1 from 0\n",
    "y_train[y_train == 0 ] = -1\n",
    "y_val[y_val==0] = -1"
   ]
  },
  {
   "cell_type": "code",
   "execution_count": 9,
   "id": "72c0d486",
   "metadata": {
    "ExecuteTime": {
     "end_time": "2022-03-22T19:47:58.354675Z",
     "start_time": "2022-03-22T19:47:55.357812Z"
    }
   },
   "outputs": [
    {
     "data": {
      "text/plain": [
       "array([ 0.00095627, -0.00029963,  0.00302671,  0.10532759, -0.00358739,\n",
       "       -0.00135854, -0.00385292, -0.00079012, -0.00114412, -0.07178437,\n",
       "        0.00654884, -0.00451104,  0.01124929, -0.0038644 , -0.00271266,\n",
       "        0.00150356, -0.00278402, -0.00919061, -0.00682285, -0.01027484,\n",
       "        0.00281864])"
      ]
     },
     "execution_count": 9,
     "metadata": {},
     "output_type": "execute_result"
    }
   ],
   "source": [
    "theta = fit_logistic_reg(x_train, y_train, f_objective, l2_param =1)\n"
   ]
  },
  {
   "cell_type": "markdown",
   "id": "26f60920",
   "metadata": {},
   "source": [
    "# Problem 7 Prompt\n",
    "\n",
    "Find the L2 regularization parameter that minimizes the log-likelihood on the validation set. Plot the log-likelihood for different values of the regularization parameter.\n",
    "\n",
    "## Problem 7 Answer\n",
    "done below \n"
   ]
  },
  {
   "cell_type": "code",
   "execution_count": 10,
   "id": "f995cccb",
   "metadata": {
    "ExecuteTime": {
     "end_time": "2022-03-22T19:48:37.247768Z",
     "start_time": "2022-03-22T19:47:58.363291Z"
    }
   },
   "outputs": [],
   "source": [
    "def negative_log_likelihood(theta,X,y):\n",
    "    n = X.shape[0]\n",
    "    loss = 0\n",
    "    for i in range(n):\n",
    "        loss +=np.logaddexp(0,-y[i]*np.dot(theta,X[i]))\n",
    "    return(loss)\n",
    "\n",
    "##initially started with a linspace between 0 and 2 \n",
    "#and noticed decreasing validation performance, so did a narrower range between 0-.1\n",
    "\n",
    "#lambda_list = np.linspace(0,2,10)\n",
    "lambda_list = np.arange(0,.1,.01)\n",
    "\n",
    "\n",
    "result_dict = dict()\n",
    "for lam in lambda_list:\n",
    "    theta = fit_logistic_reg(x_train, y_train,f_objective, l2_param=lam)\n",
    "    result_dict[lam] = negative_log_likelihood(theta,x_val,y_val)\n",
    "    "
   ]
  },
  {
   "cell_type": "code",
   "execution_count": 17,
   "id": "c03fcc4c",
   "metadata": {
    "ExecuteTime": {
     "end_time": "2022-03-22T20:19:32.084616Z",
     "start_time": "2022-03-22T20:19:31.987303Z"
    }
   },
   "outputs": [
    {
     "data": {
      "text/plain": [
       "Text(0, 0.5, 'negative log likelihood')"
      ]
     },
     "execution_count": 17,
     "metadata": {},
     "output_type": "execute_result"
    },
    {
     "data": {
      "image/png": "[encoded data removed]",
      "text/plain": [
       "<Figure size 432x288 with 1 Axes>"
      ]
     },
     "metadata": {
      "needs_background": "light"
     },
     "output_type": "display_data"
    }
   ],
   "source": [
    "import matplotlib.pyplot as plt\n",
    "x_axis = list(result_dict.keys())\n",
    "y_values = list(result_dict.values())\n",
    "plt.plot(x_axis,y_values)\n",
    "plt.xlabel('lambda value')\n",
    "plt.ylabel('negative log likelihood')"
   ]
  },
  {
   "cell_type": "code",
   "execution_count": 12,
   "id": "cb23d024",
   "metadata": {
    "ExecuteTime": {
     "end_time": "2022-03-22T19:48:37.566670Z",
     "start_time": "2022-03-22T19:48:37.563803Z"
    }
   },
   "outputs": [
    {
     "data": {
      "text/plain": [
       "0.02"
      ]
     },
     "execution_count": 12,
     "metadata": {},
     "output_type": "execute_result"
    }
   ],
   "source": [
    "min(result_dict, key=result_dict.get)\n",
    "#optimal lambda = .02"
   ]
  },
  {
   "cell_type": "markdown",
   "id": "1486c255",
   "metadata": {},
   "source": [
    "# Problem 8 Prompt\n",
    "\n",
    "Plot the calibration of your model's probabilistic output. Calibration refers to the proportion of Y = 0 events occur for a given model score (i.e. if the score is .3, we would expect 30% of events to have a label of 0)\n",
    "\n",
    "## Problem 8 answer \n",
    "done below"
   ]
  },
  {
   "cell_type": "code",
   "execution_count": 15,
   "id": "8eb97d8f",
   "metadata": {
    "ExecuteTime": {
     "end_time": "2022-03-22T19:51:28.149804Z",
     "start_time": "2022-03-22T19:51:23.414138Z"
    }
   },
   "outputs": [
    {
     "data": {
      "image/png": "[encoded data removed]",
      "text/plain": [
       "<Figure size 432x288 with 1 Axes>"
      ]
     },
     "metadata": {
      "needs_background": "light"
     },
     "output_type": "display_data"
    }
   ],
   "source": [
    "from sklearn.calibration import calibration_curve\n",
    "\n",
    "#plot a calibration line that shows y = x from 0 to 1\n",
    "plt.plot([0,1],[0,1])\n",
    "optimal_theta = fit_logistic_reg(x_train, y_train, f_objective, l2_param = .02)\n",
    "y_pred = np.dot(x_val, optimal_theta)\n",
    "for i in range(x_val.shape[0]):\n",
    "    y_pred[i] = 1/(1+np.exp(-y_pred[i]))\n",
    "    #this is not a 0 - 1 range, lets scale to 0 and 1\n",
    "y_pred = (y_pred - y_pred.min())/(y_pred.max()-y_pred.min())\n",
    "pos_fraction, mean_pred_val = calibration_curve(y_val, y_pred, n_bins = 10)\n",
    "plt.plot(mean_pred_val, pos_fraction, 's-', label ='accuracy for predicted score')\n",
    "plt.xlabel('predicted score')\n",
    "plt.ylabel('proportion of events with label = 1')\n",
    "plt.title('Calibration curve for our logistic regression')\n",
    "plt.show()\n"
   ]
  },
  {
   "cell_type": "markdown",
   "id": "91efca8a",
   "metadata": {},
   "source": [
    "# Problem 9\n",
    "\n",
    "Consider flipping a biased coin where p (z= H| $\\theta_{1}$) =  $\\theta_{1}$. However, we can't observe the flip directly, and have it reported to us. There is a probability the report is incorrect **if the outcome is a head**, denoted by x: p(x = H|z=H,$\\theta_{2}$) = $\\theta_{2}$. If the outcome is a tails, it will always be correctly reported.\n",
    "\n",
    "**Show that P(x=h|$\\theta_{1}$.$\\theta_{2}$) = $\\theta_{1}$*$\\theta_{2}$**\n",
    "\n",
    "The probability of the report being heads, given the probability of the coin is heads ($\\theta_{1}$) and the probability of the report being accurate is ( $\\theta_{2}$)\n",
    "\n",
    "\n",
    "\n",
    "## Problem 9 answer\n",
    "\n",
    "From this situation, we know that the probability of incorrectly reporting heads is conditionally independent given  z = H. i.e. P(x=H|z=H, $\\theta_2$) = P(x=H|z=H, $\\theta_2$, $\\theta_1$) = $\\theta_2$\n",
    "\n",
    "Furthermore, we know that the probability of getting heads is independent from the probability of reporting heads. \n",
    "P(z=H|$\\theta_1$) = P(z=H|$\\theta_1$, $\\theta_2$) = $\\theta_1$\n",
    "\n",
    "Expressing this, we observe:\n",
    "\n",
    "\n",
    "$$ \\theta_1 \\theta_2 = P(z=H| \\theta_1) * P(x=H | z= H, \\theta_2) $$ \n",
    "\n",
    "Applying conditional independence to our first and second terms we get:\n",
    "\n",
    "$$ \\theta_1 \\theta_2 = P(z=H| \\theta_1,\\theta_2) * P(x=H | z= H, \\theta_2, \\theta_1) $$ \n",
    "\n",
    "By Bayes Rule this equals \n",
    "\n",
    "$$ \\theta_1 \\theta_2 = P(z=H| \\theta_1,\\theta_2) * \\frac{P(x=H \\cap z= H \\cap \\theta_2 \\cap \\theta_1)}{P(Z=H \\cap \\theta_2 \\cap \\theta_1)} $$\n",
    "\n",
    "By chain rule we get:\n",
    "\n",
    "$$ \\theta_1 \\theta_2 = P(z=H| \\theta_1,\\theta_2) * \\frac{P(\\theta_1)* P(\\theta_2|\\theta_1) *P(x=H | \\theta_2, \\theta_1)}{P(\\theta_1)P(\\theta_2|\\theta_1)P(Z=H|\\theta_1,\\theta_2)} $$\n",
    "\n",
    "We observe that two terms in the numerator and denominator cancel each other out, and the last term in the denominator is canceled by the multiplication, giving us. \n",
    "\n",
    "$$ \\theta_1 \\theta_2 = P(x=H | \\theta_1, \\theta_2) $$\n",
    "\n",
    "## Q.E.D"
   ]
  },
  {
   "cell_type": "markdown",
   "id": "6e19a147",
   "metadata": {},
   "source": [
    "# Problem 10 Prompt\n",
    "Given a set of reported results $D_{r}$ of size N, where r = the number of reported heads = h and the number of reported tails = t, what is the likelihood of $D_{r}$ as a function of $\\theta_{1}$ and $\\theta_{2}$\n",
    "\n",
    "## Problem 10 Answer\n",
    "\n",
    "$$L(D_{r}) = P(x=H | \\theta_{1}, \\theta_{2})^{r}*P(x=T|\\theta_{1}, \\theta_{2})^{t} $$\n",
    "\n",
    "$$P(x=H | \\theta_{1}, \\theta_{2})^{r} = (\\theta_{1}\\theta_{2})^{r}$$\n",
    "$$P(x=T | \\theta_{1}, \\theta_{2})^{r} = (1-\\theta_{1}\\theta_{2})^{t}$$\n",
    "\n",
    "Therefore \n",
    "$$L(D_{r}) =(\\theta_{1}\\theta_{2})^{r}(1-\\theta_{1}\\theta_{2})^{t}$$\n",
    "\n",
    "\n",
    "\n",
    "### Q.E.D."
   ]
  },
  {
   "cell_type": "markdown",
   "id": "c81967c4",
   "metadata": {},
   "source": [
    "# Problem 11 Prompt\n",
    "Can we estimate $\\theta_{1}$ and $\\theta_{2}$ using MLE, explain your judgment\n",
    "\n",
    "## Problem 11 answer\n",
    "\n",
    "We cannot adequately estimate these two parameters with MLE given our the way our data are reported back to us.\n",
    "\n",
    "For example, let's say $\\theta_{1}$ = 1 and $\\theta_{2}$ = 0, our report would be entirely tails.\n",
    "\n",
    "There are many solutions to this using an MLE perspective that are radically different, $\\theta_{1}$ = 0 and $\\theta_{2}$ can take any value (as we never observe a heads flip with this coin, so there was no distortion) or the true parameter distribution of $\\theta_{1}$ = 1 and $\\theta_{2}$ = 0.\n",
    "\n",
    "Even in less extreme examples with a balance of heads and tails, we can split weight between our two parameters to end up with the same expected report, giving us unreliable estimators. Using a Bayesian approach with different priors and updating the prior throughout the sequence of events would be a more precise way to estimate the two parameters. \n",
    "\n",
    "Showing this mathematically: \n",
    "\n",
    "$$ Log(L(D_r) = rlog(\\theta_1 \\theta_2) + tlog(1-\\theta_1\\theta_2)$$\n",
    "\n",
    "Differentiating with respect to $\\theta_1$ and setting to zero\n",
    "\n",
    "$$ 0 = \\frac{r}{\\theta_1} - \\frac{t\\theta_2}{1-\\theta_1\\theta_2}$$\n",
    "\n",
    "Solving for $\\theta_1$\n",
    "\n",
    "$$ \\frac{t\\theta_2}{1-\\theta_1\\theta_2} = \\frac{r}{\\theta_1}  $$\n",
    "\n",
    "$$t\\theta_2\\theta_1 = r-r\\theta_1\\theta_2 $$\n",
    "\n",
    "$$t\\theta_2\\theta_1 + r\\theta_1\\theta_2 = r $$\n",
    "\n",
    "$$\\theta_2\\theta_1(t+r) = r $$\n",
    "\n",
    "$$\\theta_2\\theta_1 = \\frac{r}{t+r} $$\n",
    "\n",
    "$$\\theta_1 = \\frac{r}{t+r} * \\frac{1}{\\theta_2}$$\n",
    "\n",
    "This means that the optimal $\\theta_1$ is dependent on $\\theta_2$ which we will also observe is dependent on the optimal $\\theta_1$\n",
    "\n",
    "Differentiating with respect to $\\theta_2$ and setting to zero:\n",
    "\n",
    "$$ 0 = \\frac{r}{\\theta_2} - \\frac{t\\theta_1}{1-\\theta_1\\theta_2}$$\n",
    "\n",
    "Solving for $\\theta_2$\n",
    "\n",
    "$$\\frac{t\\theta_1}{1-\\theta_1\\theta_2} = \\frac{r}{\\theta_2}  $$\n",
    "\n",
    "$$t\\theta_1\\theta_2 = r - r\\theta_1\\theta_2 $$\n",
    "\n",
    "$$t\\theta_1\\theta_2 + r\\theta_1\\theta_2 = r $$\n",
    "\n",
    "$$\\theta_1\\theta_2(t+r) = r  $$\n",
    "\n",
    "$$\\theta_1\\theta_2 = \\frac{r}{t+r} $$\n",
    "\n",
    "$$\\theta_2 = \\frac{r}{t+r} * \\frac{1}{\\theta_1}$$\n",
    "\n",
    "This shows MLE is not a good estimator of these two parameters as we would need to know one in the first place for our MLE estimate for the other to be reasonable.\n",
    "\n",
    "### Q.E.D\n"
   ]
  },
  {
   "cell_type": "code",
   "execution_count": null,
   "id": "5a3fe726",
   "metadata": {},
   "outputs": [],
   "source": []
  }
 ],
 "metadata": {
  "kernelspec": {
   "display_name": "Python 3",
   "language": "python",
   "name": "python3"
  },
  "language_info": {
   "codemirror_mode": {
    "name": "ipython",
    "version": 3
   },
   "file_extension": ".py",
   "mimetype": "text/x-python",
   "name": "python",
   "nbconvert_exporter": "python",
   "pygments_lexer": "ipython3",
   "version": "3.8.8"
  },
  "latex_envs": {
   "LaTeX_envs_menu_present": true,
   "autoclose": false,
   "autocomplete": true,
   "bibliofile": "biblio.bib",
   "cite_by": "apalike",
   "current_citInitial": 1,
   "eqLabelWithNumbers": true,
   "eqNumInitial": 1,
   "hotkeys": {
    "equation": "Ctrl-E",
    "itemize": "Ctrl-I"
   },
   "labels_anchors": false,
   "latex_user_defs": false,
   "report_style_numbering": false,
   "user_envs_cfg": false
  },
  "toc": {
   "base_numbering": 1,
   "nav_menu": {},
   "number_sections": true,
   "sideBar": true,
   "skip_h1_title": false,
   "title_cell": "Table of Contents",
   "title_sidebar": "Contents",
   "toc_cell": false,
   "toc_position": {},
   "toc_section_display": true,
   "toc_window_display": false
  },
  "varInspector": {
   "cols": {
    "lenName": 16,
    "lenType": 16,
    "lenVar": 40
   },
   "kernels_config": {
    "python": {
     "delete_cmd_postfix": "",
     "delete_cmd_prefix": "del ",
     "library": "var_list.py",
     "varRefreshCmd": "print(var_dic_list())"
    },
    "r": {
     "delete_cmd_postfix": ") ",
     "delete_cmd_prefix": "rm(",
     "library": "var_list.r",
     "varRefreshCmd": "cat(var_dic_list()) "
    }
   },
   "types_to_exclude": [
    "module",
    "function",
    "builtin_function_or_method",
    "instance",
    "_Feature"
   ],
   "window_display": false
  }
 },
 "nbformat": 4,
 "nbformat_minor": 5
}
