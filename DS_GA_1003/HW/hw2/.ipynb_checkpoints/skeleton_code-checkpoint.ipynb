{
 "cells": [
  {
   "cell_type": "code",
   "execution_count": 199,
   "id": "822e9f40",
   "metadata": {},
   "outputs": [],
   "source": [
    "import sys\n",
    "import numpy as np\n",
    "import pandas as pd\n",
    "import matplotlib.pyplot as plt\n",
    "from sklearn.model_selection import train_test_split\n",
    "\n",
    "\n",
    "\n",
    "#######################################\n",
    "### Generic gradient checker\n",
    "def generic_gradient_checker(X, y, theta, objective_func, gradient_func, \n",
    "                             epsilon=0.01, tolerance=1e-4):\n",
    "    \"\"\"\n",
    "    The functions takes objective_func and gradient_func as parameters. \n",
    "    And check whether gradient_func(X, y, theta) returned the true \n",
    "    gradient for objective_func(X, y, theta).\n",
    "    Eg: In LSR, the objective_func = compute_square_loss, and gradient_func = compute_square_loss_gradient\n",
    "    \"\"\"\n",
    "    #TODO\n",
    "\n",
    "\n",
    "\n",
    "\n",
    "\n",
    "#######################################\n",
    "### Stochastic gradient descent\n",
    "def stochastic_grad_descent(X, y, alpha=0.01, lambda_reg=10**-2, num_epoch=1000, eta0=False):\n",
    "    \"\"\"\n",
    "    In this question you will implement stochastic gradient descent with regularization term\n",
    "\n",
    "    Args:\n",
    "        X - the feature vector, 2D numpy array of size(num_instances, num_features)\n",
    "        y - the label vector, 1D numpy array of size(num_instances)\n",
    "        alpha - string or float, step size in gradient descent\n",
    "                NOTE: In SGD, it's not a good idea to use a fixed step size. Usually it's set to 1/sqrt(t) or 1/t\n",
    "                if alpha is a float, then the step size in every step is the float.\n",
    "                if alpha == \"1/sqrt(t)\", alpha = 1/sqrt(t).\n",
    "                if alpha == \"1/t\", alpha = 1/t.\n",
    "        lambda_reg - the regularization coefficient\n",
    "        num_epoch - number of epochs to go through the whole training set\n",
    "\n",
    "    Returns:\n",
    "        theta_hist - the history of parameter vector, 3D numpy array of size(num_epoch, num_instances, num_features)\n",
    "                     for instance, theta in epoch 0 should be theta_hist[0], theta in epoch(num_epoch) is theta_hist[-1]\n",
    "        loss hist - the history of loss function vector, 2D numpy array of size(num_epoch, num_instances)\n",
    "    \"\"\"\n",
    "    num_instances, num_features = X.shape[0], X.shape[1]\n",
    "    theta = np.ones(num_features) #Initialize theta\n",
    "\n",
    "    theta_hist = np.zeros((num_epoch, num_instances, num_features)) #Initialize theta_hist\n",
    "    loss_hist = np.zeros((num_epoch, num_instances)) #Initialize loss_hist\n",
    "    #TODO\n",
    "\n",
    "\n",
    "def load_data():\n",
    "    #Loading the dataset\n",
    "    print('loading the dataset')\n",
    "\n",
    "    df = pd.read_csv('ridge_regression_dataset.csv', delimiter=',')\n",
    "    X = df.values[:,:-1]\n",
    "    y = df.values[:,-1]\n",
    "\n",
    "    print('Split into Train and Test')\n",
    "    X_train, X_test, y_train, y_test = train_test_split(X, y, test_size=100, random_state=10)\n",
    "    \n",
    "    print(\"Scaling all to [0, 1]\")\n",
    "    X_train, X_test = feature_normalization(X_train, X_test)\n",
    "    \n",
    "    X_train = np.hstack((X_train, np.ones((X_train.shape[0], 1))))  # Add bias term\n",
    "    X_test = np.hstack((X_test, np.ones((X_test.shape[0], 1))))\n",
    "    return X_train, y_train, X_test, y_test\n",
    "\n"
   ]
  },
  {
   "cell_type": "code",
   "execution_count": 190,
   "id": "31af3d30",
   "metadata": {},
   "outputs": [
    {
     "name": "stderr",
     "output_type": "stream",
     "text": [
      "<ipython-input-175-cdf6df7093a7>:64: RuntimeWarning: overflow encountered in square\n",
      "  return(1/num_rows * sum((y_hat-y)**2))\n",
      "<ipython-input-175-cdf6df7093a7>:63: RuntimeWarning: invalid value encountered in matmul\n",
      "  y_hat = X@theta\n"
     ]
    }
   ],
   "source": [
    "loss_hist_1, theta_list1 = batch_grad_descent(X_train, y_train, alpha=0.1, num_step=1000, grad_check=False)\n",
    "loss_hist_5, theta_listofive = batch_grad_descent(X_train, y_train, alpha=0.5, num_step=1000, grad_check=False)\n",
    "\n",
    "\n",
    "loss_hist_01, theta_listoone = batch_grad_descent(X_train, y_train, alpha=0.01, num_step=1000, grad_check=False)\n",
    "loss_hist_05, theta_listofive = batch_grad_descent(X_train, y_train, alpha=0.05, num_step=1000, grad_check=False)"
   ]
  },
  {
   "cell_type": "markdown",
   "id": "4509c0fa",
   "metadata": {},
   "source": [
    "# Problem 4 Feature Normalization Function and validation\n",
    "\n",
    "In the below cell, i define the function for Feature Normalization as described in the problem.\n",
    "\n",
    "I will QA the function does what it is intended to do by:\n",
    "\n",
    "        1. running the load data function, which calls our feature_normalization function\n",
    "        \n",
    "        2. evaluate the number of unique values in train and test set \\\n",
    "            success criteria: num_unique_values >= 2\n",
    "            \n",
    "        3. evaluate the range of values in train and test set \n",
    "            success criteria: all columns range from 0 to 1 in the train data set"
   ]
  },
  {
   "cell_type": "code",
   "execution_count": 195,
   "id": "1413c3c7",
   "metadata": {},
   "outputs": [],
   "source": [
    "def feature_normalization(train, test):\n",
    "    \"\"\"Rescale the data so that each feature in the training set is in\n",
    "    the interval [0,1], and apply the same transformations to the test\n",
    "    set, using the statistics computed on the training set.\n",
    "\n",
    "    Args:\n",
    "        train - training set, a 2D numpy array of size(num_instances, num_features)\n",
    "        test - test set, a 2D numpy array of size(num_instances, num_features)\n",
    "\n",
    "    Returns:\n",
    "        train_normalized - training set after normalization\n",
    "        test_normalized - test set after normalization\n",
    "    \"\"\"\n",
    "    \n",
    "    #implement constant feature value check on both train and test:\n",
    "    train_normalized, test_normalized = [], []\n",
    "    \n",
    "    for feature_index in range(0,train.shape[1]):\n",
    "\n",
    "        feature = train[:,feature_index]\n",
    "        if len(np.unique(feature)) > 1:\n",
    "            feature_min = np.min(feature)\n",
    "            feature_max = np.max(feature)\n",
    "            \n",
    "            train[:,feature_index] = (train[:,feature_index] - feature_min)/(feature_max- feature_min)\n",
    "            train_normalized.append(train[:,feature_index])\n",
    "            \n",
    "            test[:,feature_index] = (test[:,feature_index]-feature_min)/(feature_max- feature_min)\n",
    "            test_normalized.append(test[:,feature_index])\n",
    "            \n",
    "    train_normalized = np.array(train_normalized).T\n",
    "    test_normalized = np.array(test_normalized).T\n",
    "    \n",
    "    return(train_normalized, test_normalized)\n",
    "            "
   ]
  },
  {
   "cell_type": "code",
   "execution_count": 196,
   "id": "ddc1c6bc",
   "metadata": {},
   "outputs": [
    {
     "name": "stdout",
     "output_type": "stream",
     "text": [
      "loading the dataset\n",
      "Split into Train and Test\n",
      "Scaling all to [0, 1]\n"
     ]
    }
   ],
   "source": [
    "X_train, y_train, X_test, y_test = load_data()"
   ]
  },
  {
   "cell_type": "code",
   "execution_count": 227,
   "id": "c51ca550",
   "metadata": {},
   "outputs": [
    {
     "data": {
      "text/plain": [
       "True"
      ]
     },
     "execution_count": 227,
     "metadata": {},
     "output_type": "execute_result"
    }
   ],
   "source": [
    "#https://stackoverflow.com/questions/48473056/number-of-unique-elements-per-row-in-a-numpy-array\n",
    "from toolz import compose\n",
    "\n",
    "#code commented to reduce clutter during submission of notebook\n",
    "\n",
    "cond1 = min(np.apply_along_axis(compose(len, np.unique), 0, X_train[:,0:48])) >= 2 \n",
    "\n",
    "cond2 = min(np.apply_along_axis(compose(len, np.unique), 0, X_test[:,0:48])) >=2\n",
    "\n",
    "cond1 + cond2"
   ]
  },
  {
   "cell_type": "code",
   "execution_count": 228,
   "id": "cfe89869",
   "metadata": {},
   "outputs": [
    {
     "data": {
      "text/plain": [
       "True"
      ]
     },
     "execution_count": 228,
     "metadata": {},
     "output_type": "execute_result"
    }
   ],
   "source": [
    "cond1 = max(X_train[0:48].max(axis=0)) == 1\n",
    "cond2 = min(X_train[:,0:48].min(axis=0)) == 1\n",
    "\n",
    "cond1 + cond2"
   ]
  },
  {
   "cell_type": "markdown",
   "id": "eaaf7ffd",
   "metadata": {},
   "source": [
    "## Problem 4 validation\n",
    "\n",
    "Success criteria number 1 and 2 were met for all columns, except the last column which reflects our bias term and is a column of a singular value of 1.\n",
    "\n",
    "This column is created after our feature normalization, so the function works to our expectaiton"
   ]
  },
  {
   "cell_type": "markdown",
   "id": "2a5f38bd",
   "metadata": {},
   "source": [
    "# Problem 8\n",
    "\n",
    "Complete the compute_square_loss function, done below"
   ]
  },
  {
   "cell_type": "code",
   "execution_count": 229,
   "id": "525710fd",
   "metadata": {},
   "outputs": [],
   "source": [
    "### The square loss function\n",
    "def compute_square_loss(X, y, theta):\n",
    "    \"\"\"\n",
    "    Given a set of X, y, theta, compute the average square loss for predicting y with X*theta.\n",
    "\n",
    "    Args:\n",
    "        X - the feature vector, 2D numpy array of size(num_instances, num_features)\n",
    "        y - the label vector, 1D numpy array of size(num_instances)\n",
    "        theta - the parameter vector, 1D array of size(num_features)\n",
    "\n",
    "    Returns:\n",
    "        loss - the average square loss, scalar\n",
    "    \"\"\"\n",
    "    num_rows = X.shape[0]\n",
    "    y_hat = X@theta\n",
    "    return(1/num_rows * sum((y_hat-y)**2))"
   ]
  },
  {
   "cell_type": "markdown",
   "id": "e3787df5",
   "metadata": {},
   "source": [
    "# Problem 9\n",
    "\n",
    "Complete the compute_square_loss_gradient function, done below"
   ]
  },
  {
   "cell_type": "code",
   "execution_count": 230,
   "id": "1ea46c05",
   "metadata": {},
   "outputs": [],
   "source": [
    "def compute_square_loss_gradient(X, y, theta):\n",
    "    \"\"\"\n",
    "    Compute the gradient of the average square loss(as defined in compute_square_loss), at the point theta.\n",
    "\n",
    "    Args:\n",
    "        X - the feature vector, 2D numpy array of size(num_instances, num_features)\n",
    "        y - the label vector, 1D numpy array of size(num_instances)\n",
    "        theta - the parameter vector, 1D numpy array of size(num_features)\n",
    "\n",
    "    Returns:\n",
    "        grad - gradient vector, 1D numpy array of size(num_features)\n",
    "    \"\"\"\n",
    "    #Calculate number of observations\n",
    "    m = X.shape[0]\n",
    "    #Calculate gradient using closed form solution from problem 6\n",
    "    gradient = ((X.T @ X @ theta) - (X.T @ y)) * 2/m\n",
    "    #Return gradient\n",
    "    return(gradient)\n",
    "\n"
   ]
  },
  {
   "cell_type": "markdown",
   "id": "fd3ffdee",
   "metadata": {},
   "source": [
    "# Problem 10\n",
    "\n",
    "Complete the function grad_checker, done below "
   ]
  },
  {
   "cell_type": "code",
   "execution_count": 231,
   "id": "ded4a02e",
   "metadata": {},
   "outputs": [],
   "source": [
    "#######################################\n",
    "### Gradient checker\n",
    "#Getting the gradient calculation correct is often the trickiest part\n",
    "#of any gradient-based optimization algorithm. Fortunately, it's very\n",
    "#easy to check that the gradient calculation is correct using the\n",
    "#definition of gradient.\n",
    "#See http://ufldl.stanford.edu/wiki/index.php/Gradient_checking_and_advanced_optimization\n",
    "def grad_checker(X, y, theta, epsilon=0.01, tolerance=1e-4):\n",
    "    \"\"\"Implement Gradient Checker\n",
    "    Check that the function compute_square_loss_gradient returns the\n",
    "    correct gradient for the given X, y, and theta.\n",
    "\n",
    "    Let d be the number of features. Here we numerically estimate the\n",
    "    gradient by approximating the directional derivative in each of\n",
    "    the d coordinate directions:\n",
    "(e_1 =(1,0,0,...,0), e_2 =(0,1,0,...,0), ..., e_d =(0,...,0,1))\n",
    "\n",
    "    The approximation for the directional derivative of J at the point\n",
    "    theta in the direction e_i is given by:\n",
    "(J(theta + epsilon * e_i) - J(theta - epsilon * e_i)) /(2*epsilon).\n",
    "\n",
    "    We then look at the Euclidean distance between the gradient\n",
    "    computed using this approximation and the gradient computed by\n",
    "    compute_square_loss_gradient(X, y, theta).  If the Euclidean\n",
    "    distance exceeds tolerance, we say the gradient is incorrect.\n",
    "\n",
    "    Args:\n",
    "        X - the feature vector, 2D numpy array of size(num_instances, num_features)\n",
    "        y - the label vector, 1D numpy array of size(num_instances)\n",
    "        theta - the parameter vector, 1D numpy array of size(num_features)\n",
    "        epsilon - the epsilon used in approximation\n",
    "        tolerance - the tolerance error\n",
    "\n",
    "    Return:\n",
    "        A boolean value indicating whether the gradient is correct or not\n",
    "    \"\"\"\n",
    "    true_gradient = compute_square_loss_gradient(X, y, theta) #The true gradient\n",
    "    \n",
    "    num_features = len(theta)\n",
    "    \n",
    "    temp_list = []\n",
    "    identity = np.identity(len(theta))\n",
    "    \n",
    "    for i in range(len(theta)):\n",
    "        first_part = compute_square_loss(X,y,theta+epsilon*identity[:,i])\n",
    "        second_part = compute_square_loss(X,y,theta-epsilon*identity[:,i])\n",
    "        \n",
    "        answer = (first_part - second_part)/(2*epsilon)\n",
    "        temp_list.append(answer)\n",
    "        \n",
    "    answer = np.array(temp_list)\n",
    "    \n",
    "    vector_distance = (true_gradient-answer)**2\n",
    "    \n",
    "    l2_distance = np.sqrt(np.sum(vector_distance))\n",
    "    \n",
    "    if l2_distance < tolerance:\n",
    "        return(True)\n",
    "        #return(True)\n",
    "    else:\n",
    "        return(False)"
   ]
  },
  {
   "cell_type": "markdown",
   "id": "5beb2052",
   "metadata": {},
   "source": [
    "# Problem 11\n",
    "\n",
    "Complete the function batch_gradient_descent, done below"
   ]
  },
  {
   "cell_type": "code",
   "execution_count": 266,
   "id": "a9ce728b",
   "metadata": {},
   "outputs": [],
   "source": [
    "### Batch gradient descent\n",
    "def batch_grad_descent(X, y, alpha=0.1, num_step=1000, grad_check=False):\n",
    "    \"\"\"\n",
    "    In this question you will implement batch gradient descent to\n",
    "    minimize the average square loss objective.\n",
    "\n",
    "    Args:\n",
    "        X - the feature vector, 2D numpy array of size(num_instances, num_features)\n",
    "        y - the label vector, 1D numpy array of size(num_instances)\n",
    "        alpha - step size in gradient descent\n",
    "        num_step - number of steps to run\n",
    "        grad_check - a boolean value indicating whether checking the gradient when updating\n",
    "\n",
    "    Returns:\n",
    "        theta_hist - the history of parameter vector, 2D numpy array of size(num_step+1, num_features)\n",
    "                     for instance, theta in step 0 should be theta_hist[0], theta in step(num_step) is theta_hist[-1]\n",
    "        loss_hist - the history of average square loss on the data, 1D numpy array,(num_step+1)\n",
    "    \"\"\"\n",
    "    \n",
    "    num_instances, num_features = X.shape[0], X.shape[1]\n",
    "    theta_hist = np.zeros((num_step + 1, num_features))  #Initialize theta_hist\n",
    "    loss_hist = np.zeros(num_step + 1)  #Initialize loss_hist\n",
    "    theta = np.zeros(num_features)  #Initialize theta\n",
    "    \n",
    "    for i in range(0,num_step):\n",
    "        #Compute Gradient and Calculate and Append Loss\n",
    "        temp_grad = compute_square_loss_gradient(X,y,theta)\n",
    "        loss_hist[i] = compute_square_loss(X,y,theta)\n",
    "\n",
    "        #Calculate and write new theta\n",
    "        theta = theta - (alpha * temp_grad)\n",
    "        theta_hist[i,:] = theta\n",
    "    loss_hist[1000] = compute_square_loss(X,y,theta)\n",
    "    #Return theta_hist, loss_hist    \n",
    "    return theta_hist, loss_hist    "
   ]
  },
  {
   "cell_type": "markdown",
   "id": "1e78b5be",
   "metadata": {},
   "source": [
    "# Problem 12:\n",
    "\n",
    "Run batch gradient descent, varying step sizes of .5, .1, .05 and .01\n",
    "\n",
    "Plot average square loss on the training set as afunction of the number of steps for each learning rate"
   ]
  },
  {
   "cell_type": "code",
   "execution_count": 267,
   "id": "306acba6",
   "metadata": {},
   "outputs": [
    {
     "name": "stderr",
     "output_type": "stream",
     "text": [
      "<ipython-input-229-160399dc77d2>:16: RuntimeWarning: overflow encountered in double_scalars\n",
      "  return(1/num_rows * sum((y_hat-y)**2))\n",
      "<ipython-input-229-160399dc77d2>:16: RuntimeWarning: overflow encountered in square\n",
      "  return(1/num_rows * sum((y_hat-y)**2))\n",
      "<ipython-input-230-58f67f47251f>:16: RuntimeWarning: overflow encountered in multiply\n",
      "  gradient = ((X.T @ X @ theta) - (X.T @ y)) * 2/m\n",
      "<ipython-input-229-160399dc77d2>:15: RuntimeWarning: invalid value encountered in matmul\n",
      "  y_hat = X@theta\n",
      "<ipython-input-266-c5439029b13f>:31: RuntimeWarning: invalid value encountered in subtract\n",
      "  theta = theta - (alpha * temp_grad)\n",
      "<ipython-input-230-58f67f47251f>:16: RuntimeWarning: overflow encountered in matmul\n",
      "  gradient = ((X.T @ X @ theta) - (X.T @ y)) * 2/m\n"
     ]
    }
   ],
   "source": [
    "theta_hist_5, loss_hist_5 = batch_grad_descent(X_train,y_train, alpha =.5)\n",
    "theta_hist_1, loss_hist_1 = batch_grad_descent(X_train,y_train, alpha =.1)\n",
    "theta_hist_01, loss_hist_01 = batch_grad_descent(X_train,y_train, alpha =.05)\n",
    "theta_hist_05, loss_hist_05 = batch_grad_descent(X_train,y_train, alpha =.01)"
   ]
  },
  {
   "cell_type": "code",
   "execution_count": 249,
   "id": "c770486d",
   "metadata": {},
   "outputs": [
    {
     "data": {
      "text/plain": [
       "1001"
      ]
     },
     "execution_count": 249,
     "metadata": {},
     "output_type": "execute_result"
    }
   ],
   "source": [
    "len(x_axis)"
   ]
  },
  {
   "cell_type": "code",
   "execution_count": 268,
   "id": "f27d7ecc",
   "metadata": {},
   "outputs": [
    {
     "data": {
      "text/plain": [
       "3.75301723655707"
      ]
     },
     "execution_count": 268,
     "metadata": {},
     "output_type": "execute_result"
    }
   ],
   "source": [
    "loss_hist_01[100]"
   ]
  },
  {
   "cell_type": "code",
   "execution_count": 284,
   "id": "60cfc9a0",
   "metadata": {},
   "outputs": [
    {
     "name": "stderr",
     "output_type": "stream",
     "text": [
      "/Users/jobygeorge/opt/anaconda3/lib/python3.8/site-packages/numpy/ma/core.py:6845: RuntimeWarning: overflow encountered in power\n",
      "  result = np.where(m, fa, umath.power(fa, fb)).view(basetype)\n"
     ]
    },
    {
     "data": {
      "text/plain": [
       "<matplotlib.legend.Legend at 0x7faf6c763a90>"
      ]
     },
     "execution_count": 284,
     "metadata": {},
     "output_type": "execute_result"
    },
    {
     "data": {
      "image/png": "[encoded data removed]",
      "text/plain": [
       "<Figure size 1080x360 with 1 Axes>"
      ]
     },
     "metadata": {
      "needs_background": "light"
     },
     "output_type": "display_data"
    }
   ],
   "source": [
    "x_axis = list(range(1001))\n",
    "#Begin plotting\n",
    "plt.figure(figsize=(15, 5))\n",
    "plt.plot(x_axis,loss_hist_5, label='0.5')\n",
    "plt.plot(x_axis,loss_hist_1, label='0.1')\n",
    "plt.plot(x_axis,loss_hist_05,label='0.05')\n",
    "plt.plot(x_axis,loss_hist_01,label='0.01')\n",
    "\n",
    "\n",
    "\n",
    "plt.yscale('log')\n",
    "plt.title(\"Average Training Error For Various step sizes\")\n",
    "plt.legend()"
   ]
  },
  {
   "cell_type": "markdown",
   "id": "be7124e8",
   "metadata": {},
   "source": [
    "Our functions diverge for large step sizes (.5, .1), and the training error quickly becomes infinite.\n",
    "\n",
    "To see this clearly, I've plotted those two step sizes in their own graph"
   ]
  },
  {
   "cell_type": "code",
   "execution_count": 285,
   "id": "9c77c50b",
   "metadata": {},
   "outputs": [
    {
     "data": {
      "text/plain": [
       "<matplotlib.legend.Legend at 0x7faf6bff3bb0>"
      ]
     },
     "execution_count": 285,
     "metadata": {},
     "output_type": "execute_result"
    },
    {
     "data": {
      "image/png": "[encoded data removed]",
      "text/plain": [
       "<Figure size 1080x360 with 1 Axes>"
      ]
     },
     "metadata": {
      "needs_background": "light"
     },
     "output_type": "display_data"
    }
   ],
   "source": [
    "plt.figure(figsize=(15, 5))\n",
    "plt.plot(x_axis,loss_hist_5, label='0.5')\n",
    "plt.plot(x_axis,loss_hist_1, label='0.1')\n",
    "\n",
    "plt.title(\"Average Training Error For Various step sizes\")\n",
    "plt.legend()"
   ]
  },
  {
   "cell_type": "markdown",
   "id": "d2ac06ba",
   "metadata": {},
   "source": [
    "# Problem 13:\n",
    "\n",
    "Plot the average test square loss for the above learning rates as a function of number of steps"
   ]
  },
  {
   "cell_type": "code",
   "execution_count": 302,
   "id": "ee568e52",
   "metadata": {},
   "outputs": [
    {
     "name": "stderr",
     "output_type": "stream",
     "text": [
      "<ipython-input-229-160399dc77d2>:16: RuntimeWarning: overflow encountered in double_scalars\n",
      "  return(1/num_rows * sum((y_hat-y)**2))\n",
      "<ipython-input-229-160399dc77d2>:16: RuntimeWarning: overflow encountered in square\n",
      "  return(1/num_rows * sum((y_hat-y)**2))\n",
      "<ipython-input-229-160399dc77d2>:15: RuntimeWarning: invalid value encountered in matmul\n",
      "  y_hat = X@theta\n"
     ]
    }
   ],
   "source": [
    "#initialize lists to store loss on test dataset\n",
    "loss_hist_test_5, loss_hist_test_1, loss_hist_test_05, loss_hist_test_01 = [], [], [],[]\n",
    "x_axis = list(range(1000))\n",
    "\n",
    "for i in range(1000):\n",
    "    temp_theta_vals_5 = theta_hist_5[i,:]\n",
    "    temp_theta_vals_1 = theta_hist_1[i,:] \n",
    "    temp_theta_vals_05 = theta_hist_05[i,:]\n",
    "    temp_theta_vals_01 = theta_hist_01[i,:]\n",
    "    \n",
    "    loss_hist_test_5.append(compute_square_loss(X_test,y_test,temp_theta_vals_5))\n",
    "    loss_hist_test_1.append(compute_square_loss(X_test,y_test,temp_theta_vals_1))\n",
    "    loss_hist_test_05.append(compute_square_loss(X_test,y_test,temp_theta_vals_05))\n",
    "    loss_hist_test_01.append(compute_square_loss(X_test,y_test,temp_theta_vals_01))\n"
   ]
  },
  {
   "cell_type": "code",
   "execution_count": 303,
   "id": "e5a54cd9",
   "metadata": {},
   "outputs": [
    {
     "data": {
      "text/plain": [
       "<matplotlib.legend.Legend at 0x7faf6d7c8970>"
      ]
     },
     "execution_count": 303,
     "metadata": {},
     "output_type": "execute_result"
    },
    {
     "data": {
      "image/png": "[encoded data removed]",
      "text/plain": [
       "<Figure size 1080x360 with 1 Axes>"
      ]
     },
     "metadata": {
      "needs_background": "light"
     },
     "output_type": "display_data"
    }
   ],
   "source": [
    "plt.figure(figsize=(15, 5))\n",
    "plt.plot(x_axis,loss_hist_test_5, label='0.5')\n",
    "plt.plot(x_axis,loss_hist_test_1, label='0.1')\n",
    "plt.plot(x_axis,loss_hist_test_05, label='0.05')\n",
    "plt.plot(x_axis,loss_hist_test_01, label='0.01')\n",
    "\n",
    "\n",
    "plt.yscale('log')\n",
    "plt.title(\"Average Testing Error For Various step sizes\")\n",
    "plt.legend()"
   ]
  },
  {
   "cell_type": "code",
   "execution_count": 304,
   "id": "d51baeb0",
   "metadata": {},
   "outputs": [
    {
     "data": {
      "text/plain": [
       "<matplotlib.legend.Legend at 0x7faf6d81aa00>"
      ]
     },
     "execution_count": 304,
     "metadata": {},
     "output_type": "execute_result"
    },
    {
     "data": {
      "image/png": "[encoded data removed]",
      "text/plain": [
       "<Figure size 1080x360 with 1 Axes>"
      ]
     },
     "metadata": {
      "needs_background": "light"
     },
     "output_type": "display_data"
    }
   ],
   "source": [
    "plt.figure(figsize=(15, 5))\n",
    "plt.plot(x_axis,loss_hist_test_01, label='0.01')\n",
    "plt.title(\"Average Testing Error For Various step sizes\")\n",
    "plt.legend()\n",
    "\n"
   ]
  },
  {
   "cell_type": "markdown",
   "id": "6ffe55d2",
   "metadata": {},
   "source": [
    "# Problem 15\n",
    "\n",
    "Complete compute_regularized_square_loss_gradient, done below"
   ]
  },
  {
   "cell_type": "code",
   "execution_count": 315,
   "id": "0afd36ef",
   "metadata": {},
   "outputs": [],
   "source": [
    "#######################################\n",
    "### The gradient of regularized batch gradient descent\n",
    "\n",
    "def compute_regularized_square_loss_gradient(X, y, theta, lambda_reg):\n",
    "    \"\"\"\n",
    "    Compute the gradient of L2-regularized average square loss function given X, y and theta\n",
    "\n",
    "    Args:\n",
    "        X - the feature vector, 2D numpy array of size(num_instances, num_features)\n",
    "        y - the label vector, 1D numpy array of size(num_instances)\n",
    "        theta - the parameter vector, 1D numpy array of size(num_features)\n",
    "        lambda_reg - the regularization coefficient\n",
    "\n",
    "    Returns:\n",
    "        grad - gradient vector, 1D numpy array of size(num_features)\n",
    "    \"\"\"\n",
    "    m = X.shape[0]\n",
    "    #Calculate gradient using closed form solution from problem 6\n",
    "    gradient = (2/m)*((X.T @ X @ theta) - (X.T @ y)) + 2*lambda_reg*theta\n",
    "    #Return gradient\n",
    "    return(gradient)"
   ]
  },
  {
   "cell_type": "markdown",
   "id": "62a22405",
   "metadata": {},
   "source": [
    "# Problem 16\n",
    "Complete regularized_grad_descent, done below"
   ]
  },
  {
   "cell_type": "code",
   "execution_count": 354,
   "id": "59e6c407",
   "metadata": {},
   "outputs": [],
   "source": [
    "#######################################\n",
    "### Regularized batch gradient descent\n",
    "def regularized_grad_descent(X, y, alpha=0.05, lambda_reg=10**-2, num_step=1000):\n",
    "    \"\"\"\n",
    "    Args:\n",
    "        X - the feature vector, 2D numpy array of size(num_instances, num_features)\n",
    "        y - the label vector, 1D numpy array of size(num_instances)\n",
    "        alpha - step size in gradient descent\n",
    "        lambda_reg - the regularization coefficient\n",
    "        num_step - number of steps to run\n",
    "    \n",
    "    Returns:\n",
    "        theta_hist - the history of parameter vector, 2D numpy array of size(num_step+1, num_features)\n",
    "                     for instance, theta in step 0 should be theta_hist[0], theta in step(num_step+1) is theta_hist[-1]\n",
    "        loss hist - the history of average square loss function without the regularization term, 1D numpy array.\n",
    "    \"\"\"\n",
    "    num_instances, num_features = X.shape[0], X.shape[1]\n",
    "    theta = np.zeros(num_features) #Initialize theta\n",
    "    theta_hist = np.zeros((num_step+1, num_features)) #Initialize theta_hist\n",
    "    loss_hist = np.zeros(num_step+1) #Initialize loss_hist\n",
    "  \n",
    "    \n",
    "    for i in range(0,num_step):\n",
    "        #Compute Gradient and Calculate and Append Loss\n",
    "        temp_grad = compute_regularized_square_loss_gradient(X,y,theta,lambda_reg)\n",
    "        loss_hist[i] = compute_square_loss(X,y,theta)\n",
    "\n",
    "        #Calculate and write new theta\n",
    "        theta = theta - (alpha * temp_grad)\n",
    "        theta_hist[i,:] = theta\n",
    "        \n",
    "    loss_hist[1000] = compute_square_loss(X,y,theta)\n",
    "    #Return theta_hist, loss_hist    \n",
    "    return theta_hist, loss_hist    "
   ]
  },
  {
   "cell_type": "markdown",
   "id": "91caa440",
   "metadata": {},
   "source": [
    "# Problem 17\n",
    "\n",
    "Plot training error and testing error for various lambdas, as a function of num step sizes"
   ]
  },
  {
   "cell_type": "code",
   "execution_count": 394,
   "id": "23a95fc6",
   "metadata": {},
   "outputs": [
    {
     "name": "stderr",
     "output_type": "stream",
     "text": [
      "<ipython-input-229-160399dc77d2>:16: RuntimeWarning: overflow encountered in double_scalars\n",
      "  return(1/num_rows * sum((y_hat-y)**2))\n",
      "<ipython-input-229-160399dc77d2>:16: RuntimeWarning: overflow encountered in square\n",
      "  return(1/num_rows * sum((y_hat-y)**2))\n",
      "<ipython-input-315-9cb4cdfe36b9>:19: RuntimeWarning: overflow encountered in matmul\n",
      "  gradient = (2/m)*((X.T @ X @ theta) - (X.T @ y)) + 2*lambda_reg*theta\n",
      "<ipython-input-315-9cb4cdfe36b9>:19: RuntimeWarning: overflow encountered in multiply\n",
      "  gradient = (2/m)*((X.T @ X @ theta) - (X.T @ y)) + 2*lambda_reg*theta\n",
      "<ipython-input-229-160399dc77d2>:15: RuntimeWarning: invalid value encountered in matmul\n",
      "  y_hat = X@theta\n",
      "<ipython-input-354-37f8788b25f6>:29: RuntimeWarning: invalid value encountered in subtract\n",
      "  theta = theta - (alpha * temp_grad)\n"
     ]
    }
   ],
   "source": [
    "lambda_list = [10e-7, 10e-5, 10e-3,10e-1, 1, 10,100]\n",
    "\n",
    "theta_hist_7, loss_hist_7 = regularized_grad_descent(X_train,y_train, alpha =.05, lambda_reg = lambda_list[0])\n",
    "theta_hist_5, loss_hist_5 = regularized_grad_descent(X_train,y_train, alpha =.05,  lambda_reg = lambda_list[1])\n",
    "theta_hist_3, loss_hist_3 = regularized_grad_descent(X_train,y_train, alpha =.05, lambda_reg = lambda_list[2])\n",
    "theta_hist_01, loss_hist_01 = regularized_grad_descent(X_train,y_train, alpha =.05,  lambda_reg = lambda_list[3])\n",
    "theta_hist_1, loss_hist_1 = regularized_grad_descent(X_train,y_train, alpha =.05,  lambda_reg = lambda_list[4])\n",
    "theta_hist_10, loss_hist_10 = regularized_grad_descent(X_train,y_train, alpha =.05,  lambda_reg = lambda_list[5])\n",
    "theta_hist_100, loss_hist_100 = regularized_grad_descent(X_train,y_train, alpha =.05, lambda_reg = lambda_list[6])"
   ]
  },
  {
   "cell_type": "code",
   "execution_count": 398,
   "id": "4f7f24e8",
   "metadata": {},
   "outputs": [
    {
     "name": "stderr",
     "output_type": "stream",
     "text": [
      "/Users/jobygeorge/opt/anaconda3/lib/python3.8/site-packages/numpy/ma/core.py:6845: RuntimeWarning: overflow encountered in power\n",
      "  result = np.where(m, fa, umath.power(fa, fb)).view(basetype)\n"
     ]
    },
    {
     "data": {
      "text/plain": [
       "<matplotlib.legend.Legend at 0x7faf3251fa60>"
      ]
     },
     "execution_count": 398,
     "metadata": {},
     "output_type": "execute_result"
    },
    {
     "data": {
      "image/png": "[encoded data removed]",
      "text/plain": [
       "<Figure size 1080x360 with 1 Axes>"
      ]
     },
     "metadata": {
      "needs_background": "light"
     },
     "output_type": "display_data"
    }
   ],
   "source": [
    "x = list(range(1001))\n",
    "plt.figure(figsize=(15, 5))\n",
    "plt.plot(x,loss_hist_7, label='10e-7')\n",
    "plt.plot(x,loss_hist_5, label='10e-5')\n",
    "plt.plot(x,loss_hist_3, label='10e-3')\n",
    "plt.plot(x,loss_hist_01, label='10e-1')\n",
    "plt.plot(x,loss_hist_1, label='1')\n",
    "plt.plot(x,loss_hist_10, label='10')\n",
    "plt.plot(x,loss_hist_100, label='100')\n",
    "\n",
    "\n",
    "plt.yscale('log')\n",
    "plt.title(\"Average Training Error For Various L2 penalizers\")\n",
    "plt.legend()"
   ]
  },
  {
   "cell_type": "code",
   "execution_count": 402,
   "id": "a972aeb7",
   "metadata": {},
   "outputs": [
    {
     "name": "stderr",
     "output_type": "stream",
     "text": [
      "<ipython-input-229-160399dc77d2>:16: RuntimeWarning: overflow encountered in double_scalars\n",
      "  return(1/num_rows * sum((y_hat-y)**2))\n",
      "<ipython-input-229-160399dc77d2>:16: RuntimeWarning: overflow encountered in square\n",
      "  return(1/num_rows * sum((y_hat-y)**2))\n",
      "<ipython-input-229-160399dc77d2>:15: RuntimeWarning: invalid value encountered in matmul\n",
      "  y_hat = X@theta\n"
     ]
    }
   ],
   "source": [
    "#initialize lists to store loss on test dataset\n",
    "loss_hist_test_7, loss_hist_test_5, loss_hist_test_3, loss_hist_test_01 = [], [], [],[]\n",
    "loss_hist_test_1, loss_hist_test_10, loss_hist_test_100 = [], [], []\n",
    "x_axis = list(range(1000))\n",
    "\n",
    "for i in range(1000):\n",
    "    temp_theta_vals_7 = theta_hist_7[i,:]\n",
    "    temp_theta_vals_5 = theta_hist_5[i,:] \n",
    "    temp_theta_vals_3 = theta_hist_3[i,:]\n",
    "    temp_theta_vals_01 = theta_hist_01[i,:]\n",
    "    temp_theta_vals_1 = theta_hist_1[i,:]\n",
    "    temp_theta_vals_10 = theta_hist_10[i,:]\n",
    "    temp_theta_vals_100 = theta_hist_100[i,:]\n",
    "\n",
    "\n",
    "\n",
    "\n",
    "    \n",
    "    loss_hist_test_7.append(compute_square_loss(X_test,y_test,temp_theta_vals_7))\n",
    "    loss_hist_test_5.append(compute_square_loss(X_test,y_test,temp_theta_vals_5))\n",
    "    loss_hist_test_3.append(compute_square_loss(X_test,y_test,temp_theta_vals_3))\n",
    "    loss_hist_test_01.append(compute_square_loss(X_test,y_test,temp_theta_vals_01))\n",
    "    loss_hist_test_1.append(compute_square_loss(X_test,y_test,temp_theta_vals_1))\n",
    "    loss_hist_test_10.append(compute_square_loss(X_test,y_test,temp_theta_vals_10))\n",
    "    loss_hist_test_100.append(compute_square_loss(X_test,y_test,temp_theta_vals_100))\n",
    "\n",
    "\n"
   ]
  },
  {
   "cell_type": "code",
   "execution_count": 404,
   "id": "90baa593",
   "metadata": {},
   "outputs": [
    {
     "data": {
      "text/plain": [
       "<matplotlib.legend.Legend at 0x7faf6bf83640>"
      ]
     },
     "execution_count": 404,
     "metadata": {},
     "output_type": "execute_result"
    },
    {
     "data": {
      "image/png": "[encoded data removed]",
      "text/plain": [
       "<Figure size 1080x360 with 1 Axes>"
      ]
     },
     "metadata": {
      "needs_background": "light"
     },
     "output_type": "display_data"
    }
   ],
   "source": [
    "x = list(range(1000))\n",
    "plt.figure(figsize=(15, 5))\n",
    "plt.plot(x,loss_hist_test_7, label='10e-7')\n",
    "plt.plot(x,loss_hist_test_5, label='10e-5')\n",
    "plt.plot(x,loss_hist_test_3, label='10e-3')\n",
    "plt.plot(x,loss_hist_test_01, label='10e-1')\n",
    "plt.plot(x,loss_hist_test_1, label='1')\n",
    "plt.plot(x,loss_hist_test_10, label='10')\n",
    "plt.plot(x,loss_hist_test_100, label='100')\n",
    "\n",
    "plt.xscale('log')\n",
    "plt.yscale('log')\n",
    "plt.title(\"Average Testing Error For Various L2 penalizers\")\n",
    "plt.legend()"
   ]
  },
  {
   "cell_type": "code",
   "execution_count": null,
   "id": "100f969d",
   "metadata": {},
   "outputs": [],
   "source": []
  }
 ],
 "metadata": {
  "kernelspec": {
   "display_name": "Python 3",
   "language": "python",
   "name": "python3"
  },
  "language_info": {
   "codemirror_mode": {
    "name": "ipython",
    "version": 3
   },
   "file_extension": ".py",
   "mimetype": "text/x-python",
   "name": "python",
   "nbconvert_exporter": "python",
   "pygments_lexer": "ipython3",
   "version": "3.8.8"
  }
 },
 "nbformat": 4,
 "nbformat_minor": 5
}
