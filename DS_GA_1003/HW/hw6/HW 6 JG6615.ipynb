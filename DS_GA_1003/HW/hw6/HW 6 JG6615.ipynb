{
 "cells": [
  {
   "cell_type": "markdown",
   "id": "0864a81d",
   "metadata": {},
   "source": [
    "## HW 6 JG6615 Due 4/22/22\n",
    "\n",
    "## Decision Tree Implementation\n",
    "\n",
    "In this problem we’ll implement decision trees for both classification and regression. The strategy will be to implement a generic class, called Decision Tree, which we’ll supply with the loss function we want to use to make node splitting decisions, as well as the estimator we’ll use to come up with the prediction associated with each leaf node. \n",
    "\n",
    "For classification, this prediction could be a vector of probabilities, but for simplicity we’ll just consider hard classifications here. We’ll work with the classification and regression data sets from previous assignments.\n",
    "\n",
    "# Problem 1:\n",
    "Complete the compute_entropy and compute_gini functions\n",
    "\n",
    "## Problem 1 Answer:\n",
    "Done Below"
   ]
  },
  {
   "cell_type": "code",
   "execution_count": 5,
   "id": "95ff89b4",
   "metadata": {
    "ExecuteTime": {
     "end_time": "2022-04-18T21:39:27.041029Z",
     "start_time": "2022-04-18T21:39:26.997367Z"
    }
   },
   "outputs": [
    {
     "ename": "ModuleNotFoundError",
     "evalue": "No module named 'graphviz'",
     "output_type": "error",
     "traceback": [
      "\u001b[0;31m---------------------------------------------------------------------------\u001b[0m",
      "\u001b[0;31mModuleNotFoundError\u001b[0m                       Traceback (most recent call last)",
      "\u001b[0;32m<ipython-input-5-836df016b2d2>\u001b[0m in \u001b[0;36m<module>\u001b[0;34m\u001b[0m\n\u001b[1;32m      7\u001b[0m \u001b[0;32mfrom\u001b[0m \u001b[0msklearn\u001b[0m\u001b[0;34m.\u001b[0m\u001b[0mtree\u001b[0m \u001b[0;32mimport\u001b[0m \u001b[0mDecisionTreeClassifier\u001b[0m\u001b[0;34m,\u001b[0m \u001b[0mDecisionTreeRegressor\u001b[0m\u001b[0;34m,\u001b[0m \u001b[0mexport_graphviz\u001b[0m\u001b[0;34m\u001b[0m\u001b[0;34m\u001b[0m\u001b[0m\n\u001b[1;32m      8\u001b[0m \u001b[0;32mfrom\u001b[0m \u001b[0msklearn\u001b[0m\u001b[0;34m.\u001b[0m\u001b[0mensemble\u001b[0m \u001b[0;32mimport\u001b[0m \u001b[0mGradientBoostingClassifier\u001b[0m\u001b[0;34m,\u001b[0m \u001b[0mGradientBoostingRegressor\u001b[0m\u001b[0;34m,\u001b[0m \u001b[0mRandomForestClassifier\u001b[0m\u001b[0;34m\u001b[0m\u001b[0;34m\u001b[0m\u001b[0m\n\u001b[0;32m----> 9\u001b[0;31m \u001b[0;32mimport\u001b[0m \u001b[0mgraphviz\u001b[0m\u001b[0;34m\u001b[0m\u001b[0;34m\u001b[0m\u001b[0m\n\u001b[0m\u001b[1;32m     10\u001b[0m \u001b[0;34m\u001b[0m\u001b[0m\n\u001b[1;32m     11\u001b[0m \u001b[0;32mfrom\u001b[0m \u001b[0mIPython\u001b[0m\u001b[0;34m.\u001b[0m\u001b[0mdisplay\u001b[0m \u001b[0;32mimport\u001b[0m \u001b[0mImage\u001b[0m\u001b[0;34m\u001b[0m\u001b[0;34m\u001b[0m\u001b[0m\n",
      "\u001b[0;31mModuleNotFoundError\u001b[0m: No module named 'graphviz'"
     ]
    }
   ],
   "source": [
    "import matplotlib.pyplot as plt\n",
    "from itertools import product\n",
    "import numpy as np\n",
    "import pandas as pd\n",
    "from collections import Counter\n",
    "from sklearn.base import BaseEstimator, RegressorMixin, ClassifierMixin\n",
    "from sklearn.tree import DecisionTreeClassifier, DecisionTreeRegressor, export_graphviz\n",
    "from sklearn.ensemble import GradientBoostingClassifier, GradientBoostingRegressor, RandomForestClassifier\n",
    "import graphviz\n",
    "\n",
    "from IPython.display import Image\n",
    "\n",
    "%matplotlib inline\n",
    "\n",
    "### Load Data\n",
    "\n",
    "data_train = np.loadtxt('codes_and_data/svm-train.txt')\n",
    "data_test = np.loadtxt('codes_and_data/svm-test.txt')\n",
    "x_train, y_train = data_train[:, 0: 2], data_train[:, 2].reshape(-1, 1)\n",
    "x_test, y_test = data_test[:, 0: 2], data_test[:, 2].reshape(-1, 1)\n",
    "# Change target to 0-1 label\n",
    "y_train_label = np.array(list(map(lambda x: 1 if x > 0 else 0, y_train))).reshape(-1, 1)"
   ]
  },
  {
   "cell_type": "markdown",
   "id": "5eb88cf8",
   "metadata": {},
   "source": [
    "## Entropy Definition for binary labels:\n",
    "\n",
    "$$-\\sum_{i=0}^1 P(Class_i)*log_2(P(Class_i))$$\n",
    "\n",
    "## Gini definition for Binary Labels\n",
    "$$\\sum_{i=0}^1 P(Class_i)(1-P(Class_i))$$\n",
    "\n"
   ]
  },
  {
   "cell_type": "code",
   "execution_count": null,
   "id": "161770d8",
   "metadata": {
    "ExecuteTime": {
     "end_time": "2022-04-18T21:38:08.098232Z",
     "start_time": "2022-04-18T21:38:05.904Z"
    }
   },
   "outputs": [],
   "source": [
    "def compute_entropy(label_array):\n",
    "    '''\n",
    "    Calulate the entropy of given label list\n",
    "    :param label_array: a numpy array of binary labels shape = (n, 1)\n",
    "    :return entropy: entropy value\n",
    "    '''\n",
    "    \"\"\"\n",
    "    \"\"\"\n",
    "    #transform array into pd.Series to access value_counts method\n",
    "    unique = np.unique(label_array)[0]\n",
    "    p = len(label_array[label_array == unique])/len(label_array)\n",
    "    if p == 0 or p ==1:\n",
    "        return(0)\n",
    "    else:\n",
    "        val = p*np.log2(p)+(1-p)*np.log2(1-p)\n",
    "        return(-1*val)\n",
    "\n",
    "def compute_gini(label_array):\n",
    "    '''\n",
    "    Calulate the gini index of label list\n",
    "    :param label_array: a numpy array of labels shape = (n, 1)\n",
    "    :return gini: gini index value\n",
    "    '''\n",
    "    #transform array into pd.Series to access value_counts method\n",
    "    #transform array into pd.Series to access value_counts method\n",
    "    unique = np.unique(lael_array)[0]\n",
    "    p = len(label_array[label_array == unique])/len(label_array)\n",
    "    if p == 0 or p ==1:\n",
    "        return(0)\n",
    "    else:\n",
    "        return(1- p**2 - (1-p)**2)"
   ]
  },
  {
   "cell_type": "markdown",
   "id": "73547fa3",
   "metadata": {},
   "source": [
    "# Problem 2: \n",
    "\n",
    "Complete the class Decision Tree, given in the skeleton code. \n",
    "\n",
    "The intended implementation is as follows: Each object of type Decision Tree represents a single node of the tree.\n",
    "\n",
    "The depth of that node is represented by the variable self.depth, with the root node having depth 0. \n",
    "\n",
    "The main job of the fit function is to decide, given the data provided, how to split the node or whether it should remain a leaf node. If the node will split, then the splitting feature and splitting value are recorded, and the left and right subtrees are fit on the relevant portions of the data. Thus tree-building is a recursive procedure.\n",
    "\n",
    "We should have as many Decision Tree objects as there are nodes in the tree. We will not implement pruning here. Some additional details are given in the skeleton code.\n",
    "\n",
    "## Problem 2  Answer:\n",
    "\n",
    "Done Below "
   ]
  },
  {
   "cell_type": "code",
   "execution_count": null,
   "id": "dbb81866",
   "metadata": {
    "ExecuteTime": {
     "end_time": "2022-04-18T21:38:08.101064Z",
     "start_time": "2022-04-18T21:38:06.313Z"
    }
   },
   "outputs": [],
   "source": [
    "class Decision_Tree(BaseEstimator):\n",
    "     \n",
    "    def __init__(self, split_loss_function, leaf_value_estimator,\n",
    "                 depth=0, min_sample=5, max_depth=10):\n",
    "        '''\n",
    "        Initialize the decision tree classifier\n",
    "\n",
    "        :param split_loss_function: method with args (X, y) returning loss\n",
    "        :param leaf_value_estimator: method for estimating leaf value from array of ys\n",
    "        :param depth: depth indicator, default value is 0, representing root node\n",
    "        :param min_sample: an internal node can be splitted only if it contains points more than min_smaple\n",
    "        :param max_depth: restriction of tree depth.\n",
    "        '''\n",
    "        self.split_loss_function = split_loss_function\n",
    "        self.leaf_value_estimator = leaf_value_estimator\n",
    "        self.depth = depth\n",
    "        self.min_sample = min_sample\n",
    "        self.max_depth = max_depth\n",
    "        self.is_leaf = False\n",
    "\n",
    "    def fit(self, x, y):\n",
    "        '''\n",
    "        This should fit the tree classifier by setting the values self.is_leaf, \n",
    "        self.split_id (the index of the feature we want ot split on, if we're splitting),\n",
    "        self.split_value (the corresponding value of that feature where the split is),\n",
    "        and self.value, which is the prediction value if the tree is a leaf node.  If we are \n",
    "        splitting the node.\n",
    "        \n",
    "        we should also init self.left and self.right to be Decision_Tree\n",
    "        objects corresponding to the left and right subtrees. These subtrees should be fit on\n",
    "        the data that fall to the left and right,respectively, of self.split_value.\n",
    "        This is a recurisive tree building procedure. \n",
    "        \n",
    "        :param X: a numpy array of training data, shape = (n, m)\n",
    "        :param y: a numpy array of labels, shape = (n, 1)\n",
    "\n",
    "        :return self\n",
    "        '''\n",
    "        \n",
    "       \n",
    "        initial_split =10e10\n",
    "        #recursive stopping criteria, stop if beyond max depth or not enough\n",
    "        #points to split a leaf further \n",
    "        if self.depth >= self.max_depth or len(y) <= self.min_sample:\n",
    "            self.is_leaf = True\n",
    "            self.value = self.leaf_value_estimator(y)\n",
    "\n",
    "            return self\n",
    "        \n",
    "        #calculate the best feature to split on,\n",
    "        self.find_best_feature_split(x,y)\n",
    "\n",
    "\n",
    "        #if this split value is better than the initialized split value above\n",
    "        if self.split_value <= initial_split:\n",
    "            #create right decision tree\n",
    "            self.right = Decision_Tree(self.split_loss_function,\n",
    "                                     self.leaf_value_estimator, self.depth+1,\n",
    "                                     self.min_sample, self.max_depth)\n",
    "            \n",
    "            #create left decision tree\n",
    "            \n",
    "            self.left = Decision_Tree(self.split_loss_function,\n",
    "                                     self.leaf_value_estimator, self.depth+1,\n",
    "                                     self.min_sample, self.max_depth)\n",
    "            \n",
    "            #create a new dataset, so i can easily subset based on split value\n",
    "            data = np.append(x,y,axis=1)\n",
    "            \n",
    "            #subset left x_data to those below split value\n",
    "            x_l = data[data[:,self.split_id] <= self.split_value]\n",
    "            #remove the last column, which corresponds to my labels \n",
    "            #that i added to data\n",
    "            x_l = x_l[:,:-1]\n",
    "            \n",
    "            #subset left y data using same logic, only selecting last column\n",
    "            y_l = data[data[:,self.split_id] <= self.split_value]\n",
    "            y_l = y_l[:,-1].reshape((len(y_l),1)) #reshape otherwise numpy yells at me \n",
    "            \n",
    "            #duplicate on the right side\n",
    "            x_r = data[data[:,self.split_id] > self.split_value]\n",
    "            x_r = x_r[:,:-1]\n",
    "            y_r = data[data[:,self.split_id] > self.split_value]\n",
    "            y_r = y_r[:,-1].reshape((len(y_r),1))\n",
    "            \n",
    "            #recursively attempt same process on left and right trees\n",
    "            self.left.fit(x_l,y_l)\n",
    "            self.right.fit(x_r,y_r)\n",
    "            \n",
    "        #if my initial splitting value is fine, we set the input of the \n",
    "        #.fit() function to be a leaf and get the predicted value of the region\n",
    "        else: \n",
    "            self.is_leaf = True\n",
    "            self.value = self.leaf_value_estimator(y)\n",
    "        \n",
    "        \n",
    "        \n",
    "        return self\n",
    "\n",
    "    def find_best_split(self, x_node, y_node, feature_id):\n",
    "        '''\n",
    "        For feature number feature_id, returns the optimal splitting point \n",
    "        for data X_node, y_node, and corresponding loss\n",
    "        :param X: a numpy array of training data, shape = (n_node,m)\n",
    "        :param y: a numpy array of labels, shape = (n_node, 1)\n",
    "        '''\n",
    "        #subset the data based on specific feature and reshape such that this nx1 is actually an nx1\n",
    "        x_node = x_node[:,feature_id].reshape((x_node.shape[0],1))\n",
    "\n",
    "        n = len(x_node)\n",
    "        \n",
    "        #create a dataset that has both x and y \n",
    "        data = np.append(x_node,y_node,axis=1)\n",
    "        \n",
    "        #sort dataset to find splitting points\n",
    "        #https://stackoverflow.com/questions/2828059/sorting-arrays-in-numpy-by-column\n",
    "        \n",
    "        data = data[data[:, 0].argsort()]\n",
    "        \n",
    "        #calculate base loss to compare future losses from splits\n",
    "        split_value   = np.min(x_node)-1 #create a split that takes all of the data\n",
    "        best_loss = self.split_loss_function(y_node)\n",
    "        \n",
    "        \n",
    "        #create a set of values to split on \n",
    "        unique_x = np.unique(x_node)\n",
    "        \n",
    "        #iterate through all unique split points, choosing the mid points\n",
    "        for i in range(len(unique_x)-1):\n",
    "            temp_split_val = (unique_x[i]+unique_x[i+1])/2\n",
    "            \n",
    "            #subset data left and data right by using the selected split value\n",
    "            dl = data[data[:,0] <= temp_split_val]\n",
    "            dr = data[data[:,0] > temp_split_val]\n",
    "            \n",
    "            #calculate entropy for left and right datasets\n",
    "            loss_dl = self.split_loss_function(dl[:,1])\n",
    "            loss_dr = self.split_loss_function(dr[:,1])\n",
    "            \n",
    "            #scale by number of data points in the region\n",
    "            temp_loss = loss_dl*(len(dl)/n)+loss_dr*(len(dr)/n)\n",
    "            \n",
    "            #reassign loss and split value if this split is better\n",
    "            #than the previous best split value\n",
    "            if temp_loss <= best_loss:\n",
    "                split_value = temp_split_val\n",
    "                best_loss = temp_loss \n",
    "                \n",
    "        return(split_value, best_loss)\n",
    "\n",
    "\n",
    "\n",
    "    def find_best_feature_split(self, x_node, y_node):\n",
    "        '''\n",
    "        Returns the optimal feature to split and best splitting point \n",
    "        for data X_node, y_node.\n",
    "        :param X: a numpy array of training data, shape = (n_node, 1)\n",
    "        :param y: a numpy array of labels, shape = (n_node, 1)\n",
    "        '''\n",
    "        #iterate over all columns, adding the best split and column index to dicts\n",
    "        sv_dict = {}\n",
    "        loss_dict = {}\n",
    "        for i in range(x_node.shape[1]):\n",
    "            sv_dict[i], loss_dict[i], = self.find_best_split(x_node,y_node, i)[0],self.find_best_split(x_node,y_node, i)[1]\n",
    "        #https://stackoverflow.com/questions/3282823/get-the-key-corresponding-to-the-minimum-value-within-a-dictionary\n",
    "        \n",
    "        #chose the colun index that has minimum entropy\n",
    "        self.split_id = min(loss_dict, key=loss_dict.get)\n",
    "        \n",
    "        #chose the value for respective column that results in minimum entropy\n",
    "        self.split_value = sv_dict[self.split_id]\n",
    "        \n",
    "        #record loss value for debugging\n",
    "        self.loss = loss_dict[self.split_id]\n",
    "        \n",
    "\n",
    "    def predict_instance(self, instance):\n",
    "        '''\n",
    "        Predict label by decision tree\n",
    "\n",
    "        :param instance: a numpy array with new data, shape (1, m)\n",
    "\n",
    "        :return whatever is returned by leaf_value_estimator for leaf containing instance\n",
    "        '''\n",
    "        if self.is_leaf:\n",
    "            return self.value\n",
    "        if instance[self.split_id] <= self.split_value:\n",
    "            return self.left.predict_instance(instance)\n",
    "        else:\n",
    "            return self.right.predict_instance(instance)"
   ]
  },
  {
   "cell_type": "code",
   "execution_count": null,
   "id": "6996b8cc",
   "metadata": {
    "ExecuteTime": {
     "end_time": "2022-04-18T21:38:08.101895Z",
     "start_time": "2022-04-18T21:38:06.534Z"
    }
   },
   "outputs": [],
   "source": [
    "class Classification_Tree(BaseEstimator, ClassifierMixin):\n",
    "\n",
    "    loss_function_dict = {\n",
    "        'entropy': compute_entropy,\n",
    "        'gini': compute_gini\n",
    "    }\n",
    "\n",
    "    def __init__(self, loss_function='entropy', min_sample=5, max_depth=10):\n",
    "        '''\n",
    "        :param loss_function(str): loss function for splitting internal node\n",
    "        '''\n",
    "\n",
    "        self.tree = Decision_Tree(self.loss_function_dict[loss_function],\n",
    "                                most_common_label,\n",
    "                                0, min_sample, max_depth)\n",
    "\n",
    "    def fit(self, X, y=None):\n",
    "        self.tree.fit(X,y)\n",
    "        return self\n",
    "\n",
    "    def predict_instance(self, instance):\n",
    "        value = self.tree.predict_instance(instance)\n",
    "        return value"
   ]
  },
  {
   "cell_type": "markdown",
   "id": "64c5da59",
   "metadata": {},
   "source": [
    "# Problem 3:\n",
    "\n",
    "Run the code provided that builds trees for the two-dimensional classification data. Include the results. For debugging, you may want to compare results with sklearn’s decision tree (code provided in the skeleton code). For visualization, you’ll need to install graphviz.\n",
    "\n",
    "## Problem 3 Answer:\n",
    "\n",
    "Done below "
   ]
  },
  {
   "cell_type": "code",
   "execution_count": null,
   "id": "b31519bf",
   "metadata": {
    "ExecuteTime": {
     "end_time": "2022-04-18T21:38:08.106542Z",
     "start_time": "2022-04-18T21:38:06.716Z"
    }
   },
   "outputs": [],
   "source": [
    "def most_common_label(y):\n",
    "    '''\n",
    "    Find most common label\n",
    "    '''\n",
    "    label_cnt = Counter(y.reshape(len(y)))\n",
    "    label = label_cnt.most_common(1)[0][0]\n",
    "    return label"
   ]
  },
  {
   "cell_type": "code",
   "execution_count": null,
   "id": "6e619d93",
   "metadata": {
    "ExecuteTime": {
     "end_time": "2022-04-18T21:38:08.107476Z",
     "start_time": "2022-04-18T21:38:06.849Z"
    }
   },
   "outputs": [],
   "source": [
    "#Training classifiers with different depth\n",
    "clf1 = Classification_Tree(max_depth=1, min_sample=2)\n",
    "clf1.fit(x_train, y_train_label)\n",
    "\n",
    "clf2 = Classification_Tree(max_depth=2, min_sample=2)\n",
    "clf2.fit(x_train, y_train_label)\n",
    "\n",
    "clf3 = Classification_Tree(max_depth=3, min_sample=2)\n",
    "clf3.fit(x_train, y_train_label)\n",
    "\n",
    "clf4 = Classification_Tree(max_depth=4, min_sample=2)\n",
    "clf4.fit(x_train, y_train_label)\n",
    "\n",
    "clf5 = Classification_Tree(max_depth=5, min_sample=2)\n",
    "clf5.fit(x_train, y_train_label)\n",
    "\n",
    "clf6 = Classification_Tree(max_depth=6, min_sample=2)\n",
    "clf6.fit(x_train, y_train_label)\n",
    "\n",
    "# Plotting decision regions\n",
    "x_min, x_max = x_train[:, 0].min() - 1, x_train[:, 0].max() + 1\n",
    "y_min, y_max = x_train[:, 1].min() - 1, x_train[:, 1].max() + 1\n",
    "xx, yy = np.meshgrid(np.arange(x_min, x_max, 0.1),\n",
    "                     np.arange(y_min, y_max, 0.1))\n",
    "\n",
    "f, axarr = plt.subplots(2, 3, sharex='col', sharey='row', figsize=(10, 8))\n",
    "\n",
    "for idx, clf, tt in zip(product([0, 1], [0, 1, 2]),\n",
    "                        [clf1, clf2, clf3, clf4, clf5, clf6],                    \n",
    "                        ['Depth = {}'.format(n) for n in range(1, 7)]):\n",
    "\n",
    "    Z = np.array([clf.predict_instance(x) for x in np.c_[xx.ravel(), yy.ravel()]])\n",
    "    Z = Z.reshape(xx.shape)\n",
    "\n",
    "    axarr[idx[0], idx[1]].contourf(xx, yy, Z, alpha=0.4)\n",
    "    axarr[idx[0], idx[1]].scatter(x_train[:, 0], x_train[:, 1], c=y_train_label[:,0], alpha=0.8)\n",
    "    axarr[idx[0], idx[1]].set_title(tt)\n",
    "\n",
    "plt.show()"
   ]
  },
  {
   "cell_type": "code",
   "execution_count": null,
   "id": "b9aa1edd",
   "metadata": {
    "ExecuteTime": {
     "end_time": "2022-04-18T21:38:08.112192Z",
     "start_time": "2022-04-18T21:38:06.940Z"
    }
   },
   "outputs": [],
   "source": [
    "#comparing with sK learn \n",
    "clf = DecisionTreeClassifier(criterion='entropy', max_depth=3, min_samples_split=2)\n",
    "clf.fit(x_train, y_train_label)\n",
    "export_graphviz(clf, out_file='tree_classifier.dot')\n",
    "\n",
    "# Plotting decision regions\n",
    "x_min, x_max = x_train[:, 0].min() - 1, x_train[:, 0].max() + 1\n",
    "y_min, y_max = x_train[:, 1].min() - 1, x_train[:, 1].max() + 1\n",
    "xx, yy = np.meshgrid(np.arange(x_min, x_max, 0.1),\n",
    "                     np.arange(y_min, y_max, 0.1))\n",
    "\n",
    "Z = np.array([clf.predict(x[np.newaxis,:]) for x in np.c_[xx.ravel(), yy.ravel()]])\n",
    "Z = Z.reshape(xx.shape)\n",
    "plt.figure()\n",
    "plt.contourf(xx, yy, Z, alpha=0.4)\n",
    "plt.scatter(x_train[:, 0], x_train[:, 1], \n",
    "c=y_train_label[:,0], alpha=0.8)"
   ]
  },
  {
   "cell_type": "code",
   "execution_count": null,
   "id": "cb2f59bb",
   "metadata": {
    "ExecuteTime": {
     "end_time": "2022-04-18T21:38:08.115102Z",
     "start_time": "2022-04-18T21:38:07.111Z"
    }
   },
   "outputs": [],
   "source": [
    "!dot -Tpng tree_classifier.dot -o tree_classifier.png\n",
    "Image(filename='tree_classifier.png')"
   ]
  },
  {
   "cell_type": "markdown",
   "id": "1e10158a",
   "metadata": {},
   "source": [
    "# Problem 4: \n",
    "\n",
    "Complete the function mean absolute deviation around median (MAE). Use the code provided to fit the Regression Tree to the krr dataset using both the MAE loss and median predictions. Include the plots for the 6 fits.\n",
    "\n",
    "## Problem 4 Answer:\n",
    "\n",
    "Done below"
   ]
  },
  {
   "cell_type": "code",
   "execution_count": null,
   "id": "7946fe15",
   "metadata": {
    "ExecuteTime": {
     "end_time": "2022-04-18T21:38:08.117809Z",
     "start_time": "2022-04-18T21:38:07.432Z"
    }
   },
   "outputs": [],
   "source": [
    "def mean_absolute_deviation_around_median(y):\n",
    "    '''\n",
    "    Calulate the mean absolute deviation around the median of a given target list\n",
    "    \n",
    "    :param y: a numpy array of targets shape = (n, 1)\n",
    "    :return mae\n",
    "    '''\n",
    "\n",
    "    median, n = np.median(y), len(y)\n",
    "    abs_deviation = 0\n",
    "    for i in range(len(y)):\n",
    "        abs_deviation += abs(y[i]-median)\n",
    "    return(abs_deviation)"
   ]
  },
  {
   "cell_type": "code",
   "execution_count": null,
   "id": "0ace52e2",
   "metadata": {
    "ExecuteTime": {
     "end_time": "2022-04-18T21:38:08.118725Z",
     "start_time": "2022-04-18T21:38:07.554Z"
    }
   },
   "outputs": [],
   "source": [
    "class Regression_Tree():\n",
    "    '''\n",
    "    :attribute loss_function_dict: dictionary containing the loss functions used for splitting\n",
    "    :attribute estimator_dict: dictionary containing the estimation functions used in leaf nodes\n",
    "    '''\n",
    "\n",
    "    loss_function_dict = {\n",
    "        'mse': np.var,\n",
    "        'mae': mean_absolute_deviation_around_median\n",
    "    }\n",
    "\n",
    "    estimator_dict = {\n",
    "        'mean': np.mean,\n",
    "        'median': np.median\n",
    "    }\n",
    "    \n",
    "    def __init__(self, loss_function='mse', estimator='mean', min_sample=5, max_depth=10):\n",
    "        '''\n",
    "        Initialize Regression_Tree\n",
    "        :param loss_function(str): loss function used for splitting internal nodes\n",
    "        :param estimator(str): value estimator of internal node\n",
    "        '''\n",
    "\n",
    "        self.tree = Decision_Tree(self.loss_function_dict[loss_function],\n",
    "                                  self.estimator_dict[estimator],\n",
    "                                  0, min_sample, max_depth)\n",
    "\n",
    "    def fit(self, X, y=None):\n",
    "        self.tree.fit(X,y)\n",
    "        return self\n",
    "\n",
    "    def predict_instance(self, instance):\n",
    "        value = self.tree.predict_instance(instance)\n",
    "        return value"
   ]
  },
  {
   "cell_type": "markdown",
   "id": "29e5b5ab",
   "metadata": {},
   "source": [
    "<div style=\"page-break-after: always;\"></div>"
   ]
  },
  {
   "cell_type": "code",
   "execution_count": null,
   "id": "e5a854b7",
   "metadata": {
    "ExecuteTime": {
     "end_time": "2022-04-18T01:29:04.189795Z",
     "start_time": "2022-04-18T01:29:04.189788Z"
    }
   },
   "outputs": [],
   "source": [
    "data_krr_train = np.loadtxt('codes_and_data/krr-train.txt')\n",
    "data_krr_test = np.loadtxt('codes_and_data/krr-test.txt')\n",
    "x_krr_train, y_krr_train = data_krr_train[:,0].reshape(-1,1),data_krr_train[:,1].reshape(-1,1)\n",
    "x_krr_test, y_krr_test = data_krr_test[:,0].reshape(-1,1),data_krr_test[:,1].reshape(-1,1)\n",
    "\n",
    "# Training regression trees with different depth\n",
    "clf1 = Regression_Tree(max_depth=1,  min_sample=3, loss_function='mae', estimator='mean')\n",
    "clf1.fit(x_krr_train, y_krr_train)\n",
    "\n",
    "clf2 = Regression_Tree(max_depth=2,  min_sample=3, loss_function='mae', estimator='mean')\n",
    "clf2.fit(x_krr_train, y_krr_train)\n",
    "\n",
    "clf3 = Regression_Tree(max_depth=3,  min_sample=3, loss_function='mae', estimator='mean')\n",
    "clf3.fit(x_krr_train, y_krr_train)\n",
    "\n",
    "clf4 = Regression_Tree(max_depth=4,  min_sample=3, loss_function='mae', estimator='mean')\n",
    "clf4.fit(x_krr_train, y_krr_train)\n",
    "\n",
    "clf5 = Regression_Tree(max_depth=5,  min_sample=3, loss_function='mae', estimator='mean')\n",
    "clf5.fit(x_krr_train, y_krr_train)\n",
    "\n",
    "clf6 = Regression_Tree(max_depth=10,  min_sample=3, loss_function='mae', estimator='mean')\n",
    "clf6.fit(x_krr_train, y_krr_train)\n",
    "\n",
    "plot_size = 0.001\n",
    "x_range = np.arange(0., 1., plot_size).reshape(-1, 1)\n",
    "\n",
    "f2, axarr2 = plt.subplots(2, 3, sharex='col', sharey='row', figsize=(15, 10))\n",
    "\n",
    "for idx, clf, tt in zip(product([0, 1], [0, 1, 2]),\n",
    "                        [clf1, clf2, clf3, clf4, clf5, clf6],\n",
    "                        ['Depth = {}'.format(n) for n in range(1, 7)]):\n",
    "\n",
    "    y_range_predict = np.array([clf.predict_instance(x) for x in x_range]).reshape(-1, 1)\n",
    "  \n",
    "    axarr2[idx[0], idx[1]].plot(x_range, y_range_predict, color='r')\n",
    "    axarr2[idx[0], idx[1]].scatter(x_krr_train, y_krr_train, alpha=0.8)\n",
    "    axarr2[idx[0], idx[1]].set_title(tt)\n",
    "    axarr2[idx[0], idx[1]].set_xlim(0, 1)\n",
    "plt.show()"
   ]
  },
  {
   "cell_type": "code",
   "execution_count": 76,
   "id": "55ca42f2",
   "metadata": {
    "ExecuteTime": {
     "end_time": "2022-04-18T01:29:04.326279Z",
     "start_time": "2022-04-18T01:29:04.250481Z"
    }
   },
   "outputs": [
    {
     "data": {
      "text/plain": [
       "[<matplotlib.lines.Line2D at 0x7fa900215220>]"
      ]
     },
     "execution_count": 76,
     "metadata": {},
     "output_type": "execute_result"
    },
    {
     "data": {
      "image/png": "[encoded data removed]",
      "text/plain": [
       "<Figure size 432x288 with 1 Axes>"
      ]
     },
     "metadata": {
      "needs_background": "light"
     },
     "output_type": "display_data"
    }
   ],
   "source": [
    "#compare with sklearn\n",
    "plot_size = 0.001\n",
    "x_range = np.arange(0., 1., plot_size).reshape(-1, 1)\n",
    "x_range.shape\n",
    "\n",
    "clf = DecisionTreeRegressor(criterion=\"squared_error\", max_depth=10, min_samples_split=3)\n",
    "clf.fit(x_krr_train, y_krr_train)\n",
    "y_range = clf.predict(x_range)\n",
    "plt.scatter(x_krr_train, y_krr_train, alpha=0.8)\n",
    "plt.plot(x_range,y_range, color='r')\n",
    "\n"
   ]
  },
  {
   "cell_type": "markdown",
   "id": "7a27e4f3",
   "metadata": {},
   "source": [
    "## Ensembling \n",
    "\n",
    "Recall the general gradient boosting algorithm, for a given loss function $\\ell$ and a hypothesis space $\\mathcal{F}$ of regression functions (i.e. functions mapping from the input space to $\\mathcal{R}$): \n",
    "\n",
    "0. Initialize $f_0(x)$ = 0\n",
    "1. For m = 1 to M:\n",
    "        a. compute:\n",
    "        \n",
    "$$g_{m} = \\frac{\\delta}{\\delta f_{m-1}(x_j)}\\sum_i^nl(y_i,f_{m-1}(x_i)){_{j=1}^n}$$\n",
    "\n",
    "        b. Fit regression model to gm:\n",
    "        \n",
    "$$h_m = \\underset{h \\in \\mathcal{F}}{argmin} \\sum_i^n((-g_m)_i - h(x_i))^2 $$\n",
    "\n",
    "        c. Choose fixed step size v in (0,1] or take:\n",
    "        \n",
    "$$v_m = \\underset{v > 0}{argmin} \\sum_i^nl(y_i,f_{m-1}(x_i)+vh_m(x_i)) $$\n",
    "\n",
    "        d. take the step:\n",
    "        \n",
    "$$ f_m(x) = f_{m-1}(x) + v_mh_m(x) $$\n",
    "\n",
    "2. Return $f_M$\n",
    "\n",
    "This method goes by many names, including gradient boosting machines (GBM), generalized boosting models (GBM), AnyBoost, and gradient boosted regression trees (GBRT), among oth- ers. One of the nice aspects of gradient boosting is that it can be applied to any problem with a subdifferentiable loss function.\n",
    "\n",
    "\n",
    "## Gradient boosting Regression Implementation \n",
    "\n",
    "First we’ll keep things simple and consider the standard regression setting with square loss. In this case the we have Y = R, our loss function is given by l(yˆ, y) = $1/2 (yˆ − y)^2$, and at the m’th round of gradient boosting, we have:\n",
    "\n",
    "$$ h_{m}=\\underset{h \\in \\mathcal{F}}{argmin}\\sum_{i=1}^{n}[(y_{i}-f_{m-1}(x_{i}))-h(x_{i})]^{2}.$$\n",
    "\n",
    "# Problem 5:\n",
    "\n",
    "Complete the gradient boosting class. As the base regression algorithm to compute the argmin, you should use sklearn’s regression tree. You should use the square loss for the tree splitting rule (criterion keyword argument) and use the default sklearn leaf prediction rule from the predict method. We will also use a constant step size v.\n",
    "\n",
    "## Problem 5 Answer:\n",
    "\n",
    "Done below\n",
    "\n"
   ]
  },
  {
   "cell_type": "code",
   "execution_count": 77,
   "id": "4d8e0ed3",
   "metadata": {
    "ExecuteTime": {
     "end_time": "2022-04-18T01:29:04.578805Z",
     "start_time": "2022-04-18T01:29:04.562222Z"
    }
   },
   "outputs": [],
   "source": [
    "#Pseudo-residual function.\n",
    "\n",
    "def pseudo_residual_L2(train_target, train_predict):\n",
    "    '''\n",
    "    Compute the pseudo-residual based on current predicted value. \n",
    "    '''\n",
    "    return train_target - train_predict\n",
    "\n",
    "class gradient_boosting():\n",
    "    '''\n",
    "    Gradient Boosting regressor class\n",
    "    :method fit: fitting model\n",
    "    '''\n",
    "    def __init__(self, n_estimator, pseudo_residual_func, learning_rate=0.01, \n",
    "                 min_sample=5, max_depth=5):\n",
    "        '''\n",
    "        Initialize gradient boosting class\n",
    "        \n",
    "        :param n_estimator: number of estimators (i.e. number of rounds of gradient boosting)\n",
    "        :pseudo_residual_func: function used for computing pseudo-residual between training labels and predicted labels at each iteration\n",
    "        :param learning_rate: step size of gradient descent\n",
    "        '''\n",
    "        self.n_estimator = n_estimator\n",
    "        self.pseudo_residual_func = pseudo_residual_func\n",
    "        self.learning_rate = learning_rate\n",
    "        self.min_sample = min_sample\n",
    "        self.max_depth = max_depth\n",
    "\n",
    "        self.estimators = [] #will collect the n_estimator models\n",
    "    \n",
    "   \n",
    "    def fit(self, train_data, train_target):\n",
    "        '''\n",
    "        Fit gradient boosting model\n",
    "        :train_data array of inputs of size (n_samples, m_features) \n",
    "        :train_target array of outputs of size (n_samples,) \n",
    "        '''\n",
    "        # Your code goes here \n",
    "        #we will create n_estimators so iterate through that range\n",
    "        resid_list = []\n",
    "        for i in range(self.n_estimator):\n",
    "            #initialize f_0 = 0\n",
    "            if i == 0:\n",
    "                func = np.zeros(len(train_target))\n",
    "                self.estimators.append(func)\n",
    "            elif i == 1:\n",
    "                #first iteration, we fit a regression tree onto the training target\n",
    "                h = DecisionTreeRegressor(min_samples_split=self.min_sample,max_depth=self.max_depth)\n",
    "                h.fit(train_data, train_target.flatten())\n",
    "                self.estimators.append(h)\n",
    "            else:\n",
    "                #second time, we recurisvely call our predict function to \n",
    "                #see the cumulative prediction for our training data\n",
    "                y_hat = self.predict(train_data)\n",
    "                #calculate residuals after getting most recent predictions\n",
    "                pseudo_res = train_target.flatten()-y_hat\n",
    "                \n",
    "                #fit decision tree on new residuals \n",
    "                h = DecisionTreeRegressor(min_samples_split=self.min_sample,max_depth=self.max_depth)\n",
    "                h.fit(train_data, pseudo_res)\n",
    "                self.estimators.append(h)\n",
    "        return(self)\n",
    "\n",
    "\n",
    "\n",
    "\n",
    "           \n",
    "    \n",
    "    def predict(self, test_data):\n",
    "        '''\n",
    "        Predict value\n",
    "        :train_data array of inputs of size (n_samples, m_features)\n",
    "        '''\n",
    "        # Your code goes here\n",
    "        for i in range(0,len(self.estimators)):\n",
    "            if i == 0:\n",
    "                test_predict = np.zeros(len(test_data))\n",
    "            else:\n",
    "                test_predict += self.learning_rate * self.estimators[i].predict(test_data)\n",
    "        return test_predict\n",
    "\n"
   ]
  },
  {
   "cell_type": "markdown",
   "id": "a494a545",
   "metadata": {},
   "source": [
    "# Problem 6:\n",
    "\n",
    "Run the code provided to build gradient boosting models on the regression data sets krr-train.txt, and include the plots generated. For debugging you can use the sklearn implementation of GradientBoostingRegressor\n",
    "\n",
    "## Problem 6 Answer:\n",
    "\n",
    "Done below"
   ]
  },
  {
   "cell_type": "code",
   "execution_count": 78,
   "id": "eb2acfdd",
   "metadata": {
    "ExecuteTime": {
     "end_time": "2022-04-18T01:29:05.448018Z",
     "start_time": "2022-04-18T01:29:04.896986Z"
    }
   },
   "outputs": [
    {
     "data": {
      "image/png": "[encoded data removed]",
      "text/plain": [
       "<Figure size 1080x720 with 6 Axes>"
      ]
     },
     "metadata": {
      "needs_background": "light"
     },
     "output_type": "display_data"
    }
   ],
   "source": [
    "plot_size = 0.001\n",
    "x_range = np.arange(0., 1., plot_size).reshape(-1, 1)\n",
    "\n",
    "f2, axarr2 = plt.subplots(2, 3, sharex='col', sharey='row', figsize=(15, 10))\n",
    "\n",
    "for idx, i, tt in zip(product([0, 1], [0, 1, 2]),\n",
    "                       [1, 5, 10, 20, 50, 100], \n",
    "                       ['n_estimator = {}'.format(n) for n in [1, 5, 10, 20, 50, 100]\n",
    "                       ]):\n",
    "    \n",
    "    gbm_1d = gradient_boosting(n_estimator=i, pseudo_residual_func=pseudo_residual_L2, \n",
    "                               max_depth=2, learning_rate=0.1)  \n",
    "    gbm_1d.fit(x_krr_train, y_krr_train[:,0])\n",
    "    \n",
    "    y_range_predict = gbm_1d.predict(x_range)\n",
    "\n",
    "    axarr2[idx[0], idx[1]].plot(x_range, y_range_predict, color='r')\n",
    "    axarr2[idx[0], idx[1]].scatter(x_krr_train, y_krr_train, alpha=0.8)\n",
    "    axarr2[idx[0], idx[1]].set_title(tt)\n",
    "    axarr2[idx[0], idx[1]].set_xlim(0, 1)"
   ]
  },
  {
   "cell_type": "code",
   "execution_count": 80,
   "id": "6b8ca555",
   "metadata": {
    "ExecuteTime": {
     "end_time": "2022-04-18T01:39:03.624556Z",
     "start_time": "2022-04-18T01:39:03.507163Z"
    }
   },
   "outputs": [
    {
     "data": {
      "text/plain": [
       "[<matplotlib.lines.Line2D at 0x7fa93199b250>]"
      ]
     },
     "execution_count": 80,
     "metadata": {},
     "output_type": "execute_result"
    },
    {
     "data": {
      "image/png": "[encoded data removed]",
      "text/plain": [
       "<Figure size 320x280 with 1 Axes>"
      ]
     },
     "metadata": {
      "needs_background": "light"
     },
     "output_type": "display_data"
    }
   ],
   "source": [
    "#compare with sklearn\n",
    "plt.figure(figsize=(4, 3.5), dpi=80)\n",
    "gb_reg = GradientBoostingRegressor(n_estimators=100, learning_rate = .1,\n",
    "                                  max_depth = 2, min_samples_split = 5)\n",
    "gb_reg.fit(x_krr_train, y_krr_train[:,0])\n",
    "y_range_predict = gb_reg.predict(x_range)\n",
    "plt.scatter(x_krr_train, y_krr_train, alpha = .8)\n",
    "plt.plot(x_range, y_range_predict, c ='r')\n",
    "\n",
    "## Looks identical"
   ]
  },
  {
   "cell_type": "markdown",
   "id": "75cdd7a6",
   "metadata": {},
   "source": [
    "<div style=\"page-break-after: always;\"></div>"
   ]
  },
  {
   "cell_type": "markdown",
   "id": "e61edba3",
   "metadata": {},
   "source": [
    "## Classification of images with Gradient Boosting\n",
    "\n",
    "In this problem we will consider the classification of MNIST, the dataset of handwritten digits images, with ensembles of trees. For simplicity, we only retain the ‘0’ and ’1’ examples and perform binary classification.\n",
    "\n",
    "First we’ll derive a special case of the general gradient boosting framework: BinomialBoost. Let’s consider the classification framework, where Y = {−1, 1}. \n",
    "\n",
    "In lecture, we noted that AdaBoost corresponds to forward stagewise additive modeling with the exponential loss, and that the exponential loss is not very robust to outliers (i.e. outliers can have a large effect on the final prediction function). Instead, let’s consider the logistic loss\n",
    "\n",
    "$$l(m) = ln(1+e^{-m})$$\n",
    "\n",
    "where m = yf(x) is the margin\n",
    "\n",
    "**Note, since we have defined m as the margin, i am changing the notation of $g_m$ to $g_k$ where k now represents the number of iterations of gradient boosting**\n",
    "\n",
    "# Problem 7:\n",
    "Give the expression of the negative gradient step direction, or pseudo residual, −$g_k$ for the logistic loss as a function of the prediction function $f_{m-1}$ at the previous iteration and the dataset points ${(x_i,y_i)}{_{i=1}^n}$. \n",
    "\n",
    "What is the dimension of $g_l?\n",
    "\n",
    "## Problem 7 answer:\n",
    "\n",
    "**Note, investigate the sum ranges and subscripts**\n",
    "\n",
    "\n",
    "\n",
    "$$-g_{k} = -\\frac{\\delta}{\\delta f_{k-1}(x_i)}l(y_i,f_{k-1}(x_i)){_{i=1}^n}$$\n",
    "\n",
    "\n",
    "$$-g_{k} = -(\\frac{-y_i}{1+ e^{yf_{k-1}(x_i)}})){_{i=1}^n}$$\n",
    "\n",
    "$$-g_{k} = (\\frac{y_i}{1+ e^{yf_{k-1}(x_i)}}){_{i=1}^n}$$\n",
    "\n",
    "The dimension of $g_m$ is $R^n$\n",
    "\n",
    "\n",
    "\n",
    "### Q.E.D"
   ]
  },
  {
   "cell_type": "markdown",
   "id": "7876ba57",
   "metadata": {},
   "source": [
    "# Problem 8:\n",
    "\n",
    "Write an expression for $h_m$ as an argmin over functions h in $\\mathcal{F}$\n",
    "\n",
    "## Problem 8 answer:\n",
    "\n",
    "To get the answer for our function h $\\in$ hypothesis space $\\mathcal{H}$ that minimizes our loss, we simply take the closest function that approximates our negative gradient in the $\\mathcal{l}^2$ sense.\n",
    "\n",
    "In other words, we take our negative gradient, and find the h that minimizes the squared erro:\n",
    "\n",
    "$$h_m = \\underset{h \\ \\in \\mathcal{F}}{argmin} \\sum_i^n (-g_i - h(x_i))^2 $$\n",
    "\n",
    "plugging $-g_k$ in we get:\n",
    "\n",
    "$$h_m = \\underset{h \\ \\in \\mathcal{F}}{argmin} \\sum_i^n [(\\frac{y_i}{e^{yf_{k-1}(x_i)}})- h(x_i)]^2 $$\n",
    "\n",
    "### Q.E.D\n"
   ]
  },
  {
   "cell_type": "markdown",
   "id": "b293697f",
   "metadata": {},
   "source": [
    "# Problem 9:\n",
    "\n",
    "Load the MNIST dataset using the helper preprocessing function in the skeleton code.Using the scikit learn implementation of GradientBoostingClassifier, with the logistic loss (loss=‘deviance’) and trees of maximum depth 3, fit the data with 2, 5, 10, 100 and 200 iterations (estimators). Plot the train and test accuracy as a function of the number of estimators.\n",
    "\n",
    "## Problem 9 answer:\n",
    "\n",
    "Done below \n"
   ]
  },
  {
   "cell_type": "code",
   "execution_count": 79,
   "id": "acad64ba",
   "metadata": {
    "ExecuteTime": {
     "end_time": "2022-04-18T01:29:24.170881Z",
     "start_time": "2022-04-18T01:29:05.890879Z"
    }
   },
   "outputs": [],
   "source": [
    "from sklearn.datasets import fetch_openml\n",
    "from sklearn.linear_model import LogisticRegression\n",
    "from sklearn.model_selection import train_test_split\n",
    "from sklearn.preprocessing import StandardScaler\n",
    "from sklearn.utils import check_random_state\n",
    "\n",
    "\n",
    "def pre_process_mnist_01():\n",
    "    \"\"\"\n",
    "    Load the mnist datasets, selects the classes 0 and 1 \n",
    "    and normalize the data.\n",
    "    Args: none\n",
    "    Outputs: \n",
    "        X_train: np.array of size (n_training_samples, n_features)\n",
    "        X_test: np.array of size (n_test_samples, n_features)\n",
    "        y_train: np.array of size (n_training_samples)\n",
    "        y_test: np.array of size (n_test_samples)\n",
    "    \"\"\"\n",
    "    X_mnist, y_mnist = fetch_openml('mnist_784', version=1, \n",
    "                                    return_X_y=True, as_frame=False)\n",
    "    indicator_01 = (y_mnist == '0') + (y_mnist == '1') \n",
    "    X_mnist_01 = X_mnist[indicator_01]\n",
    "    y_mnist_01 = y_mnist[indicator_01]\n",
    "    X_train, X_test, y_train, y_test = train_test_split(X_mnist_01, y_mnist_01,\n",
    "                                                        test_size=0.33,\n",
    "                                                        shuffle=False)\n",
    "\n",
    "    scaler = StandardScaler()\n",
    "    X_train = scaler.fit_transform(X_train) \n",
    "    X_test = scaler.transform(X_test)\n",
    "\n",
    "    y_test = 2 * np.array([int(y) for y in y_test]) - 1\n",
    "    y_train = 2 * np.array([int(y) for y in y_train]) - 1\n",
    "    return X_train, X_test, y_train, y_test\n",
    "X_train, X_test, y_train, y_test = pre_process_mnist_01()"
   ]
  },
  {
   "cell_type": "code",
   "execution_count": 81,
   "id": "00c82c40",
   "metadata": {
    "ExecuteTime": {
     "end_time": "2022-04-18T01:47:16.138719Z",
     "start_time": "2022-04-18T01:39:08.983349Z"
    }
   },
   "outputs": [
    {
     "name": "stdout",
     "output_type": "stream",
     "text": [
      "fitting gbc with 2 estimators\n",
      "fitting gbc with 5 estimators\n",
      "fitting gbc with 10 estimators\n",
      "fitting gbc with 100 estimators\n",
      "fitting gbc with 200 estimators\n",
      "fitting gbc with 500 estimators\n",
      "fitting gbc with 1000 estimators\n"
     ]
    },
    {
     "data": {
      "text/plain": [
       "[]"
      ]
     },
     "execution_count": 81,
     "metadata": {},
     "output_type": "execute_result"
    },
    {
     "data": {
      "image/png": "[encoded data removed]",
      "text/plain": [
       "<Figure size 432x288 with 1 Axes>"
      ]
     },
     "metadata": {
      "needs_background": "light"
     },
     "output_type": "display_data"
    }
   ],
   "source": [
    "loss_dict1 = {'train':[],\n",
    "          'test':[]\n",
    "         }\n",
    "n_estimators = [2, 5, 10, 100,200,500,1000]\n",
    "\n",
    "for n in n_estimators:\n",
    "    gbc = GradientBoostingClassifier(n_estimators=n, loss='deviance', max_depth = 3)\n",
    "    print('fitting gbc with ' + str(n) + ' estimators')\n",
    "    gbc.fit(X_train, y_train)\n",
    "    loss_dict1['train'].append(gbc.score(X_train, y_train))\n",
    "    loss_dict1['test'].append(gbc.score(X_test,y_test))\n",
    "    \n",
    "plt.plot(n_estimators, loss_dict1['train'], label = 'train accuracy')\n",
    "plt.plot(n_estimators, loss_dict1['test'], label = 'test accuracy')\n",
    "plt.legend()\n",
    "plt.plot()"
   ]
  },
  {
   "cell_type": "markdown",
   "id": "db63f67a",
   "metadata": {},
   "source": [
    "<div style=\"page-break-after: always;\"></div>"
   ]
  },
  {
   "cell_type": "markdown",
   "id": "b0b7bbb0",
   "metadata": {},
   "source": [
    "## Classification with Random Forests (Optional)\n",
    "\n",
    "# Problem 10:\n",
    "\n",
    "Another type of ensembling method we discussed in class are random forests. Explain in your own words the construction principle of random forests.\n",
    "\n",
    "## Problem 10 Answer:\n",
    "\n",
    "A random forest is an ensembling of decision trees for either regression or classification. \n",
    "\n",
    "The random forest are constructed as follows:\n",
    "\n",
    "1. In a parallel process, many permutations of our data are created through bootstrapping.\n",
    "\n",
    "2. For each of these boot-strapped samples takes a subset of features in our training data, (usually sqrt(num_features) or log(num_features). By both bootstrapping and taking a random subset of features, we make sure each individual decision tree has some variability between them.\n",
    "\n",
    "3. Individual decision trees are built (again, in parallel) by trying to maximize information gain. Best practice suggests that these trees should not be too deep, to avoid over-fitting.\n",
    "\n",
    "4. The n_trees parameter determines how many individual decision trees are to be built, once all of the trees have been finalized by maximizing information gain, and reaching the maximum depth the random forest can make a prediction on a new data point by ensembling each individual tree's prediction for that data point.\n",
    "\n",
    "There are many ways the ensembling can take place, either through some type of weighted averaging of the individual decision trees, or in the case of classification, the class that has the most decision trees chose it will be the predicted output for a given sample.\n",
    "\n"
   ]
  },
  {
   "cell_type": "markdown",
   "id": "4499bc9e",
   "metadata": {},
   "source": [
    "# Problem 11:\n",
    "\n",
    "Using the scikit learn implementation of RandomForestClassifier, with the entropy loss (criterion=‘entropy’) and trees of maximum depth 3, fit the preprocessed binary MNIST dataset with 2, 5, 10, 50, 100 and 200 estimators\n",
    "\n",
    "## Problem 11 Answer:\n",
    "\n",
    "Done below\n",
    "\n"
   ]
  },
  {
   "cell_type": "code",
   "execution_count": null,
   "id": "6f957c18",
   "metadata": {
    "ExecuteTime": {
     "end_time": "2022-04-18T01:47:16.166992Z",
     "start_time": "2022-04-18T01:47:16.166984Z"
    }
   },
   "outputs": [],
   "source": [
    "loss_dict2 = {'train':[],\n",
    "          'test':[]\n",
    "         }\n",
    "n_estimators = [2, 5, 10, 100,200,500]\n",
    "\n",
    "for n in n_estimators:\n",
    "    gbrf = RandomForestClassifier(n_estimators=n, criterion = 'entropy', max_depth = 3)\n",
    "    gbrf.fit(X_train, y_train)\n",
    "    loss_dict2['train'].append(gbrf.score(X_train, y_train))\n",
    "    loss_dict2['test'].append(gbrf.score(X_test,y_test))\n",
    "    \n",
    "plt.plot(n_estimators, loss_dict2['train'], label = 'train accuracy')\n",
    "plt.plot(n_estimators, loss_dict2['test'], label = 'test accuracy')\n",
    "plt.legend()\n",
    "plt.plot()"
   ]
  },
  {
   "cell_type": "markdown",
   "id": "3cd53c6c",
   "metadata": {},
   "source": [
    "# Problem 12\n",
    "\n",
    "What general remark can you make on overfitting for Random Forests and Gradient Boosted Trees? Which method achieves the best train accuracy overall? Is this result expected? Can you think of a practical disadvantage of the best performing method? How do the algorithms compare in term of test accuracy?\n",
    "\n",
    "## Problem 12 Answer:\n",
    "\n",
    "The model that overfits the most, is the Gradient Boosted Decision Tree, which also reached perfect training accuracy. This is expected, as a single decision tree using the same fitting parameters will have a higher variance than an ensembling of multiple decision trees with the same parameters (albeit, fitted on only a subset of columns). By fitting the data extremely well, and increasing the number of iterations, we observed a perfect training accuracy for Gradient Boosted decision trees after 100 estimators. Test accuracy did continue to rise as we increased the number of iterations as well for this method. \n",
    "\n",
    "A practical disadvantage of the Gradient Boosted Decision Tree would be hyper-parameter tuning. If we can on our validation set, find a set of hyperparameters that perfectly fits the validation dataset by increasing the number of iterations, and then use that model on unseen data, our performance may drift from what we would expect to be an extremely strong model, because of the over-fitting. \n",
    "\n",
    "\n",
    "\n",
    "With the Gradient boosted random forest, aggregating multiple decision trees prevents said overfitting, as does the column subsection. We observe that the training error and test error actually peaked at just 10 iterations. In a train-validation-test split, seeing a peak and then a following descent gives us confidence that we are choosing a set of hyperparameters that were not over-fit to the specific dataset.\n",
    "\n",
    "When comparing test accuracy, at n_estimators = 200, the Gradient Boosted Decision Tree performed as optimally as the Gradient Boosted Random Forst with 10 estimators. "
   ]
  }
 ],
 "metadata": {
  "kernelspec": {
   "display_name": "Python 3",
   "language": "python",
   "name": "python3"
  },
  "language_info": {
   "codemirror_mode": {
    "name": "ipython",
    "version": 3
   },
   "file_extension": ".py",
   "mimetype": "text/x-python",
   "name": "python",
   "nbconvert_exporter": "python",
   "pygments_lexer": "ipython3",
   "version": "3.8.8"
  },
  "latex_envs": {
   "LaTeX_envs_menu_present": true,
   "autoclose": false,
   "autocomplete": true,
   "bibliofile": "biblio.bib",
   "cite_by": "apalike",
   "current_citInitial": 1,
   "eqLabelWithNumbers": true,
   "eqNumInitial": 1,
   "hotkeys": {
    "equation": "Ctrl-E",
    "itemize": "Ctrl-I"
   },
   "labels_anchors": false,
   "latex_user_defs": false,
   "report_style_numbering": false,
   "user_envs_cfg": false
  },
  "toc": {
   "base_numbering": 1,
   "nav_menu": {},
   "number_sections": true,
   "sideBar": true,
   "skip_h1_title": false,
   "title_cell": "Table of Contents",
   "title_sidebar": "Contents",
   "toc_cell": false,
   "toc_position": {},
   "toc_section_display": true,
   "toc_window_display": false
  },
  "varInspector": {
   "cols": {
    "lenName": 16,
    "lenType": 16,
    "lenVar": 40
   },
   "kernels_config": {
    "python": {
     "delete_cmd_postfix": "",
     "delete_cmd_prefix": "del ",
     "library": "var_list.py",
     "varRefreshCmd": "print(var_dic_list())"
    },
    "r": {
     "delete_cmd_postfix": ") ",
     "delete_cmd_prefix": "rm(",
     "library": "var_list.r",
     "varRefreshCmd": "cat(var_dic_list()) "
    }
   },
   "types_to_exclude": [
    "module",
    "function",
    "builtin_function_or_method",
    "instance",
    "_Feature"
   ],
   "window_display": false
  }
 },
 "nbformat": 4,
 "nbformat_minor": 5
}
