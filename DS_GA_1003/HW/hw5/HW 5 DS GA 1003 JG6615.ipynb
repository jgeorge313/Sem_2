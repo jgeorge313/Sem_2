{
 "cells": [
  {
   "cell_type": "markdown",
   "id": "f048ad77",
   "metadata": {},
   "source": [
    "## HW 5 SGD for Multiclass Linear SVM\n",
    "## Joby George (jg6615)\n",
    "## Due 4/8/2022"
   ]
  },
  {
   "cell_type": "markdown",
   "id": "2b7c9e17",
   "metadata": {},
   "source": [
    "## Bayesian Modeling\n",
    "\n",
    "This section analyzes logistic regression in the Bayesian setting, where we introduce a prior $p(w)$ on  $w\\in\\mathbb{R}^{d}$. Consider a binary classification setting with input\n",
    "space $\\mathcal{X}=\\mathbb{R}^{d}$, outcome space $\\mathcal{Y}_{\\pm}=\\left\\{ -1,1\\right\\} $,\n",
    "and a dataset $\\mathcal{D}=\\left((x_{(1)},y_{(1)}),\\ldots,(x_{(n)},y_{(n)})\\right)$.\n",
    "\n",
    "# Problem 1 Prompt\n",
    "\n",
    "Give an expression for the posterior density p(w|D) in terms of negative log-likelihood function $NLL_D(w)$ and the prior density p(w) (up to a proportionality constant is fine).\n",
    "\n",
    "## Problem 1 answer\n",
    "\n",
    "\n",
    "By Bayes rule we can express the posterior density as:\n",
    "\n",
    "$$p(w|D) = \\frac{P(w \\cap D)}{P(D)} $$\n",
    "\n",
    "By chain rule we can re-express the numerator, giving us:\n",
    "\n",
    "\n",
    "$$p(w|D) = \\frac{P(D|w)*P(w)}{P(D)} $$\n",
    "\n",
    "we can re-express P(D|w), the likelihood, as the $e^{NLL_D(w)}$,  and re-express the proportionality constant is the denominator $\\frac{1}{P(D)}$ which we can express as K, giving us:\n",
    "\n",
    "$$p(w|D) = K*e^{-NLL_D(w)}P(w) $$\n",
    "\n",
    "\n",
    "### Q.E.D \n",
    "\n"
   ]
  },
  {
   "cell_type": "markdown",
   "id": "529889d5",
   "metadata": {},
   "source": [
    "# Problem 2 Prompt \n",
    "\n",
    "Suppose we take a prior on $w$ of the form $w\\sim\\mathcal{N}(0,\\Sigma)$, that is in the Gaussian family. Is this a conjugate prior to the likelihood given by logistic regression?\n",
    "\n",
    "## Problem 2 Answer\n",
    "\n",
    "We can start with Equation Three from Part 1 to understand whether the Gaussian Prior on our weight vector is a conjugate prior, replacing $\\frac{1}{P(D)}$ with a constant K we see:\n",
    "\n",
    "$$p(w|D) = K(-\\sum_{i}^{n}y_{i} log(f((w^{T}x_{i}))+(1-y_{i})(log(1−f(w^{T}x_{i})))*P(w))$$\n",
    "\n",
    "The posterior does not take the form of a Gaussian Distribution, and therefore the Gaussian Prior is not a conjugate prior to the likelihood given by logistic regression\n",
    "\n",
    "### Q.E.D."
   ]
  },
  {
   "cell_type": "markdown",
   "id": "49012099",
   "metadata": {},
   "source": [
    "# Problem 3 Prompt\n",
    "\n",
    "Show that there exist a covariance matrix $\\Sigma$ such that MAP (maximum a posteriori) estimate for $w$\n",
    "after observing data $\\mathcal{D}$ is the same as the minimizer of the regularized\n",
    "logistic regression function defined in Regularized Logistic Regression paragraph above, and give its value. \n",
    "\n",
    "Hint: Consider minimizing the negative log posterior of $w$. Also, remember you can drop any terms from the objective function that don't depend on $w$. You may freely use results of previous problems.\n",
    "\n",
    "## Problem 3 Answer\n",
    "\n",
    "Using the Hint and equation 5 from Question 1, we can state:\n",
    "\n",
    "$$-log(p(w|D)) = -(log(K) + -NLL + log(P(w)) $$\n",
    "\n",
    "Following the hint to disregard variables that do not depend on w, we see and applying the negative sign, we see:\n",
    "\n",
    "$$-log(p(w|D)) = NLL - log(P(w)) $$\n",
    "\n",
    "We know multivariate Gaussian distribution with $\\mu$ =0 and $\\Sigma$ = $\\Sigma$ takes the form:\n",
    "\n",
    "$$P(w) = \\frac{e^{\\frac{-1}{2}w^T\\Sigma^{-1}}w}{\\sqrt{(2\\pi)^d\\det{\\Sigma}}}$$ \n",
    "\n",
    "Where the det stands for the determinant of $\\Sigma$ and d represents the number of features \n",
    "\n",
    "When taking the log of this, we observe:\n",
    "\n",
    "$$-logP(w) = - \\frac{d}{2}log{(2\\pi\\det{\\Sigma})} + w^T\\Sigma^{-1}w$$ \n",
    "\n",
    "Additionally, we have proven in previous homework that our NLL is equivalent to the ERM of logistic regression with Hinge Loss, giving us:\n",
    "\n",
    "$$argmax(-log(p(w|D))) = W_{map} =  \\sum_i^{n}log(1 +e^{-y_i\\theta^{T}x_i}) - \\frac{d}{2}log{(2\\pi\\det{\\Sigma})} + \\frac{1}{2}w^T\\Sigma^{-1}w $$\n",
    "\n",
    "Furthermore we can eliminate the  $\\frac{d}{2}log{(2\\pi\\det{\\Sigma})}$ term as it does not rely on w giving us \n",
    "\n",
    "$$ W_{map} = \\sum_i^{n}log(1 +e^{-y_i\\theta^{T}x_i}) + \\frac{1}{2}w^T\\Sigma^{-1}w $$\n",
    "\n",
    "The Empirical Risk Minimizer for Regularized Logistic Regression is \n",
    "\n",
    "$$ERM{L(w, \\lambda)} = argmin \\frac{1}{n}\\sum_i^{n}log(1 +e^{-y_i\\theta^{T}x_i}) + \\lambda||w||^2$$\n",
    "\n",
    "Therefore if:\n",
    "$$\\Sigma = \\frac{1}{2n\\lambda}I $$ we observe:\n",
    "\n",
    "$$w_{MAP} = \\sum_i^{n}log(1 +e^{-y_i\\theta^{T}x_i}) + n\\lambda||w||^2 $$\n",
    "\n",
    "we can scale the whole side by $\\frac{1}{n}$ and not alter our $W_{map}$ giving us:\n",
    "\n",
    "$$w_{MAP} = \\frac{1}{n}\\sum_i^{n}log(1 +e^{-y_i\\theta^{T}x_i}) + \\lambda||w||^2 $$\n",
    "\n",
    "which equals the ERM of Regularized Logistic Regression.\n",
    "\n",
    "### Q.E.D\n",
    "\n"
   ]
  },
  {
   "cell_type": "markdown",
   "id": "1e508b7f",
   "metadata": {},
   "source": [
    "# Problem 4 Prompt\n",
    "\n",
    "In the Bayesian approach, the prior should reflect your beliefs about the parameters before seeing the data and, in particular, should be independent on the eventual size of your dataset. Imagine choosing a prior distribution $w\\sim\\mathcal{N}(0,I)$. For a dataset $\\mathcal{D}$ of size $n$, how should you choose $\\lambda$ in our regularized\n",
    "logistic regression objective function so that the ERM is equal to the mode of the posterior distribution of $w$ (i.e. is equal to the MAP estimator). \n",
    "\n",
    "\n",
    "## Problem 4 Answer\n",
    "In this case our prior, has a covariance matrix that simply equals the identity matrix, we can observe:\n",
    "\n",
    "$$ I = \\frac{1}{2n\\lambda}I $$\n",
    "\n",
    "$$ 1 = \\frac{1}{2n\\lambda} $$\n",
    "$$ \\lambda = \\frac{1}{2n} $$\n",
    "\n",
    "### Q.E.D."
   ]
  },
  {
   "cell_type": "markdown",
   "id": "1ac1ae4a",
   "metadata": {
    "ExecuteTime": {
     "end_time": "2022-03-30T15:53:27.589215Z",
     "start_time": "2022-03-30T15:53:27.578556Z"
    }
   },
   "source": [
    "<div style=\"page-break-after: always;\"></div>"
   ]
  },
  {
   "cell_type": "markdown",
   "id": "bc9bccba",
   "metadata": {},
   "source": [
    "## Coin Flipping with Partial Observability \n",
    "This is continuing your analysis done in HW4, you may use the results you obtained in HW4\n",
    "\n",
    "Consider flipping a biased coin where $p(z=H\\mid \\theta_1) = \\theta_1$. However, we cannot directly observe the result $z$. Instead, someone reports the result to us,which we denote by $x$.\n",
    "\n",
    "Further, there is a chance that the result is reported incorrectly, if it's a head. Specifically, we have $p(x=H\\mid z=H, \\theta_2) = \\theta_2$ and $p(x=T\\mid z=T) = 1$.\n",
    "\n",
    "# Problem 5 Prompt\n",
    "\n",
    "We additionally obtained a set of clean results $\\mathcal{D}_c$ of size $N_c$, where $x$ is directly observed without the reporter in the middle. \n",
    "\n",
    "Given that there are $c_h$ heads and $c_t$ tails, estimate $\\theta_1$ and $\\theta_2$ by MLE taking the two data sets into account. Note that the likelihood is $L(\\theta_1, \\theta_2) = p(\\mathcal{D}_r, \\mathcal{D}_c\\mid \\theta_1, \\theta_2)$.\n",
    "\n",
    "## Problem 5 Answer \n",
    "\n",
    "Since we know the true outcome of flips, the Maximum Likelihood of the probability of heads is simply the ratio of heads over total flips from $D_c$:\n",
    "\n",
    "$$\\theta_{1MLE} = \\frac{c_h}{c_h+c_t}$$\n",
    "\n",
    "In order to find $\\theta_{2MLE}$ we have to examine the ratio of falsified heads (reported tails - true tails) to total number of true heads, giving us.\n",
    "\n",
    "$$\\theta_{2MLE} = \\frac{d_t-c_t}{c_h}$$\n",
    "\n",
    "\n",
    "### Q.E.D"
   ]
  },
  {
   "cell_type": "markdown",
   "id": "f6a0b69a",
   "metadata": {},
   "source": [
    "# Problem 6 Prompt\n",
    "\n",
    "Since the clean results are expensive, we only have a small number of those and we are worried that we may over fit the data.\n",
    "\n",
    "To mitigate over fitting we can use a prior distribution on $\\theta_1$ if available. Let's imagine that an oracle gave use the prior $p(\\theta_1) = \\beta(h, t)$.\n",
    "\n",
    "Derive the MAP estimates for $\\theta_1$ and $\\theta_2$.\n",
    "\n",
    "## Problem 6 answer\n",
    "\n",
    "$$P(\\theta_1|D_c)  \\space \\alpha  \\space P(D_c |\\theta_1)P(\\theta_1) $$\n",
    "\n",
    "This equals\n",
    "$$(P(\\theta_1|D_c))\\space \\alpha \\space \\theta_1^{c_h}*(1-\\theta_1)^{c_t}*\\theta_1^h*(1-\\theta_1)^t$$\n",
    "\n",
    "$$P(\\theta_1|D_c)) \\space \\alpha \\space \\theta_1^{c_h + h}*(1-\\theta_1)^{c_t+t} $$\n",
    "$$\\theta_{1MAP} = mode(\\beta(c_h+h,c_t+t)) $$"
   ]
  },
  {
   "cell_type": "markdown",
   "id": "d79a602b",
   "metadata": {},
   "source": [
    "<div style=\"page-break-after: always;\"></div>"
   ]
  },
  {
   "cell_type": "markdown",
   "id": "d74d6e67",
   "metadata": {},
   "source": [
    "## Derivation for multi-class modeling\n",
    "\n",
    "Suppose our output space and our action space are given as follows:\n",
    "\n",
    "$\\mathcal{Y}=\\mathcal{A}=\\left\\{ 1,\\ldots,k\\right\\} $. \n",
    "\n",
    "\n",
    "Given a non-negative class-sensitive loss function \n",
    "$$\\Delta:\\mathcal{Y}\\times\\mathcal{A}\\to[0,\\infty)$$ \n",
    "\n",
    "and a class-sensitive feature mapping \n",
    "$$\\Psi:\\mathcal{X}\\times\\mathcal{Y}\\to\\mathbb{R}^{d}$$\n",
    "\n",
    "Our prediction is\n",
    "function $f:\\mathcal{X}\\to\\mathcal{Y}$ is given by\n",
    "\n",
    "\n",
    "$$f_{w}(x)=argmax_{y\\in\\mathcal{Y}}\\left\\langle w,\\Psi(x,y)\\right\\rangle$$\n",
    "\n",
    "For training data $(x_{1},y_{1}),\\ldots,(x_{n},y_{n})\\in\\mathcal{X}\\times\\mathcal{Y}$, let $J(w)$ be the $\\ell_{2}$-regularized empirical risk function for the multiclass hinge loss. We can write this as\n",
    "\n",
    "\\[\n",
    "J(w)=\\lambda\\|w\\|^{2}+\\frac{1}{n}\\sum_{i=1}^{n}\\max_{y\\in\\mathcal{Y}}\\left[\\Delta\\left(y_{i},y\\right)+\\left\\langle w,\\Psi(x_{i},y)-\\Psi(x_{i},y_{i})\\right\\rangle \\right]\n",
    "\\]\n",
    "for some $\\lambda>0$.\n",
    "\n",
    "# Problem 7 Prompt\n",
    "\n",
    "Show that $J(w)$ is a convex function of $w$. You may use any of the rules about convex functions described in our [notes on convex optimatzion](https://davidrosenberg.github.io/mlcourse/Notes/convex-optimization.pdf),\n",
    "in previous assignments, or in the Boyd and Vandenberghe book, though you should cite the general facts you are using. \n",
    "\n",
    "\n",
    "Hint: If $f_{1},\\ldots,f_{m}:\\mathbb{R}^{n}\\to\\mathbb{R}$\n",
    "are convex, then their point wise maximum $f(x)=\\max\\left\\{ f_{1}(x),\\ldots,f_{m}(x)\\right\\} $\n",
    "is also convex.\n",
    "\n",
    "## Problem 7 Answer"
   ]
  },
  {
   "cell_type": "markdown",
   "id": "a3a4997c",
   "metadata": {},
   "source": [
    "# Problem 8 Prompt\n",
    "\n",
    "Since $J(w)$ is convex, it has a subgradient at every point. Give an expression for a subgradient of $J(w)$. You may use any standard results about subgradients, including the result from an earlier homework\n",
    "about subgradients of the pointwise maxima of functions. \n",
    "\n",
    "Hint: It may be helpful to refer to $\\hat{y}_{i}=argmax_{y\\in\\mathcal{Y}}\\left[\\Delta\\left(y_{i},y\\right)+\\left\\langle w,\\Psi(x_{i},y)-\\Psi(x_{i},y_{i})\\right\\rangle \\right]$.\n",
    "\n",
    "## Problem 8 Answer"
   ]
  },
  {
   "cell_type": "markdown",
   "id": "a37bcb90",
   "metadata": {},
   "source": [
    "# Problem 9 Prompt\n",
    "\n",
    "Give an expression for the stochastic subgradient based on the point $(x_{i},y_{i})$.\n",
    "\n",
    "## Problem 9 answer"
   ]
  },
  {
   "cell_type": "markdown",
   "id": "d240f19a",
   "metadata": {},
   "source": [
    "# Problem 10 Prompt\n",
    "\n",
    "Give an expression for a minibatch subgradient, based on the points $(x_{i},y_{i}),\\ldots,\\left(x_{i+m-1},y_{i+m-1}\\right)$.\n",
    "\n",
    "## Problem 10 Answer"
   ]
  },
  {
   "cell_type": "markdown",
   "id": "5a31af8e",
   "metadata": {},
   "source": [
    "<div style=\"page-break-after: always;\"></div>"
   ]
  },
  {
   "cell_type": "markdown",
   "id": "fa098261",
   "metadata": {},
   "source": [
    "## Optional Problem: Hinge Loss is a special Case of Generalized Hinge Loss\n",
    "\n",
    "Let $\\mathcal{Y}=\\left\\{ -1,1\\right\\} $. Let $\\Delta(y,\\hat{y})=1({y\\neq\\hat{y}}).$\n",
    "\n",
    "If $g(x)$ is the score function in our binary classification setting, then define our compatibility function as \n",
    "\\begin{eqnarray*}\n",
    "h(x,1) & = & g(x)/2\\\\\n",
    "h(x,-1) & = & -g(x)/2.\n",
    "\\end{eqnarray*}\n",
    "Show that for this choice of $h$, the multiclass hinge loss reduces\n",
    "to hinge loss: \n",
    "\\[\n",
    "\\ell\\left(h,\\left(x,y\\right)\\right)=\\max_{y'\\in\\mathcal{Y}}\\left[\\Delta\\left(y,y')\\right)+h(x,y')-h(x,y)\\right]=\\max\\left\\{ 0,1-yg(x)\\right\\} \n",
    "\\]\n",
    "\n",
    "## Answer"
   ]
  },
  {
   "cell_type": "markdown",
   "id": "7d97c3d8",
   "metadata": {},
   "source": [
    "<div style=\"page-break-after: always;\"></div>"
   ]
  },
  {
   "cell_type": "code",
   "execution_count": 1,
   "id": "9a54da05",
   "metadata": {
    "ExecuteTime": {
     "end_time": "2022-04-01T20:08:28.644299Z",
     "start_time": "2022-04-01T20:08:27.163096Z"
    }
   },
   "outputs": [],
   "source": [
    "import numpy as np\n",
    "import matplotlib.pyplot as plt\n",
    "try:\n",
    "    from sklearn.datasets.samples_generator import make_blobs\n",
    "except:\n",
    "    from sklearn.datasets import make_blobs\n",
    "\n",
    "%matplotlib inline"
   ]
  },
  {
   "cell_type": "code",
   "execution_count": 5,
   "id": "44a54714",
   "metadata": {
    "ExecuteTime": {
     "end_time": "2022-04-01T20:44:00.432583Z",
     "start_time": "2022-04-01T20:44:00.289249Z"
    }
   },
   "outputs": [
    {
     "data": {
      "text/plain": [
       "<matplotlib.collections.PathCollection at 0x7fedb85fe850>"
      ]
     },
     "execution_count": 5,
     "metadata": {},
     "output_type": "execute_result"
    },
    {
     "data": {
      "image/png": "[encoded data removed]",
      "text/plain": [
       "<Figure size 432x288 with 1 Axes>"
      ]
     },
     "metadata": {
      "needs_background": "light"
     },
     "output_type": "display_data"
    }
   ],
   "source": [
    "# Create the  training data\n",
    "np.random.seed(2)\n",
    "X, y = make_blobs(n_samples=300,cluster_std=.25, centers=np.array([(-3,1),(0,2),(3,1)]))\n",
    "plt.scatter(X[:, 0], X[:, 1], c=y, s=50)"
   ]
  },
  {
   "cell_type": "markdown",
   "id": "457b5edd",
   "metadata": {},
   "source": [
    "## Implementation\n",
    "\n",
    "In this problem we will work on a simple three-class classification example. The data is generated and plotted for you in the skeleton code.\n",
    "\n",
    "## One-vs-All (also known as One-vs-Rest)\n",
    "\n",
    "First we will implement one-vs-all multiclass classification. Our approach will assume we have a binary base classifier that returns a score, and we will predict the class that has the highest score.\n",
    "\n",
    "# Problem 11 Prompt\n",
    "\n",
    "Complete the methods fit, decision function and predict from OneVsAllClassifier in the skeleton code. Following the OneVsAllClassifier code is a cell that extracts the results of the fit and plots the decision region. You can have a look at it first to make sure you understand how the class will be used.\n",
    " \n",
    " ## Problem 11 Answer\n",
    " \n",
    " done below\n",
    " "
   ]
  },
  {
   "cell_type": "code",
   "execution_count": 12,
   "id": "3a0703dc",
   "metadata": {
    "ExecuteTime": {
     "end_time": "2022-04-01T20:53:58.060321Z",
     "start_time": "2022-04-01T20:53:58.041741Z"
    }
   },
   "outputs": [],
   "source": [
    "from sklearn.base import BaseEstimator, ClassifierMixin, clone\n",
    "\n",
    "class OneVsAllClassifier(BaseEstimator, ClassifierMixin):  \n",
    "    \"\"\"\n",
    "    One-vs-all classifier\n",
    "    We assume that the classes will be the integers 0,..,(n_classes-1).\n",
    "    We assume that the estimator provided to the class, after fitting, has a \"decision_function\" that \n",
    "    returns the score for the positive class.\n",
    "    \"\"\"\n",
    "    def __init__(self, estimator, n_classes):      \n",
    "        \"\"\"\n",
    "        Constructed with the number of classes and an estimator (e.g. an\n",
    "        SVM estimator from sklearn)\n",
    "        @param estimator : binary base classifier used\n",
    "        @param n_classes : number of classes\n",
    "        \"\"\"\n",
    "        self.n_classes = n_classes \n",
    "        self.estimators = [clone(estimator) for _ in range(n_classes)]\n",
    "        self.fitted = False\n",
    "\n",
    "    def fit(self, X, y=None):\n",
    "        \"\"\"\n",
    "        This should fit one classifier for each class.\n",
    "        self.estimators[i] should be fit on class i vs rest\n",
    "        @param X: array-like, shape = [n_samples,n_features], input data\n",
    "        @param y: array-like, shape = [n_samples,] class labels\n",
    "        @return returns self\n",
    "        \"\"\"\n",
    "        #initialize a dictionary for each class\n",
    "        label_dict = {}\n",
    "        #for each class, create a np array with length n, that takes value 1 if y equals that class, 0 otherwise\n",
    "        for pred_class in range(self.n_classes):\n",
    "            label_dict[pred_class] = np.where(y==pred_class,1,0)\n",
    "        #evaluate the SVM's fit method on our training data, for each class using a binary class\n",
    "        for i in range(self.n_classes):\n",
    "            self.estimators[i].fit(X,label_dict[i])\n",
    "        self.fitted = True  \n",
    "        return self   \n",
    "\n",
    "    def decision_function(self, X):\n",
    "        \"\"\"\n",
    "        Returns the score of each input for each class. Assumes\n",
    "        that the given estimator also implements the decision_function method (which sklearn SVMs do), \n",
    "        and that fit has been called.\n",
    "        @param X : array-like, shape = [n_samples, n_features] input data\n",
    "        @return array-like, shape = [n_samples, n_classes]\n",
    "        \"\"\"\n",
    "        if not self.fitted:\n",
    "            raise RuntimeError(\"You must train classifer before predicting data.\")\n",
    "\n",
    "        if not hasattr(self.estimators[0], \"decision_function\"):\n",
    "            raise AttributeError(\n",
    "                \"Base estimator doesn't have a decision_function attribute.\")\n",
    "        \n",
    "        #Replace the following return statement with your code\n",
    "        \n",
    "        #Initialize a n_samples by n_classes matrix full of zeros\n",
    "        score = np.zeros([X.shape[0],self.n_classes])\n",
    "        \n",
    "        #for each column, apply SVM decision function\n",
    "        for i in range(self.n_classes):\n",
    "            score[:,i] = self.estimators[i].decision_function(X)\n",
    "        \n",
    "        return score\n",
    "    \n",
    "    def predict(self, X):\n",
    "        \"\"\"\n",
    "        Predict the class with the highest score.\n",
    "        @param X: array-like, shape = [n_samples,n_features] input data\n",
    "        @returns array-like, shape = [n_samples,] the predicted classes for each input\n",
    "        \"\"\"\n",
    "        #Replace the following return statement with your code\n",
    "        \n",
    "        #calculate the score to get probabilities for each class by running one vs all decision function on x\n",
    "        score = self.decision_function(X)\n",
    "        \n",
    "        return np.zeros(X.shape[0])\n",
    "\n",
    " "
   ]
  },
  {
   "cell_type": "code",
   "execution_count": 13,
   "id": "bfd3621b",
   "metadata": {
    "ExecuteTime": {
     "end_time": "2022-04-01T20:53:58.454449Z",
     "start_time": "2022-04-01T20:53:58.308255Z"
    }
   },
   "outputs": [
    {
     "name": "stdout",
     "output_type": "stream",
     "text": [
      "Coeffs 0\n",
      "[[-1.05854248 -0.90296099]]\n",
      "Coeffs 1\n",
      "[[0.20993215 0.53516979]]\n",
      "Coeffs 2\n",
      "[[ 0.89163053 -0.82602014]]\n"
     ]
    },
    {
     "name": "stderr",
     "output_type": "stream",
     "text": [
      "/Users/jobygeorge/opt/anaconda3/lib/python3.8/site-packages/sklearn/svm/_base.py:985: ConvergenceWarning: Liblinear failed to converge, increase the number of iterations.\n",
      "  warnings.warn(\"Liblinear failed to converge, increase \"\n"
     ]
    },
    {
     "data": {
      "text/plain": [
       "array([[100,   0,   0],\n",
       "       [100,   0,   0],\n",
       "       [100,   0,   0]])"
      ]
     },
     "execution_count": 13,
     "metadata": {},
     "output_type": "execute_result"
    },
    {
     "data": {
      "image/png": "[encoded data removed]",
      "text/plain": [
       "<Figure size 432x288 with 1 Axes>"
      ]
     },
     "metadata": {
      "needs_background": "light"
     },
     "output_type": "display_data"
    }
   ],
   "source": [
    "#Here we test the OneVsAllClassifier\n",
    "from sklearn import svm\n",
    "svm_estimator = svm.LinearSVC(loss='hinge', fit_intercept=False, C=200)\n",
    "clf_onevsall = OneVsAllClassifier(svm_estimator, n_classes=3)\n",
    "clf_onevsall.fit(X,y)\n",
    "\n",
    "for i in range(3) :\n",
    "    print(\"Coeffs %d\"%i)\n",
    "    print(clf_onevsall.estimators[i].coef_) #Will fail if you haven't implemented fit yet\n",
    "\n",
    "# create a mesh to plot in\n",
    "h = .02  # step size in the mesh\n",
    "x_min, x_max = min(X[:,0])-3,max(X[:,0])+3\n",
    "y_min, y_max = min(X[:,1])-3,max(X[:,1])+3\n",
    "xx, yy = np.meshgrid(np.arange(x_min, x_max, h),\n",
    "                     np.arange(y_min, y_max, h))\n",
    "mesh_input = np.c_[xx.ravel(), yy.ravel()]\n",
    "\n",
    "Z = clf_onevsall.predict(mesh_input)\n",
    "Z = Z.reshape(xx.shape)\n",
    "plt.contourf(xx, yy, Z, cmap=plt.cm.coolwarm, alpha=0.8)\n",
    "# Plot also the training points\n",
    "plt.scatter(X[:, 0], X[:, 1], c=y, cmap=plt.cm.coolwarm)\n",
    "\n",
    "\n",
    "from sklearn import metrics\n",
    "metrics.confusion_matrix(y, clf_onevsall.predict(X))"
   ]
  },
  {
   "cell_type": "markdown",
   "id": "88567d85",
   "metadata": {},
   "source": [
    "# Problem 12 Prompt\n",
    "\n",
    "Include the results of the test cell in your submission.\n",
    "\n",
    "## Problem 12 Answer\n",
    "\n",
    "done below"
   ]
  },
  {
   "cell_type": "code",
   "execution_count": null,
   "id": "02ea2fc1",
   "metadata": {},
   "outputs": [],
   "source": []
  },
  {
   "cell_type": "markdown",
   "id": "83cd5542",
   "metadata": {},
   "source": [
    "<div style=\"page-break-after: always;\"></div>"
   ]
  },
  {
   "cell_type": "markdown",
   "id": "4dbd31ef",
   "metadata": {},
   "source": [
    "## Multiclass SVM\n",
    "\n",
    "In this question, we will implement stochastic subgradient descent for the linear multiclass SVM, as described in class and in this problem set. We will use the class-sensitive feature mapping approach with the “multivector construction”, as described in the multiclass lecture.\n",
    "\n",
    "# Problem 13 Prompt\n",
    "\n",
    "Complete the function featureMap in the skeleton code.\n",
    "\n",
    "## Problem 13 Answer\n",
    "\n",
    "Done Below"
   ]
  },
  {
   "cell_type": "code",
   "execution_count": null,
   "id": "c047784d",
   "metadata": {},
   "outputs": [],
   "source": []
  },
  {
   "cell_type": "markdown",
   "id": "a1c96abd",
   "metadata": {},
   "source": [
    "# Problem 14 Prompt\n",
    "\n",
    "Complete the function sgd.\n",
    "\n",
    "## Problem 14 Answer\n",
    "\n",
    "Done Below"
   ]
  },
  {
   "cell_type": "code",
   "execution_count": null,
   "id": "e78fd585",
   "metadata": {},
   "outputs": [],
   "source": []
  },
  {
   "cell_type": "markdown",
   "id": "7fa4c5e4",
   "metadata": {},
   "source": [
    "# Problem 15 Prompt\n",
    "\n",
    "Complete the methods subgradient, decision function and predict from the class MulticlassSVM.\n",
    " \n",
    "## Problem 15 Answer\n",
    "\n",
    "Done Below"
   ]
  },
  {
   "cell_type": "code",
   "execution_count": null,
   "id": "d0e712f9",
   "metadata": {},
   "outputs": [],
   "source": []
  },
  {
   "cell_type": "markdown",
   "id": "ab29275a",
   "metadata": {},
   "source": [
    "# Problem 16 Prompt\n",
    "\n",
    "Following the multiclass SVM implementation, we have included another block of test code. Make sure to include the results from these tests in your assignment, along with your code.\n",
    "\n",
    "## Problem 16 Answer\n",
    "\n",
    "Done below"
   ]
  },
  {
   "cell_type": "code",
   "execution_count": null,
   "id": "b051efcf",
   "metadata": {},
   "outputs": [],
   "source": []
  }
 ],
 "metadata": {
  "kernelspec": {
   "display_name": "Python 3",
   "language": "python",
   "name": "python3"
  },
  "language_info": {
   "codemirror_mode": {
    "name": "ipython",
    "version": 3
   },
   "file_extension": ".py",
   "mimetype": "text/x-python",
   "name": "python",
   "nbconvert_exporter": "python",
   "pygments_lexer": "ipython3",
   "version": "3.8.8"
  },
  "latex_envs": {
   "LaTeX_envs_menu_present": true,
   "autoclose": false,
   "autocomplete": true,
   "bibliofile": "biblio.bib",
   "cite_by": "apalike",
   "current_citInitial": 1,
   "eqLabelWithNumbers": true,
   "eqNumInitial": 1,
   "hotkeys": {
    "equation": "Ctrl-E",
    "itemize": "Ctrl-I"
   },
   "labels_anchors": false,
   "latex_user_defs": false,
   "report_style_numbering": false,
   "user_envs_cfg": false
  },
  "toc": {
   "base_numbering": 1,
   "nav_menu": {},
   "number_sections": true,
   "sideBar": true,
   "skip_h1_title": false,
   "title_cell": "Table of Contents",
   "title_sidebar": "Contents",
   "toc_cell": false,
   "toc_position": {},
   "toc_section_display": true,
   "toc_window_display": false
  },
  "varInspector": {
   "cols": {
    "lenName": 16,
    "lenType": 16,
    "lenVar": 40
   },
   "kernels_config": {
    "python": {
     "delete_cmd_postfix": "",
     "delete_cmd_prefix": "del ",
     "library": "var_list.py",
     "varRefreshCmd": "print(var_dic_list())"
    },
    "r": {
     "delete_cmd_postfix": ") ",
     "delete_cmd_prefix": "rm(",
     "library": "var_list.r",
     "varRefreshCmd": "cat(var_dic_list()) "
    }
   },
   "types_to_exclude": [
    "module",
    "function",
    "builtin_function_or_method",
    "instance",
    "_Feature"
   ],
   "window_display": false
  }
 },
 "nbformat": 4,
 "nbformat_minor": 5
}
