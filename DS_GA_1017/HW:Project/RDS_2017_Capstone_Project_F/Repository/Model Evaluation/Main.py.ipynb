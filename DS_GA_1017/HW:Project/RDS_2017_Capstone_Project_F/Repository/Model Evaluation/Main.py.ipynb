{
 "cells": [
  {
   "cell_type": "code",
   "execution_count": 1,
   "id": "2fb7c53b",
   "metadata": {
    "ExecuteTime": {
<<<<<<< HEAD
     "end_time": "2022-05-04T21:04:07.110333Z",
     "start_time": "2022-05-04T21:04:06.069996Z"
=======
     "end_time": "2022-05-04T20:10:52.499790Z",
     "start_time": "2022-05-04T20:10:52.096429Z"
>>>>>>> 7bb4276 (uploading WIP files to github)
    }
   },
   "outputs": [],
   "source": [
    "from Model_Eval_helper import DataLoader\n",
    "import pandas as pd\n",
    "import sys\n",
    "import json"
   ]
  },
  {
   "cell_type": "code",
   "execution_count": 2,
   "id": "f483f60c",
   "metadata": {
    "ExecuteTime": {
<<<<<<< HEAD
     "end_time": "2022-05-04T21:04:07.113634Z",
     "start_time": "2022-05-04T21:04:07.112006Z"
=======
     "end_time": "2022-05-04T20:10:52.539187Z",
     "start_time": "2022-05-04T20:10:52.537394Z"
>>>>>>> 7bb4276 (uploading WIP files to github)
    }
   },
   "outputs": [],
   "source": [
    "DataLoader = DataLoader(dimmension_check=True)"
   ]
  },
  {
   "cell_type": "code",
   "execution_count": null,
   "id": "38a587a6",
   "metadata": {
    "ExecuteTime": {
<<<<<<< HEAD
     "start_time": "2022-05-04T21:04:06.030Z"
=======
     "start_time": "2022-05-04T20:10:54.430Z"
>>>>>>> 7bb4276 (uploading WIP files to github)
    }
   },
   "outputs": [
    {
     "name": "stdout",
     "output_type": "stream",
     "text": [
      "Reading Raw Data\n",
      "Joining datasets to training data ~ 1 min out of 9 mins to import data\n"
     ]
    },
    {
     "name": "stderr",
     "output_type": "stream",
     "text": [
      "/opt/anaconda3/lib/python3.8/site-packages/pandas/core/frame.py:9190: FutureWarning: Passing 'suffixes' which cause duplicate columns {'index_x'} in the result is deprecated and will raise a MergeError in a future version.\n",
      "  return merge(\n"
     ]
    },
    {
     "name": "stdout",
     "output_type": "stream",
     "text": [
      "Starting to merge feature engineering datasets ~ 1 minute 40 secs / 9 mins\n",
      "Reading Joint Data ~ 2 mins / 9 mins\n"
     ]
    }
   ],
   "source": [
    "%time data, test = DataLoader.import_train_test()"
   ]
  },
  {
   "cell_type": "code",
   "execution_count": null,
   "id": "76499055",
<<<<<<< HEAD
   "metadata": {
    "ExecuteTime": {
     "start_time": "2022-05-04T21:04:06.031Z"
    }
   },
   "outputs": [],
   "source": [
    "data.shape"
   ]
  },
  {
   "cell_type": "code",
   "execution_count": null,
   "id": "58e59180",
=======
>>>>>>> 7bb4276 (uploading WIP files to github)
   "metadata": {},
   "outputs": [],
   "source": []
  }
 ],
 "metadata": {
  "kernelspec": {
   "display_name": "Python 3 (ipykernel)",
   "language": "python",
   "name": "python3"
  },
  "language_info": {
   "codemirror_mode": {
    "name": "ipython",
    "version": 3
   },
   "file_extension": ".py",
   "mimetype": "text/x-python",
   "name": "python",
   "nbconvert_exporter": "python",
   "pygments_lexer": "ipython3",
   "version": "3.8.2"
  },
  "latex_envs": {
   "LaTeX_envs_menu_present": true,
   "autoclose": false,
   "autocomplete": true,
   "bibliofile": "biblio.bib",
   "cite_by": "apalike",
   "current_citInitial": 1,
   "eqLabelWithNumbers": true,
   "eqNumInitial": 1,
   "hotkeys": {
    "equation": "Ctrl-E",
    "itemize": "Ctrl-I"
   },
   "labels_anchors": false,
   "latex_user_defs": false,
   "report_style_numbering": false,
   "user_envs_cfg": false
  },
  "toc": {
   "base_numbering": 1,
   "nav_menu": {},
   "number_sections": true,
   "sideBar": true,
   "skip_h1_title": false,
   "title_cell": "Table of Contents",
   "title_sidebar": "Contents",
   "toc_cell": false,
   "toc_position": {},
   "toc_section_display": true,
   "toc_window_display": false
  },
  "varInspector": {
   "cols": {
    "lenName": 16,
    "lenType": 16,
    "lenVar": 40
   },
   "kernels_config": {
    "python": {
     "delete_cmd_postfix": "",
     "delete_cmd_prefix": "del ",
     "library": "var_list.py",
     "varRefreshCmd": "print(var_dic_list())"
    },
    "r": {
     "delete_cmd_postfix": ") ",
     "delete_cmd_prefix": "rm(",
     "library": "var_list.r",
     "varRefreshCmd": "cat(var_dic_list()) "
    }
   },
   "types_to_exclude": [
    "module",
    "function",
    "builtin_function_or_method",
    "instance",
    "_Feature"
   ],
   "window_display": false
  }
 },
 "nbformat": 4,
 "nbformat_minor": 5
}
