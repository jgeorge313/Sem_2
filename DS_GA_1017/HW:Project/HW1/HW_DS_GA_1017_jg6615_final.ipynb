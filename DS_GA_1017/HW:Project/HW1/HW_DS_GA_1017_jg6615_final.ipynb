{
 "cells": [
  {
   "cell_type": "markdown",
   "metadata": {
    "id": "43DBqagWutAE"
   },
   "source": [
    "# Responsible Data Science Spring 2022: Homework 1"
   ]
  },
  {
   "cell_type": "code",
   "execution_count": 1,
   "metadata": {
    "colab": {
     "base_uri": "https://localhost:8080/"
    },
    "id": "gtYGFyqSm2nk",
    "outputId": "ba8467da-c5e2-459f-8bd8-6f7d6c2de88e"
   },
   "outputs": [
    {
     "name": "stdout",
     "output_type": "stream",
     "text": [
      "Cloning into 'superquail'...\n",
      "remote: Enumerating objects: 24, done.\u001b[K\n",
      "remote: Counting objects: 100% (24/24), done.\u001b[K\n",
      "remote: Compressing objects: 100% (20/20), done.\u001b[K\n",
      "remote: Total 24 (delta 1), reused 20 (delta 1), pack-reused 0\u001b[K\n",
      "Unpacking objects: 100% (24/24), done.\n",
      "Collecting aif360==0.3.0\n",
      "  Downloading aif360-0.3.0-py3-none-any.whl (165 kB)\n",
      "\u001b[K     |████████████████████████████████| 165 kB 4.1 MB/s \n",
      "\u001b[?25hRequirement already satisfied: numpy>=1.16 in /usr/local/lib/python3.7/dist-packages (from aif360==0.3.0) (1.21.5)\n",
      "Requirement already satisfied: scikit-learn>=0.21 in /usr/local/lib/python3.7/dist-packages (from aif360==0.3.0) (1.0.2)\n",
      "Requirement already satisfied: matplotlib in /usr/local/lib/python3.7/dist-packages (from aif360==0.3.0) (3.2.2)\n",
      "Requirement already satisfied: pandas>=0.24.0 in /usr/local/lib/python3.7/dist-packages (from aif360==0.3.0) (1.3.5)\n",
      "Requirement already satisfied: scipy>=1.2.0 in /usr/local/lib/python3.7/dist-packages (from aif360==0.3.0) (1.4.1)\n",
      "Requirement already satisfied: pytz>=2017.3 in /usr/local/lib/python3.7/dist-packages (from pandas>=0.24.0->aif360==0.3.0) (2018.9)\n",
      "Requirement already satisfied: python-dateutil>=2.7.3 in /usr/local/lib/python3.7/dist-packages (from pandas>=0.24.0->aif360==0.3.0) (2.8.2)\n",
      "Requirement already satisfied: six>=1.5 in /usr/local/lib/python3.7/dist-packages (from python-dateutil>=2.7.3->pandas>=0.24.0->aif360==0.3.0) (1.15.0)\n",
      "Requirement already satisfied: joblib>=0.11 in /usr/local/lib/python3.7/dist-packages (from scikit-learn>=0.21->aif360==0.3.0) (1.1.0)\n",
      "Requirement already satisfied: threadpoolctl>=2.0.0 in /usr/local/lib/python3.7/dist-packages (from scikit-learn>=0.21->aif360==0.3.0) (3.1.0)\n",
      "Requirement already satisfied: cycler>=0.10 in /usr/local/lib/python3.7/dist-packages (from matplotlib->aif360==0.3.0) (0.11.0)\n",
      "Requirement already satisfied: pyparsing!=2.0.4,!=2.1.2,!=2.1.6,>=2.0.1 in /usr/local/lib/python3.7/dist-packages (from matplotlib->aif360==0.3.0) (3.0.7)\n",
      "Requirement already satisfied: kiwisolver>=1.0.1 in /usr/local/lib/python3.7/dist-packages (from matplotlib->aif360==0.3.0) (1.3.2)\n",
      "Installing collected packages: aif360\n",
      "Successfully installed aif360-0.3.0\n",
      "Collecting BlackBoxAuditing\n",
      "  Downloading BlackBoxAuditing-0.1.54.tar.gz (2.6 MB)\n",
      "\u001b[K     |████████████████████████████████| 2.6 MB 5.1 MB/s \n",
      "\u001b[?25hRequirement already satisfied: networkx in /usr/local/lib/python3.7/dist-packages (from BlackBoxAuditing) (2.6.3)\n",
      "Requirement already satisfied: matplotlib in /usr/local/lib/python3.7/dist-packages (from BlackBoxAuditing) (3.2.2)\n",
      "Requirement already satisfied: pandas in /usr/local/lib/python3.7/dist-packages (from BlackBoxAuditing) (1.3.5)\n",
      "Requirement already satisfied: numpy in /usr/local/lib/python3.7/dist-packages (from BlackBoxAuditing) (1.21.5)\n",
      "Requirement already satisfied: pyparsing!=2.0.4,!=2.1.2,!=2.1.6,>=2.0.1 in /usr/local/lib/python3.7/dist-packages (from matplotlib->BlackBoxAuditing) (3.0.7)\n",
      "Requirement already satisfied: kiwisolver>=1.0.1 in /usr/local/lib/python3.7/dist-packages (from matplotlib->BlackBoxAuditing) (1.3.2)\n",
      "Requirement already satisfied: cycler>=0.10 in /usr/local/lib/python3.7/dist-packages (from matplotlib->BlackBoxAuditing) (0.11.0)\n",
      "Requirement already satisfied: python-dateutil>=2.1 in /usr/local/lib/python3.7/dist-packages (from matplotlib->BlackBoxAuditing) (2.8.2)\n",
      "Requirement already satisfied: six>=1.5 in /usr/local/lib/python3.7/dist-packages (from python-dateutil>=2.1->matplotlib->BlackBoxAuditing) (1.15.0)\n",
      "Requirement already satisfied: pytz>=2017.3 in /usr/local/lib/python3.7/dist-packages (from pandas->BlackBoxAuditing) (2018.9)\n",
      "Building wheels for collected packages: BlackBoxAuditing\n",
      "  Building wheel for BlackBoxAuditing (setup.py) ... \u001b[?25l\u001b[?25hdone\n",
      "  Created wheel for BlackBoxAuditing: filename=BlackBoxAuditing-0.1.54-py2.py3-none-any.whl size=1394770 sha256=3da263091a6c5c737b93d4be950468e27f86a41c4bd11e281dc789d2daf69d65\n",
      "  Stored in directory: /root/.cache/pip/wheels/05/9f/ee/541a74be4cf5dad17430e64d3276370ea7b6a834a76cb4215a\n",
      "Successfully built BlackBoxAuditing\n",
      "Installing collected packages: BlackBoxAuditing\n",
      "Successfully installed BlackBoxAuditing-0.1.54\n",
      "Collecting tensorflow==1.13.1\n",
      "  Downloading tensorflow-1.13.1-cp37-cp37m-manylinux1_x86_64.whl (92.6 MB)\n",
      "\u001b[K     |████████████████████████████████| 92.6 MB 1.1 MB/s \n",
      "\u001b[?25hCollecting tensorboard<1.14.0,>=1.13.0\n",
      "  Downloading tensorboard-1.13.1-py3-none-any.whl (3.2 MB)\n",
      "\u001b[K     |████████████████████████████████| 3.2 MB 39.2 MB/s \n",
      "\u001b[?25hRequirement already satisfied: termcolor>=1.1.0 in /usr/local/lib/python3.7/dist-packages (from tensorflow==1.13.1) (1.1.0)\n",
      "Requirement already satisfied: absl-py>=0.1.6 in /usr/local/lib/python3.7/dist-packages (from tensorflow==1.13.1) (1.0.0)\n",
      "Requirement already satisfied: gast>=0.2.0 in /usr/local/lib/python3.7/dist-packages (from tensorflow==1.13.1) (0.5.3)\n",
      "Requirement already satisfied: numpy>=1.13.3 in /usr/local/lib/python3.7/dist-packages (from tensorflow==1.13.1) (1.21.5)\n",
      "Requirement already satisfied: grpcio>=1.8.6 in /usr/local/lib/python3.7/dist-packages (from tensorflow==1.13.1) (1.44.0)\n",
      "Requirement already satisfied: wheel>=0.26 in /usr/local/lib/python3.7/dist-packages (from tensorflow==1.13.1) (0.37.1)\n",
      "Collecting tensorflow-estimator<1.14.0rc0,>=1.13.0\n",
      "  Downloading tensorflow_estimator-1.13.0-py2.py3-none-any.whl (367 kB)\n",
      "\u001b[K     |████████████████████████████████| 367 kB 56.1 MB/s \n",
      "\u001b[?25hCollecting keras-applications>=1.0.6\n",
      "  Downloading Keras_Applications-1.0.8-py3-none-any.whl (50 kB)\n",
      "\u001b[K     |████████████████████████████████| 50 kB 5.4 MB/s \n",
      "\u001b[?25hRequirement already satisfied: keras-preprocessing>=1.0.5 in /usr/local/lib/python3.7/dist-packages (from tensorflow==1.13.1) (1.1.2)\n",
      "Requirement already satisfied: six>=1.10.0 in /usr/local/lib/python3.7/dist-packages (from tensorflow==1.13.1) (1.15.0)\n",
      "Requirement already satisfied: protobuf>=3.6.1 in /usr/local/lib/python3.7/dist-packages (from tensorflow==1.13.1) (3.17.3)\n",
      "Requirement already satisfied: astor>=0.6.0 in /usr/local/lib/python3.7/dist-packages (from tensorflow==1.13.1) (0.8.1)\n",
      "Requirement already satisfied: h5py in /usr/local/lib/python3.7/dist-packages (from keras-applications>=1.0.6->tensorflow==1.13.1) (3.1.0)\n",
      "Requirement already satisfied: werkzeug>=0.11.15 in /usr/local/lib/python3.7/dist-packages (from tensorboard<1.14.0,>=1.13.0->tensorflow==1.13.1) (1.0.1)\n",
      "Requirement already satisfied: markdown>=2.6.8 in /usr/local/lib/python3.7/dist-packages (from tensorboard<1.14.0,>=1.13.0->tensorflow==1.13.1) (3.3.6)\n",
      "Requirement already satisfied: importlib-metadata>=4.4 in /usr/local/lib/python3.7/dist-packages (from markdown>=2.6.8->tensorboard<1.14.0,>=1.13.0->tensorflow==1.13.1) (4.11.2)\n",
      "Requirement already satisfied: zipp>=0.5 in /usr/local/lib/python3.7/dist-packages (from importlib-metadata>=4.4->markdown>=2.6.8->tensorboard<1.14.0,>=1.13.0->tensorflow==1.13.1) (3.7.0)\n",
      "Requirement already satisfied: typing-extensions>=3.6.4 in /usr/local/lib/python3.7/dist-packages (from importlib-metadata>=4.4->markdown>=2.6.8->tensorboard<1.14.0,>=1.13.0->tensorflow==1.13.1) (3.10.0.2)\n",
      "Collecting mock>=2.0.0\n",
      "  Downloading mock-4.0.3-py3-none-any.whl (28 kB)\n",
      "Requirement already satisfied: cached-property in /usr/local/lib/python3.7/dist-packages (from h5py->keras-applications>=1.0.6->tensorflow==1.13.1) (1.5.2)\n",
      "Installing collected packages: mock, tensorflow-estimator, tensorboard, keras-applications, tensorflow\n",
      "  Attempting uninstall: tensorflow-estimator\n",
      "    Found existing installation: tensorflow-estimator 2.8.0\n",
      "    Uninstalling tensorflow-estimator-2.8.0:\n",
      "      Successfully uninstalled tensorflow-estimator-2.8.0\n",
      "  Attempting uninstall: tensorboard\n",
      "    Found existing installation: tensorboard 2.8.0\n",
      "    Uninstalling tensorboard-2.8.0:\n",
      "      Successfully uninstalled tensorboard-2.8.0\n",
      "  Attempting uninstall: tensorflow\n",
      "    Found existing installation: tensorflow 2.8.0\n",
      "    Uninstalling tensorflow-2.8.0:\n",
      "      Successfully uninstalled tensorflow-2.8.0\n",
      "\u001b[31mERROR: pip's dependency resolver does not currently take into account all the packages that are installed. This behaviour is the source of the following dependency conflicts.\n",
      "kapre 0.3.7 requires tensorflow>=2.0.0, but you have tensorflow 1.13.1 which is incompatible.\u001b[0m\n",
      "Successfully installed keras-applications-1.0.8 mock-4.0.3 tensorboard-1.13.1 tensorflow-1.13.1 tensorflow-estimator-1.13.0\n",
      "Collecting folktables\n",
      "  Downloading folktables-0.0.11.tar.gz (10 kB)\n",
      "Requirement already satisfied: numpy in /usr/local/lib/python3.7/dist-packages (from folktables) (1.21.5)\n",
      "Requirement already satisfied: pandas in /usr/local/lib/python3.7/dist-packages (from folktables) (1.3.5)\n",
      "Requirement already satisfied: requests in /usr/local/lib/python3.7/dist-packages (from folktables) (2.23.0)\n",
      "Requirement already satisfied: sklearn in /usr/local/lib/python3.7/dist-packages (from folktables) (0.0)\n",
      "Requirement already satisfied: python-dateutil>=2.7.3 in /usr/local/lib/python3.7/dist-packages (from pandas->folktables) (2.8.2)\n",
      "Requirement already satisfied: pytz>=2017.3 in /usr/local/lib/python3.7/dist-packages (from pandas->folktables) (2018.9)\n",
      "Requirement already satisfied: six>=1.5 in /usr/local/lib/python3.7/dist-packages (from python-dateutil>=2.7.3->pandas->folktables) (1.15.0)\n",
      "Requirement already satisfied: urllib3!=1.25.0,!=1.25.1,<1.26,>=1.21.1 in /usr/local/lib/python3.7/dist-packages (from requests->folktables) (1.24.3)\n",
      "Requirement already satisfied: chardet<4,>=3.0.2 in /usr/local/lib/python3.7/dist-packages (from requests->folktables) (3.0.4)\n",
      "Requirement already satisfied: certifi>=2017.4.17 in /usr/local/lib/python3.7/dist-packages (from requests->folktables) (2021.10.8)\n",
      "Requirement already satisfied: idna<3,>=2.5 in /usr/local/lib/python3.7/dist-packages (from requests->folktables) (2.10)\n",
      "Requirement already satisfied: scikit-learn in /usr/local/lib/python3.7/dist-packages (from sklearn->folktables) (1.0.2)\n",
      "Requirement already satisfied: threadpoolctl>=2.0.0 in /usr/local/lib/python3.7/dist-packages (from scikit-learn->sklearn->folktables) (3.1.0)\n",
      "Requirement already satisfied: scipy>=1.1.0 in /usr/local/lib/python3.7/dist-packages (from scikit-learn->sklearn->folktables) (1.4.1)\n",
      "Requirement already satisfied: joblib>=0.11 in /usr/local/lib/python3.7/dist-packages (from scikit-learn->sklearn->folktables) (1.1.0)\n",
      "Building wheels for collected packages: folktables\n",
      "  Building wheel for folktables (setup.py) ... \u001b[?25l\u001b[?25hdone\n",
      "  Created wheel for folktables: filename=folktables-0.0.11-py3-none-any.whl size=6779 sha256=35fb62f2a1bffe0c565c0272872ed916112a17b4ee754caef12fce650f3ab70f\n",
      "  Stored in directory: /root/.cache/pip/wheels/bd/63/b8/24d3f5d2c70002c68c1fe8e78e1de20fcbcb7a2ef3f56147b7\n",
      "Successfully built folktables\n",
      "Installing collected packages: folktables\n",
      "Successfully installed folktables-0.0.11\n"
     ]
    }
   ],
   "source": [
    "!git clone https://github.com/lurosenb/superquail\n",
    "!pip install aif360==0.3.0 \n",
    "!pip install BlackBoxAuditing\n",
    "!pip install tensorflow==1.13.1\n",
    "!pip install folktables"
   ]
  },
  {
   "cell_type": "code",
   "execution_count": 2,
   "metadata": {
    "colab": {
     "base_uri": "https://localhost:8080/"
    },
    "id": "-BAY1cNGuxfk",
    "outputId": "d6ed46cc-ff15-43bc-ba10-a3fd39a2bd83"
   },
   "outputs": [
    {
     "name": "stderr",
     "output_type": "stream",
     "text": [
      "/usr/local/lib/python3.7/dist-packages/tensorflow/python/framework/dtypes.py:526: FutureWarning: Passing (type, 1) or '1type' as a synonym of type is deprecated; in a future version of numpy, it will be understood as (type, (1,)) / '(1,)type'.\n",
      "  _np_qint8 = np.dtype([(\"qint8\", np.int8, 1)])\n",
      "/usr/local/lib/python3.7/dist-packages/tensorflow/python/framework/dtypes.py:527: FutureWarning: Passing (type, 1) or '1type' as a synonym of type is deprecated; in a future version of numpy, it will be understood as (type, (1,)) / '(1,)type'.\n",
      "  _np_quint8 = np.dtype([(\"quint8\", np.uint8, 1)])\n",
      "/usr/local/lib/python3.7/dist-packages/tensorflow/python/framework/dtypes.py:528: FutureWarning: Passing (type, 1) or '1type' as a synonym of type is deprecated; in a future version of numpy, it will be understood as (type, (1,)) / '(1,)type'.\n",
      "  _np_qint16 = np.dtype([(\"qint16\", np.int16, 1)])\n",
      "/usr/local/lib/python3.7/dist-packages/tensorflow/python/framework/dtypes.py:529: FutureWarning: Passing (type, 1) or '1type' as a synonym of type is deprecated; in a future version of numpy, it will be understood as (type, (1,)) / '(1,)type'.\n",
      "  _np_quint16 = np.dtype([(\"quint16\", np.uint16, 1)])\n",
      "/usr/local/lib/python3.7/dist-packages/tensorflow/python/framework/dtypes.py:530: FutureWarning: Passing (type, 1) or '1type' as a synonym of type is deprecated; in a future version of numpy, it will be understood as (type, (1,)) / '(1,)type'.\n",
      "  _np_qint32 = np.dtype([(\"qint32\", np.int32, 1)])\n",
      "/usr/local/lib/python3.7/dist-packages/tensorflow/python/framework/dtypes.py:535: FutureWarning: Passing (type, 1) or '1type' as a synonym of type is deprecated; in a future version of numpy, it will be understood as (type, (1,)) / '(1,)type'.\n",
      "  np_resource = np.dtype([(\"resource\", np.ubyte, 1)])\n",
      "WARNING:root:No module named 'numba.decorators': LFR will be unavailable. To install, run:\n",
      "pip install 'aif360[LFR]'\n"
     ]
    }
   ],
   "source": [
    "import random\n",
    "random.seed(27)\n",
    "\n",
    "import sys\n",
    "import warnings\n",
    "\n",
    "import numpy as np\n",
    "import pandas as pd\n",
    "import tensorflow as tf\n",
    "import json\n",
    "import time \n",
    "from tqdm import tqdm\n",
    "\n",
    "import matplotlib.pyplot as plt \n",
    "import seaborn as sns\n",
    "\n",
    "from folktables import ACSDataSource, ACSEmployment, ACSIncome, ACSPublicCoverage, ACSTravelTime\n",
    "from superquail.data.acs_helper import ACSData\n",
    "\n",
    "from sklearn.linear_model import LogisticRegression\n",
    "from sklearn.metrics import accuracy_score, roc_auc_score\n",
    "from sklearn.ensemble import RandomForestClassifier\n",
    "from sklearn.pipeline import Pipeline\n",
    "from sklearn.compose import ColumnTransformer, make_column_selector as selector\n",
    "\n",
    "\n",
    "from sklearn.model_selection import RandomizedSearchCV, PredefinedSplit, GridSearchCV\n",
    "from sklearn.preprocessing import MinMaxScaler, StandardScaler, OneHotEncoder, OrdinalEncoder\n",
    "\n",
    "\n",
    "from aif360.datasets import BinaryLabelDataset, StandardDataset\n",
    "from aif360.algorithms.preprocessing import DisparateImpactRemover\n",
    "from aif360.algorithms.inprocessing import PrejudiceRemover\n",
    "from aif360.algorithms.postprocessing import CalibratedEqOddsPostprocessing, RejectOptionClassification\n",
    "from aif360.metrics import BinaryLabelDatasetMetric, ClassificationMetric\n",
    "\n",
    "from aif360.explainers import MetricTextExplainer, Explainer\n",
    "\n",
    "import BlackBoxAuditing\n",
    "%matplotlib inline"
   ]
  },
  {
   "cell_type": "markdown",
   "metadata": {
    "id": "FW83Vu3KvTQB"
   },
   "source": [
    "# Problem 2\n",
    "### **Load and split data** "
   ]
  },
  {
   "cell_type": "markdown",
   "metadata": {
    "id": "NpySw57tBKEu"
   },
   "source": [
    "#### Load Folktables dataset and set the protected attribute, drop the other protected attribute race\n"
   ]
  },
  {
   "cell_type": "markdown",
   "metadata": {
    "id": "UH30OASO5pf3"
   },
   "source": [
    "We have included code to read in the folktables dataset. The Folktables dataset is taken from US Census Data and is built to solve a few simple prediction tasks. The sample we pull is data from 2018 in California. The column names are described in the table below. Note that certain categorical variables have been mapped to integer values, which we will keep as is for the following analyses.\n",
    "\n",
    "For more information on the this dataset, please see the following paper:\n",
    "https://eaamo2021.eaamo.org/accepted/acceptednonarchival/EAMO21_paper_16.pdf"
   ]
  },
  {
   "cell_type": "markdown",
   "metadata": {
    "id": "ErJSui-veHGd"
   },
   "source": [
    "| Column Name | Feature | Description/Notes |\n",
    "| --- | ----------- | --- |\n",
    "| PINCP | Total person’s income | (Target) 1 if >= $50k, 0 if less |\n",
    "| SEX | Sex | (Sensitive Attribute) Male=1, Female=2 |\n",
    "| RAC1P | Race | Dropped from this analysis to focus on one sensitive attribute |\n",
    "| AGEP | Age | Ranges from 0-99 |\n",
    "| COW | Class of Worker | Ranges 1-9, see paper for description |\n",
    "| SCHL | Education Level | Ranges 1-24, see paper for description |\n",
    "| MAR | Marital Status | Ranges 1-5, see paper for description |\n",
    "| OCCP | Occupation | Codes taken from Public Use Microdata Sample (PUMS) from the US Census, see paper |\n",
    "| POBP | Place of Birth | Codes taken from Public Use Microdata Sample (PUMS) from the US Census, see paper |\n",
    "| RELP | Relationship | Relationship of individual to person who responded to the Census taker. Ranges 0-17, see paper for description |\n",
    "| WKHP | Hours worked per week | Ranges from 0-99, averaged over previous year |"
   ]
  },
  {
   "cell_type": "code",
   "execution_count": 3,
   "metadata": {
    "colab": {
     "base_uri": "https://localhost:8080/",
     "height": 304
    },
    "id": "JKV2cQ_Q3IqF",
    "outputId": "461bdedf-108f-41c6-f113-59f9c609de10"
   },
   "outputs": [
    {
     "name": "stdout",
     "output_type": "stream",
     "text": [
      "Downloading data for 2018 1-Year person survey for CA...\n",
      "(5000, 10)\n"
     ]
    },
    {
     "data": {
      "text/html": [
       "\n",
       "  <div id=\"df-2da0a0b8-c1f3-43d2-8fe0-ed4fbc0253e4\">\n",
       "    <div class=\"colab-df-container\">\n",
       "      <div>\n",
       "<style scoped>\n",
       "    .dataframe tbody tr th:only-of-type {\n",
       "        vertical-align: middle;\n",
       "    }\n",
       "\n",
       "    .dataframe tbody tr th {\n",
       "        vertical-align: top;\n",
       "    }\n",
       "\n",
       "    .dataframe thead th {\n",
       "        text-align: right;\n",
       "    }\n",
       "</style>\n",
       "<table border=\"1\" class=\"dataframe\">\n",
       "  <thead>\n",
       "    <tr style=\"text-align: right;\">\n",
       "      <th></th>\n",
       "      <th>AGEP</th>\n",
       "      <th>COW</th>\n",
       "      <th>SCHL</th>\n",
       "      <th>MAR</th>\n",
       "      <th>OCCP</th>\n",
       "      <th>POBP</th>\n",
       "      <th>RELP</th>\n",
       "      <th>WKHP</th>\n",
       "      <th>SEX</th>\n",
       "      <th>PINCP</th>\n",
       "    </tr>\n",
       "  </thead>\n",
       "  <tbody>\n",
       "    <tr>\n",
       "      <th>0</th>\n",
       "      <td>53.0</td>\n",
       "      <td>2.0</td>\n",
       "      <td>21.0</td>\n",
       "      <td>3.0</td>\n",
       "      <td>5400.0</td>\n",
       "      <td>233.0</td>\n",
       "      <td>15.0</td>\n",
       "      <td>30.0</td>\n",
       "      <td>1.0</td>\n",
       "      <td>0.0</td>\n",
       "    </tr>\n",
       "    <tr>\n",
       "      <th>1</th>\n",
       "      <td>51.0</td>\n",
       "      <td>2.0</td>\n",
       "      <td>21.0</td>\n",
       "      <td>1.0</td>\n",
       "      <td>350.0</td>\n",
       "      <td>217.0</td>\n",
       "      <td>0.0</td>\n",
       "      <td>40.0</td>\n",
       "      <td>2.0</td>\n",
       "      <td>1.0</td>\n",
       "    </tr>\n",
       "    <tr>\n",
       "      <th>2</th>\n",
       "      <td>45.0</td>\n",
       "      <td>6.0</td>\n",
       "      <td>21.0</td>\n",
       "      <td>1.0</td>\n",
       "      <td>4252.0</td>\n",
       "      <td>6.0</td>\n",
       "      <td>0.0</td>\n",
       "      <td>30.0</td>\n",
       "      <td>1.0</td>\n",
       "      <td>0.0</td>\n",
       "    </tr>\n",
       "    <tr>\n",
       "      <th>3</th>\n",
       "      <td>62.0</td>\n",
       "      <td>1.0</td>\n",
       "      <td>19.0</td>\n",
       "      <td>1.0</td>\n",
       "      <td>5140.0</td>\n",
       "      <td>48.0</td>\n",
       "      <td>0.0</td>\n",
       "      <td>40.0</td>\n",
       "      <td>2.0</td>\n",
       "      <td>0.0</td>\n",
       "    </tr>\n",
       "    <tr>\n",
       "      <th>4</th>\n",
       "      <td>63.0</td>\n",
       "      <td>6.0</td>\n",
       "      <td>19.0</td>\n",
       "      <td>1.0</td>\n",
       "      <td>4920.0</td>\n",
       "      <td>17.0</td>\n",
       "      <td>0.0</td>\n",
       "      <td>10.0</td>\n",
       "      <td>1.0</td>\n",
       "      <td>0.0</td>\n",
       "    </tr>\n",
       "  </tbody>\n",
       "</table>\n",
       "</div>\n",
       "      <button class=\"colab-df-convert\" onclick=\"convertToInteractive('df-2da0a0b8-c1f3-43d2-8fe0-ed4fbc0253e4')\"\n",
       "              title=\"Convert this dataframe to an interactive table.\"\n",
       "              style=\"display:none;\">\n",
       "        \n",
       "  <svg xmlns=\"http://www.w3.org/2000/svg\" height=\"24px\"viewBox=\"0 0 24 24\"\n",
       "       width=\"24px\">\n",
       "    <path d=\"M0 0h24v24H0V0z\" fill=\"none\"/>\n",
       "    <path d=\"M18.56 5.44l.94 2.06.94-2.06 2.06-.94-2.06-.94-.94-2.06-.94 2.06-2.06.94zm-11 1L8.5 8.5l.94-2.06 2.06-.94-2.06-.94L8.5 2.5l-.94 2.06-2.06.94zm10 10l.94 2.06.94-2.06 2.06-.94-2.06-.94-.94-2.06-.94 2.06-2.06.94z\"/><path d=\"M17.41 7.96l-1.37-1.37c-.4-.4-.92-.59-1.43-.59-.52 0-1.04.2-1.43.59L10.3 9.45l-7.72 7.72c-.78.78-.78 2.05 0 2.83L4 21.41c.39.39.9.59 1.41.59.51 0 1.02-.2 1.41-.59l7.78-7.78 2.81-2.81c.8-.78.8-2.07 0-2.86zM5.41 20L4 18.59l7.72-7.72 1.47 1.35L5.41 20z\"/>\n",
       "  </svg>\n",
       "      </button>\n",
       "      \n",
       "  <style>\n",
       "    .colab-df-container {\n",
       "      display:flex;\n",
       "      flex-wrap:wrap;\n",
       "      gap: 12px;\n",
       "    }\n",
       "\n",
       "    .colab-df-convert {\n",
       "      background-color: #E8F0FE;\n",
       "      border: none;\n",
       "      border-radius: 50%;\n",
       "      cursor: pointer;\n",
       "      display: none;\n",
       "      fill: #1967D2;\n",
       "      height: 32px;\n",
       "      padding: 0 0 0 0;\n",
       "      width: 32px;\n",
       "    }\n",
       "\n",
       "    .colab-df-convert:hover {\n",
       "      background-color: #E2EBFA;\n",
       "      box-shadow: 0px 1px 2px rgba(60, 64, 67, 0.3), 0px 1px 3px 1px rgba(60, 64, 67, 0.15);\n",
       "      fill: #174EA6;\n",
       "    }\n",
       "\n",
       "    [theme=dark] .colab-df-convert {\n",
       "      background-color: #3B4455;\n",
       "      fill: #D2E3FC;\n",
       "    }\n",
       "\n",
       "    [theme=dark] .colab-df-convert:hover {\n",
       "      background-color: #434B5C;\n",
       "      box-shadow: 0px 1px 3px 1px rgba(0, 0, 0, 0.15);\n",
       "      filter: drop-shadow(0px 1px 2px rgba(0, 0, 0, 0.3));\n",
       "      fill: #FFFFFF;\n",
       "    }\n",
       "  </style>\n",
       "\n",
       "      <script>\n",
       "        const buttonEl =\n",
       "          document.querySelector('#df-2da0a0b8-c1f3-43d2-8fe0-ed4fbc0253e4 button.colab-df-convert');\n",
       "        buttonEl.style.display =\n",
       "          google.colab.kernel.accessAllowed ? 'block' : 'none';\n",
       "\n",
       "        async function convertToInteractive(key) {\n",
       "          const element = document.querySelector('#df-2da0a0b8-c1f3-43d2-8fe0-ed4fbc0253e4');\n",
       "          const dataTable =\n",
       "            await google.colab.kernel.invokeFunction('convertToInteractive',\n",
       "                                                     [key], {});\n",
       "          if (!dataTable) return;\n",
       "\n",
       "          const docLinkHtml = 'Like what you see? Visit the ' +\n",
       "            '<a target=\"_blank\" href=https://colab.research.google.com/notebooks/data_table.ipynb>data table notebook</a>'\n",
       "            + ' to learn more about interactive tables.';\n",
       "          element.innerHTML = '';\n",
       "          dataTable['output_type'] = 'display_data';\n",
       "          await google.colab.output.renderOutput(dataTable, element);\n",
       "          const docLink = document.createElement('div');\n",
       "          docLink.innerHTML = docLinkHtml;\n",
       "          element.appendChild(docLink);\n",
       "        }\n",
       "      </script>\n",
       "    </div>\n",
       "  </div>\n",
       "  "
      ],
      "text/plain": [
       "   AGEP  COW  SCHL  MAR    OCCP   POBP  RELP  WKHP  SEX  PINCP\n",
       "0  53.0  2.0  21.0  3.0  5400.0  233.0  15.0  30.0  1.0    0.0\n",
       "1  51.0  2.0  21.0  1.0   350.0  217.0   0.0  40.0  2.0    1.0\n",
       "2  45.0  6.0  21.0  1.0  4252.0    6.0   0.0  30.0  1.0    0.0\n",
       "3  62.0  1.0  19.0  1.0  5140.0   48.0   0.0  40.0  2.0    0.0\n",
       "4  63.0  6.0  19.0  1.0  4920.0   17.0   0.0  10.0  1.0    0.0"
      ]
     },
     "execution_count": 3,
     "metadata": {},
     "output_type": "execute_result"
    }
   ],
   "source": [
    "np.random.seed(27)\n",
    "protected_attr = 'SEX' #set sex as the protected attribute\n",
    "target = 'PINCP' #personal income as the target (1=(>50k))\n",
    "\n",
    "#read in the folktables dataset \n",
    "##change sample size back to 70 K later!!\n",
    "full_df, features_df, target_df, groups_df = ACSData().return_acs_data_scenario(scenario=\"ACSIncome\", subsample=50000)\n",
    "full_df = full_df.drop(columns='RAC1P') #drop race -- another protected attribute from our dataset\n",
    "\n",
    "print(full_df.shape)\n",
    "full_df.head()"
   ]
  },
  {
   "cell_type": "code",
   "execution_count": 4,
   "metadata": {
    "id": "cEZljEsG4G1j"
   },
   "outputs": [],
   "source": [
    "# convert this dataframe into an aif360 dataset\n",
    "dataset_orig = BinaryLabelDataset(\n",
    "    favorable_label=1,\n",
    "    unfavorable_label=0,\n",
    "    df=full_df,\n",
    "    label_names=[target],\n",
    "    protected_attribute_names=[protected_attr])\n",
    "\n",
    "\n",
    "privileged_groups = [{protected_attr: 1}] \n",
    "unprivileged_groups = [{protected_attr: 2}]"
   ]
  },
  {
   "cell_type": "markdown",
   "metadata": {
    "id": "0Fa2JenjzLkx"
   },
   "source": [
    "### Create the train test val split"
   ]
  },
  {
   "cell_type": "code",
   "execution_count": 5,
   "metadata": {
    "colab": {
     "base_uri": "https://localhost:8080/"
    },
    "id": "TCy6GcbgBycv",
    "outputId": "6f0814bb-dc4f-4156-a971-652f1145caca"
   },
   "outputs": [
    {
     "name": "stdout",
     "output_type": "stream",
     "text": [
      "Train set:  (3500, 10)\n",
      "Val set:  (500, 10)\n",
      "Test set:  (1000, 10)\n",
      "Disparate impact (probability of favorable outcome for unprivileged instances / probability of favorable outcome for privileged instances): 0.7334062461251832 \n",
      " Mean difference (mean label value on unprivileged instances - mean label value on privileged instances): -0.12665049526185895\n",
      "In our combined training and validation datasets, women receive a label of 1, 75%  as often as men\n"
     ]
    }
   ],
   "source": [
    "#split data into train_orig, containing 80% and test_orig\n",
    "train_orig, test_orig = dataset_orig.split([0.8], shuffle=True , seed= 27)\n",
    "#create train_new and val_new, train_new has 70% of data, val_new has 10% of data, used for training and validation\n",
    "train_new, val_new = train_orig.split([.875],shuffle=True)\n",
    "\n",
    "\n",
    "# Convert to dataframes\n",
    "train_orig_df, _ = train_orig.convert_to_dataframe()\n",
    "train_new_df,_ =train_new.convert_to_dataframe()\n",
    "val_new_df, _ = val_new.convert_to_dataframe()\n",
    "test_orig_df, _ = test_orig.convert_to_dataframe()\n",
    "\n",
    "\n",
    "#inspect shapes\n",
    "print(\"Train set: \", train_new_df.shape)\n",
    "print(\"Val set: \", val_new_df.shape)\n",
    "print(\"Test set: \", test_orig_df.shape)\n",
    "\n",
    "\n",
    "\n",
    "#examine baseline disparate impact and mean difference\n",
    "metric_orig_panel19_train = BinaryLabelDatasetMetric(\n",
    "        train_orig,\n",
    "        unprivileged_groups=unprivileged_groups,\n",
    "        privileged_groups=privileged_groups)\n",
    "explainer_orig_panel19_train = MetricTextExplainer(metric_orig_panel19_train)\n",
    "\n",
    "print(explainer_orig_panel19_train.disparate_impact(),'\\n',explainer_orig_panel19_train.mean_difference())\n",
    "\n",
    "print('In our combined training and validation datasets, women receive a label of 1, 75%  as often as men')"
   ]
  },
  {
   "cell_type": "markdown",
   "metadata": {
    "id": "FaQZc9mkDBQc"
   },
   "source": [
    "# Problem 2, Part (a) \n",
    "### **Train a baseline Random Forest (RF) model and report metrics**"
   ]
  },
  {
   "cell_type": "markdown",
   "metadata": {
    "id": "J_9U8nMU3pg0"
   },
   "source": [
    "### Train a random forest model - Baseline\n",
    "\n",
    "\n",
    "\n"
   ]
  },
  {
   "cell_type": "code",
   "execution_count": 6,
   "metadata": {
    "colab": {
     "base_uri": "https://localhost:8080/"
    },
    "id": "5Nldecw7mzya",
    "outputId": "27a81267-b151-4bfe-b2d2-8dbc696ffaa0"
   },
   "outputs": [
    {
     "data": {
      "text/plain": [
       "0.0    2332\n",
       "1.0    1668\n",
       "Name: PINCP, dtype: int64"
      ]
     },
     "execution_count": 6,
     "metadata": {},
     "output_type": "execute_result"
    }
   ],
   "source": [
    "#create train and test vectors used for \n",
    "x_train, x_test = train_orig_df.drop(target, axis=1), test_orig_df.drop(target, axis=1)\n",
    "\n",
    "y_train, y_test= train_orig_df.PINCP,  test_orig_df.PINCP\n",
    "\n",
    "y_train.value_counts()"
   ]
  },
  {
   "cell_type": "code",
   "execution_count": 7,
   "metadata": {
    "colab": {
     "base_uri": "https://localhost:8080/"
    },
    "id": "7kIfPM-1kx9f",
    "outputId": "cec6c34c-7ab5-4eb8-ff90-1be050d61393"
   },
   "outputs": [
    {
     "data": {
      "text/plain": [
       "Pipeline(steps=[('preprocessor',\n",
       "                 ColumnTransformer(transformers=[('num', MinMaxScaler(),\n",
       "                                                  <sklearn.compose._column_transformer.make_column_selector object at 0x7f692cdc1f10>),\n",
       "                                                 ('cat',\n",
       "                                                  OneHotEncoder(handle_unknown='ignore'),\n",
       "                                                  <sklearn.compose._column_transformer.make_column_selector object at 0x7f692cdc1f90>)])),\n",
       "                ('classifier',\n",
       "                 RandomForestClassifier(max_depth=1, n_estimators=1))])"
      ]
     },
     "execution_count": 7,
     "metadata": {},
     "output_type": "execute_result"
    }
   ],
   "source": [
    "#preprocess data using min max scalar and one hot encode variables\n",
    "unmitigated_predictor = Pipeline(\n",
    "    steps=[\n",
    "           #feature engineering component \n",
    "        (\"preprocessor\", ColumnTransformer(transformers=[\n",
    "                                              # we use selector to indentify features based on its data type\n",
    "                                              # Normalize numerical features\n",
    "                                               (\"num\", MinMaxScaler(), selector(dtype_exclude=\"category\")), \n",
    "                                              # Encoding (transforming) categorical features to what understandable by the model\n",
    "                                              (\"cat\", OneHotEncoder(handle_unknown=\"ignore\"), selector(dtype_include=\"category\")),\n",
    "                                            ]\n",
    "                                          )\n",
    "        ),\n",
    "        # model component\n",
    "        (\"classifier\",RandomForestClassifier(max_depth = 1, n_estimators=1),\n",
    "        ),\n",
    "    ]\n",
    ")\n",
    "#fit predictor object on the training data\n",
    "unmitigated_predictor.fit(x_train, y_train)"
   ]
  },
  {
   "cell_type": "markdown",
   "metadata": {
    "id": "pioye8vUP_I5"
   },
   "source": [
    "## Problem 2A:\n",
    "\n",
    "Train a baseline Randomforest, with max_depth = 1 and num_estimators = 1 and report performance on the five metrics of interest on the test set."
   ]
  },
  {
   "cell_type": "code",
   "execution_count": 1,
   "metadata": {
    "id": "Bo149tbl3n_N"
   },
   "outputs": [
    {
     "ename": "NameError",
     "evalue": "name 'test_orig_df' is not defined",
     "output_type": "error",
     "traceback": [
      "\u001b[0;31m---------------------------------------------------------------------------\u001b[0m",
      "\u001b[0;31mNameError\u001b[0m                                 Traceback (most recent call last)",
      "\u001b[0;32m<ipython-input-1-3ec699029ddd>\u001b[0m in \u001b[0;36m<module>\u001b[0;34m\u001b[0m\n\u001b[1;32m      1\u001b[0m \u001b[0;31m#create new dataframe with predictions as the target column\u001b[0m\u001b[0;34m\u001b[0m\u001b[0;34m\u001b[0m\u001b[0;34m\u001b[0m\u001b[0m\n\u001b[0;32m----> 2\u001b[0;31m \u001b[0mtest_pred_df\u001b[0m \u001b[0;34m=\u001b[0m \u001b[0mtest_orig_df\u001b[0m\u001b[0;34m.\u001b[0m\u001b[0mcopy\u001b[0m\u001b[0;34m(\u001b[0m\u001b[0;34m)\u001b[0m\u001b[0;34m\u001b[0m\u001b[0;34m\u001b[0m\u001b[0m\n\u001b[0m\u001b[1;32m      3\u001b[0m \u001b[0mtest_pred_df\u001b[0m\u001b[0;34m[\u001b[0m\u001b[0mtarget\u001b[0m\u001b[0;34m]\u001b[0m \u001b[0;34m=\u001b[0m \u001b[0munmitigated_predictor\u001b[0m\u001b[0;34m.\u001b[0m\u001b[0mpredict\u001b[0m\u001b[0;34m(\u001b[0m\u001b[0mx_test\u001b[0m\u001b[0;34m)\u001b[0m\u001b[0;34m\u001b[0m\u001b[0;34m\u001b[0m\u001b[0m\n\u001b[1;32m      4\u001b[0m \u001b[0;34m\u001b[0m\u001b[0m\n\u001b[1;32m      5\u001b[0m \u001b[0;31m#initiate a metric list to be used when examining metrics of interest\u001b[0m\u001b[0;34m\u001b[0m\u001b[0;34m\u001b[0m\u001b[0;34m\u001b[0m\u001b[0m\n",
      "\u001b[0;31mNameError\u001b[0m: name 'test_orig_df' is not defined"
     ]
    }
   ],
   "source": [
    "#create new dataframe with predictions as the target column\n",
    "test_pred_df = test_orig_df.copy()\n",
    "test_pred_df[target] = unmitigated_predictor.predict(x_test)\n",
    "\n",
    "#initiate a metric list to be used when examining metrics of interest\n",
    "metric_list = ['accuracy','privileged_groups_accuracy', 'unprivileged_groups_accuracy','disparate_impact','false_positive_difference_rate']\n",
    "\n",
    "#create AIF360 objects as input to a ClassificationMetric \n",
    "preds_aif360 = StandardDataset(test_pred_df, label_name=target,\n",
    "                protected_attribute_names=[protected_attr], \n",
    "                privileged_classes=[[1]], favorable_classes=[1])\n",
    "\n",
    "orig_aif360 = StandardDataset(test_orig_df, label_name=target,\n",
    "                protected_attribute_names=[protected_attr], \n",
    "                privileged_classes=[[1]], favorable_classes=[1])\n",
    "\n",
    "#store model performance in Classification metric Object\n",
    "metrics_final = ClassificationMetric(orig_aif360, preds_aif360, \n",
    "                unprivileged_groups=unprivileged_groups,\n",
    "                privileged_groups=privileged_groups)"
   ]
  },
  {
   "cell_type": "markdown",
   "metadata": {
    "id": "Ci-ClRL14Efm"
   },
   "source": [
    "### Calculate Metrics"
   ]
  },
  {
   "cell_type": "code",
   "execution_count": 9,
   "metadata": {
    "id": "MAAkD4VK37eg"
   },
   "outputs": [],
   "source": [
    "def calculate_metric(metric_list, ClassificationMetrObj, verbose):\n",
    "    \"\"\"\n",
    "  function used to examine the 5 metrics of interest for ClassificationMetrObjects\n",
    "  \"\"\"\n",
    "      for metric in metric_list:\n",
    "        message = metric +' is '\n",
    "          if metric == 'accuracy':\n",
    "            statement = round(ClassificationMetrObj.accuracy(),5)\n",
    "        elif metric == 'privileged_groups_accuracy':\n",
    "            statement = round(ClassificationMetrObj.accuracy(privileged=True),5)\n",
    "        elif metric == 'unprivileged_groups_accuracy':\n",
    "            statement = round(ClassificationMetrObj.accuracy(privileged=False),5)\n",
    "        elif metric == 'disparate_impact':\n",
    "            statement = round(ClassificationMetrObj.disparate_impact(),5)\n",
    "        else:\n",
    "            statement = round(ClassificationMetrObj.false_positive_rate_difference(),5)\n",
    "        if verbose == True:\n",
    "            print(message + str(statement)) \n",
    "        return(statement)"
   ]
  },
  {
   "cell_type": "code",
   "execution_count": 10,
   "metadata": {
    "colab": {
     "base_uri": "https://localhost:8080/"
    },
    "id": "iSvJNZNc22AC",
    "outputId": "aee27760-25c2-4342-f426-6b13d57b3eee"
   },
   "outputs": [
    {
     "name": "stdout",
     "output_type": "stream",
     "text": [
      "accuracy is 0.605\n",
      "privileged_groups_accuracy is 0.61731\n",
      "unprivileged_groups_accuracy is 0.59167\n",
      "disparate_impact is 0.84866\n",
      "false_positive_difference_rate is -0.09328\n"
     ]
    },
    {
     "data": {
      "text/plain": [
       "-0.09328"
      ]
     },
     "execution_count": 10,
     "metadata": {},
     "output_type": "execute_result"
    }
   ],
   "source": [
    "#print statements to show model performance\n",
    "calculate_metric(metric_list[0:],metrics_final, True)\n",
    "calculate_metric(metric_list[1:],metrics_final, True)\n",
    "calculate_metric(metric_list[2:],metrics_final, True)\n",
    "calculate_metric(metric_list[3:],metrics_final, True)\n",
    "calculate_metric(metric_list[4:],metrics_final, True)"
   ]
  },
  {
   "cell_type": "markdown",
   "metadata": {
    "id": "9qZgybMrFsKB"
   },
   "source": [
    "# Problem 2, Part (b)\n",
    "### **Hyperparameter tuning of baseline RF model**"
   ]
  },
  {
   "cell_type": "markdown",
   "metadata": {
    "id": "yokMPYTHKB7A"
   },
   "source": [
    "### Define a program to conduct tune the Random Forest\n",
    "Optimize the Accuracy. You should try the following hyperparameters: <br>\n",
    "max_depth=[1, 5, 10] <br>\n",
    "n_estimators=[1, 5, 10, 15, 20]"
   ]
  },
  {
   "cell_type": "code",
   "execution_count": 11,
   "metadata": {
    "id": "7TpjRCHpClL4"
   },
   "outputs": [],
   "source": [
    "#YOUR CODE HERE\n",
    "\n",
    "def tune_base_rf():\n",
    "    \"\"\"\n",
    "  function that sequentially:\n",
    "      creates a train/val/test datasplit  \n",
    "      specifies a hyperparameters grid to iterate over using RandomSearchCV\n",
    "      fits a model to each training dataset using a base model,\n",
    "      validates optimal hyperparameters on the validation dataset\n",
    "      captures test set performance for both models\n",
    "      stores the results to a dictionary\n",
    "      repeats this process 9 more times times\n",
    "      outputs the dictionary of results\n",
    "  \"\"\"\n",
    "\n",
    "  #initialize seed values used in data splitting\n",
    "    seed_list = [27,100,65,12345,59,210398,4231,45,1,98753]\n",
    "\n",
    "  #create gridSearchCV inputs\n",
    "    max_depth_list = [1,5,10]\n",
    "    n_estimators_list = [1,5,10,15,20]\n",
    "    param_grid = [{'classifier__max_depth':max_depth_list,\n",
    "                 'classifier__n_estimators':n_estimators_list\n",
    "                 }]\n",
    "  #dictionary that will be our final output\n",
    "    run_dict = {}\n",
    "    for i in range(len(seed_list)):\n",
    "\n",
    "    #create an index for each run in our dictionary,\n",
    "    #that corresponds to a nested dictionary\n",
    "    run_dict[i] = {}\n",
    "\n",
    "\n",
    "    #create splits for train,validation and test datasets\n",
    "    train_orig, test_orig = dataset_orig.split([0.8], shuffle=True , seed= seed_list[i])\n",
    "    train_new, val_new = train_orig.split([.875],shuffle=True, seed = seed_list[i])\n",
    "   \n",
    "    #create dataframe objects \n",
    "    train_orig_df, _ = train_orig.convert_to_dataframe()\n",
    "    train_new_df,_ =train_new.convert_to_dataframe()\n",
    "    val_new_df, _ = val_new.convert_to_dataframe()\n",
    "    test_orig_df, _ = test_orig.convert_to_dataframe()\n",
    "\n",
    "    #create vectors for base and tuned models\n",
    "\n",
    "    x_base_train, x_base_test = train_orig_df.drop(target, axis=1), test_orig_df.drop(target, axis=1)\n",
    "    y_base_train, y_base_test= train_orig_df.PINCP,  test_orig_df.PINCP\n",
    "\n",
    "\n",
    "    x_val_train, x_val_test = train_new_df.drop(target, axis=1), val_new_df.drop(target, axis=1)\n",
    "    y_val_train, y_val_test = train_new_df.PINCP, val_new_df.PINCP\n",
    "\n",
    "    #create splits for hyperparameter tuning\n",
    "    split_index = [-1 if x in x_val_train.index else 0 for x in x_base_train.index]\n",
    "    pds = PredefinedSplit(test_fold = split_index)\n",
    "\n",
    "\n",
    "\n",
    "    #create pipeline object\n",
    "    unmitigated_predictor = Pipeline(\n",
    "        steps=[\n",
    "              #feature engineering component \n",
    "            (\"preprocessor\", ColumnTransformer(transformers=[\n",
    "                                                  # we use selector to indentify features based on its data type\n",
    "                                                  # Normalize numerical features\n",
    "                                                  (\"num\", MinMaxScaler(), selector(dtype_exclude=\"category\")), \n",
    "                                                  # Encoding (transforming) categorical features to what understandable by the model\n",
    "                                                  (\"cat\", OneHotEncoder(handle_unknown=\"ignore\"), selector(dtype_include=\"category\")),\n",
    "                                                ]\n",
    "                                              )\n",
    "            ),\n",
    "            # model component\n",
    "            (\"classifier\",RandomForestClassifier(max_depth = 1, n_estimators=1),\n",
    "            ),\n",
    "        ])\n",
    "    \n",
    "    #fit our base model on the training data, without using validation dataset\n",
    "    \n",
    "    unmitigated_predictor.fit(x_base_train, y_base_train)\n",
    "\n",
    "\n",
    "\n",
    "    #create RandomizedSearhCV finding the optimized weights for this split on our validaiton data,\n",
    "    clf = RandomizedSearchCV(unmitigated_predictor,\n",
    "                         n_iter=10,\n",
    "                         cv = pds,\n",
    "                         scoring = 'accuracy',\n",
    "                         param_distributions = param_grid)\n",
    "    \n",
    "    #fit the model with various hyperparameters on the training and validation dataset\n",
    "    clf.fit(x_base_train,y_base_train)\n",
    "\n",
    "    #capture the best accuracy and parameters of our tuned model\n",
    "    run_dict[i]['max_validation_score'] = clf.best_score_\n",
    "    run_dict[i]['params'] =clf.best_params_\n",
    "\n",
    "\n",
    "\n",
    "    ##create dataframe objects that will be \n",
    "    base_pred_df = test_orig_df.copy()\n",
    "    base_pred_df[target] = unmitigated_predictor.predict(x_base_test)\n",
    "    tuned_pred_df = test_orig_df.copy()\n",
    "    tuned_pred_df[target] = clf.predict(x_base_test)\n",
    "\n",
    "\n",
    "    ##create AIF360 datasets \n",
    "    base_aif360 = StandardDataset(base_pred_df, label_name=target, protected_attribute_names=[protected_attr], \n",
    "                privileged_classes=[[1]], favorable_classes=[1])\n",
    "    preds_aif360 = StandardDataset(tuned_pred_df, label_name=target, protected_attribute_names=[protected_attr], \n",
    "                privileged_classes=[[1]], favorable_classes=[1])\n",
    "    orig_aif360 = StandardDataset(test_orig_df, label_name=target, protected_attribute_names=[protected_attr], \n",
    "                privileged_classes=[[1]], favorable_classes=[1])\n",
    "\n",
    "    #create the classification metric object to store\n",
    "    metrics_tuned = ClassificationMetric(orig_aif360, preds_aif360, unprivileged_groups=unprivileged_groups,privileged_groups=privileged_groups)\n",
    "    metrics_base = ClassificationMetric(orig_aif360, base_aif360, unprivileged_groups=unprivileged_groups,privileged_groups=privileged_groups)\n",
    "   \n",
    "    #store the classificatoin metric objects in our dictionary\n",
    "    run_dict[i]['base_metric'] = metrics_base\n",
    "    run_dict[i]['tuned_metric'] = metrics_tuned\n",
    "    return(run_dict)\n",
    "\n"
   ]
  },
  {
   "cell_type": "markdown",
   "metadata": {
    "id": "BmW4nlgDOUKS"
   },
   "source": [
    "### Compare the initial model to the fine-tuned model for 10 train/val/test splits for Random Forest"
   ]
  },
  {
   "cell_type": "code",
   "execution_count": 20,
   "metadata": {
    "id": "TbGfeNNmOMft"
   },
   "outputs": [],
   "source": [
    "def compute_metric_lists(dict, metric_list, repair):\n",
    "  \"\"\"\n",
    "  Args:\n",
    "    dict -- a dictionary containing ClassificationMetric Objects that we will use to evaluate model metrics of interest\n",
    "    metric_list -- a list of the metrics we want to evaluate \n",
    "    repair -- a boolean that indicates if the metrics we are interested in are a result of the repairing process, \n",
    "    which has a different input structure than the other problems\n",
    "\n",
    "  returns: a dictionary of the metrics of interest for problems 2b-2e\n",
    "\n",
    "  \"\"\"\n",
    "    if repair == False:\n",
    "    initial_metric_dict, tuned_metric_dict = {}, {}\n",
    "    for metric in metric_list:\n",
    "        initial_metric_dict[metric] = []\n",
    "        tuned_metric_dict[metric] = []\n",
    "\n",
    "    \"\"\"\n",
    "    used for the tuning vs non tuning metric evaluation (2b/2)\n",
    "\n",
    "    \"\"\"\n",
    "    for k,v in dict.items():\n",
    "        if 'base_metric' in v.keys():\n",
    "            for metric in metric_list:\n",
    "                initial_metric_dict[metric].append(calculate_metric([metric],v['base_metric'],verbose=False))\n",
    "                tuned_metric_dict[metric].append(calculate_metric([metric],v['tuned_metric'],verbose=False))\n",
    "        else:\n",
    "\n",
    "             \"\"\"\n",
    "             used for the ROC metric evaluation (2e)\n",
    "\n",
    "             \"\"\"\n",
    "            for metric in metric_list:\n",
    "                tuned_metric_dict[metric].append(calculate_metric([metric],v['metric_list'],verbose=False))\n",
    "            if initial_metric_dict:\n",
    "                return(initial_metric_dict,tuned_metric_dict)\n",
    "            else:\n",
    "                return(tuned_metric_dict)\n",
    "\n",
    "        \"\"\"\n",
    "        used for the Repair prediction metric evaluation (2c/2d)\n",
    "\n",
    "        \"\"\"\n",
    "    elif repair== True:\n",
    "        repair_metric_dict = {}\n",
    "        for metric in metric_list:\n",
    "            repair_metric_dict[metric] = []\n",
    "        for i in range(len(dict)):\n",
    "            for metric in metric_list:\n",
    "                repair_metric_dict[metric].append(calculate_metric([metric],\n",
    "                                          dict[i],verbose=False))\n",
    "\n",
    "        return(repair_metric_dict)\n"
   ]
  },
  {
   "cell_type": "code",
   "execution_count": 21,
   "metadata": {
    "id": "tPthXRZyd4Ok"
   },
   "outputs": [],
   "source": [
    "output_dict = tune_base_rf()"
   ]
  },
  {
   "cell_type": "code",
   "execution_count": 23,
   "metadata": {
    "id": "Q7dUnodxd4qf"
   },
   "outputs": [],
   "source": [
    "initial_metrics, tuned_metrics = compute_metric_lists(output_dict, metric_list, False)"
   ]
  },
  {
   "cell_type": "code",
   "execution_count": null,
   "metadata": {
    "id": "wA0k80PlefxC"
   },
   "outputs": [],
   "source": [
    "# for boxplots\n",
    "def plot_init_v_tuned_box(init_metrics, tuned_metrics, metric_name):\n",
    "  \n",
    "    '''Creates a bar graph comparing init_metrics to tuned_metrics'''\n",
    "\n",
    "  # Make some x values\n",
    "    x_init = list(range(len(init_metrics)))\n",
    "    x_tuned = [x + 0.35 for x in x_init]\n",
    "    # Plot the metrics\n",
    "    plt.boxplot([init_metrics, tuned_metrics], labels=['Initial Model', 'Tuned Model'])\n",
    "    plt.title('comparing untuned and tuned Random Forest ' + metric_name)\n",
    "    # Create labels, etc. \n",
    "    plt.ylabel(metric_name)\n",
    "    plt.legend()\n",
    "    #plt.show()"
   ]
  },
  {
   "cell_type": "code",
   "execution_count": 25,
   "metadata": {
    "colab": {
     "base_uri": "https://localhost:8080/",
     "height": 608
    },
    "id": "xNJEKL7VegsW",
    "outputId": "e2f3479c-5ba4-4c4d-f8aa-468482c3da7b"
   },
   "outputs": [
    {
     "data": {
      "image/png": "[encoded data removed]",
      "text/plain": [
       "<Figure size 2160x720 with 5 Axes>"
      ]
     },
     "metadata": {
      "needs_background": "light"
     },
     "output_type": "display_data"
    }
   ],
   "source": [
    "#create 5 graphs \n",
    "fig, axs = plt.subplots(1,5, figsize=(30,10))\n",
    "\n",
    "for i in range(len(metric_list)):\n",
    "    metric = metric_list[i]\n",
    "    ax = axs[i] \n",
    "    pcm = ax.boxplot([initial_metrics[metric], tuned_metrics[metric]], labels = ['Initial Model', 'Tuned Model'])\n",
    "    ax.title.set_text('Comparing performance on ' + metric)\n",
    "    ax.set_ylabel(metric)\n",
    "\n",
    "plt.show()"
   ]
  },
  {
   "cell_type": "markdown",
   "metadata": {
    "id": "uKhDj-XJRUJL"
   },
   "source": [
    "# Problem 2, Part (c) \n",
    "### **Disparate Impact Pre-Processing intervention**"
   ]
  },
  {
   "cell_type": "code",
   "execution_count": null,
   "metadata": {
    "id": "5OWmm6T0VmIz"
   },
   "outputs": [],
   "source": [
    "#tuned_metrics \n",
    "#uncomment the above to analyze which parameters did the best out of our 5 metrics of interest\n",
    "\n",
    "#best performance on test set data was run 4, which had parameters of max_depth = 10 and n_estimators = 20\n",
    "output_dict[4]"
   ]
  },
  {
   "cell_type": "code",
   "execution_count": null,
   "metadata": {
    "id": "5OdKAmnvdxXk"
   },
   "outputs": [],
   "source": [
    "#create 10 data points to plot performance over repair level\n",
    "repair_list = np.linspace(0,1,10)\n"
   ]
  },
  {
   "cell_type": "code",
   "execution_count": null,
   "metadata": {
    "id": "FTDCigomd3V7"
   },
   "outputs": [],
   "source": [
    "def repair_tuned_rf(repair_list):\n",
    "  #initialize seed values used in data splitting\n",
    "    ClassificationMetric_list = []\n",
    "    seed_list = [27,100,65,12345,59,210398,4231,45,1,98753]\n",
    "    for i in range(len(repair_list)):\n",
    "        repair = DisparateImpactRemover(repair_list[i],sensitive_attribute='SEX')\n",
    "        train_orig, test_orig = dataset_orig.split([0.8], shuffle=True , seed= seed_list[i])\n",
    "\n",
    "\n",
    "  #apply preprocessing to our data\n",
    "        repair_train = repair.fit_transform(train_orig)\n",
    "        repair_test = repair.fit_transform(test_orig)\n",
    "  \n",
    "  #create dataframe objects \n",
    "        repair_train_orig_df, _ = repair_train.convert_to_dataframe()\n",
    "        repair_test_orig_df, _ = repair_test.convert_to_dataframe()\n",
    "\n",
    "  #create vectors for base and tuned models\n",
    "\n",
    "        x_base_train =  repair_train_orig_df.drop(target, axis=1)\n",
    "        x_base_test  = repair_test_orig_df.drop(target, axis=1)\n",
    "        y_base_train = repair_train_orig_df.PINCP\n",
    "        y_base_test  = repair_test_orig_df.PINCP\n",
    "\n",
    "\n",
    "        #replicate our best predictor\n",
    "        tuned_predictor = Pipeline(\n",
    "              steps=[\n",
    "                    #feature engineering component \n",
    "                  (\"preprocessor\", ColumnTransformer(transformers=[\n",
    "                                                        # we use selector to indentify features based on its data type\n",
    "                                                        # Normalize numerical features\n",
    "                                                        (\"num\", MinMaxScaler(), selector(dtype_exclude=\"category\")), \n",
    "                                                        # Encoding (transforming) categorical features to what understandable by the model\n",
    "                                                        (\"cat\", OneHotEncoder(handle_unknown=\"ignore\"), selector(dtype_include=\"category\")),\n",
    "                                                      ]\n",
    "                                                    )\n",
    "                  ),\n",
    "                  # model component\n",
    "                  #using optimal hyperparameters after RandomSearch CV, determined above\n",
    "                  (\"classifier\",RandomForestClassifier(max_depth = 10, n_estimators=20),\n",
    "                  ),\n",
    "              ])\n",
    "\n",
    "        #fit tuned model\n",
    "        tuned_predictor.fit(x_base_train, y_base_train)\n",
    "\n",
    "        #predict tuned model onto dataframe\n",
    "\n",
    "        tuned_pred_df = test_orig_df.copy()\n",
    "        tuned_pred_df[target] = tuned_predictor.predict(x_base_test)\n",
    "\n",
    "        #create AIF360 objects\n",
    "        preds_aif360 = StandardDataset(tuned_pred_df, label_name=target, protected_attribute_names=[protected_attr], \n",
    "                    privileged_classes=[[1]], favorable_classes=[1])\n",
    "        orig_aif360 = StandardDataset(test_orig_df, label_name=target, protected_attribute_names=[protected_attr], \n",
    "                    privileged_classes=[[1]], favorable_classes=[1])\n",
    "\n",
    "        #store results\n",
    "        ClassificationMetric_list.append(ClassificationMetric(orig_aif360, preds_aif360, unprivileged_groups=unprivileged_groups,privileged_groups=privileged_groups))\n",
    "\n",
    "    return(ClassificationMetric_list)\n",
    "\n"
   ]
  },
  {
   "cell_type": "code",
   "execution_count": null,
   "metadata": {
    "id": "28k7xUu005-l"
   },
   "outputs": [],
   "source": [
    "#run the func\n",
    "repair_metric_list = repair_tuned_rf(repair_list)"
   ]
  },
  {
   "cell_type": "code",
   "execution_count": null,
   "metadata": {
    "id": "VBiW-_DD1w73"
   },
   "outputs": [],
   "source": [
    "#compute 5 metrics of interest\n",
    "repair_metrics = compute_metric_lists(repair_metric_list,metric_list, True)"
   ]
  },
  {
   "cell_type": "code",
   "execution_count": null,
   "metadata": {
    "id": "9tCQlmH422F7"
   },
   "outputs": [],
   "source": [
    "#create a new key for the repair level itself\n",
    "repair_metrics['repair_level'] = repair_list\n",
    "#repair_metrics"
   ]
  },
  {
   "cell_type": "code",
   "execution_count": null,
   "metadata": {
    "id": "8NToBvrQiWIz"
   },
   "outputs": [],
   "source": [
    "def plot_repair_levels(repair_levels, metric_vals, metric_name, x_label='Repair level'):\n",
    "  '''Creates a line plot showing how the metric changed for different values of repair level'''\n",
    "\n",
    "  # Plot the metrics\n",
    "    plt.plot(repair_levels, metric_vals, color='#0384fc', linewidth=3, label=metric_name)\n",
    "\n",
    "    # Create labels, etc. \n",
    "    plt.xlabel(x_label)\n",
    "    plt.ylabel(metric_name)\n",
    "    plt.legend()\n",
    "    plt.show()"
   ]
  },
  {
   "cell_type": "code",
   "execution_count": null,
   "metadata": {
    "id": "PD4QoWNs3cPw"
   },
   "outputs": [],
   "source": [
    "#plot metrics according to repair level\n",
    "fig, axs = plt.subplots(1,5, figsize=(20,10))\n",
    "\n",
    "for i in range(len(metric_list)):\n",
    "    metric = metric_list[i]\n",
    "    ax = axs[i] \n",
    "    pcm = ax.plot(repair_list, repair_metrics[metric], color='#0384fc', linewidth=3, label=metric)\n",
    "    ax.title.set_text('Repair level vs ' + metric)\n",
    "    ax.set_ylabel(metric)\n",
    "\n",
    "plt.show()"
   ]
  },
  {
   "cell_type": "markdown",
   "metadata": {
    "id": "xOzr7aximZVH"
   },
   "source": [
    "### Apply pre-processing techniques to the dataset, then re-train the models with the optimal hyperparameters from part **b**"
   ]
  },
  {
   "cell_type": "code",
   "execution_count": null,
   "metadata": {
    "id": "P9Hu35jTgc3J"
   },
   "outputs": [],
   "source": [
    "def prejudice_remover(eta_list):\n",
    "\n",
    "  #initialize seed values used in data splitting\n",
    "\n",
    "    ClassificationMetric_list = []\n",
    "    seed_list = [27,100,65,12345,59,210398,4231,45,1,98753][0:9]\n",
    "\n",
    "  #for 9 iterations,\n",
    "\n",
    "    for i in range(len(eta_list)):\n",
    "\n",
    "        #split data into train/test\n",
    "        train_orig, test_orig = dataset_orig.split([0.8], shuffle=True , seed= seed_list[i])\n",
    "\n",
    "        #create PrejudiceRemover Object with value of eta\n",
    "        PrejudiceRemoverObj = PrejudiceRemover(eta_list[i])  \n",
    "\n",
    "\n",
    "        #create dataframe objects \n",
    "        train_orig_df, _ = train_orig.convert_to_dataframe()\n",
    "        test_orig_df, _ = test_orig.convert_to_dataframe()\n",
    "\n",
    "        #create a preprocess object\n",
    "        preprocessing = ColumnTransformer(\n",
    "        [(\"scaler\", MinMaxScaler(), [0, 1])],\n",
    "        remainder=\"passthrough\")\n",
    "\n",
    "        #create binarylabeldataset objects for train/test\n",
    "\n",
    "        BinaryTrainDataset = BinaryLabelDataset(favorable_label=1,\n",
    "          unfavorable_label=0,\n",
    "          df=train_orig_df,\n",
    "          label_names=[target],\n",
    "          protected_attribute_names=[protected_attr])\n",
    "\n",
    "        BinaryTestDataSet = BinaryLabelDataset(favorable_label=1,\n",
    "          unfavorable_label=0,\n",
    "          df=test_orig_df,\n",
    "          label_names=[target],\n",
    "          protected_attribute_names=[protected_attr])\n",
    "\n",
    "\n",
    "        #preprocess train/test datasets\n",
    "        BinaryTrainDataset.features = preprocessing.fit_transform(BinaryTrainDataset.features)\n",
    "        BinaryTestDataSet.features = preprocessing.transform(BinaryTestDataSet.features)\n",
    "\n",
    "        #fit the data onto the training data\n",
    "\n",
    "        fit = PrejudiceRemoverObj.fit(BinaryTrainDataset)\n",
    "\n",
    "        #store predictions into a dataframe\n",
    "        unprejudiced_df = test_orig_df.copy()\n",
    "        unprejudiced_df[target] = fit.predict(BinaryTestDataSet).labels\n",
    "\n",
    "        #create aif360 objects\n",
    "        preds_aif360 = StandardDataset(unprejudiced_df, label_name=target, protected_attribute_names=[protected_attr], \n",
    "                    privileged_classes=[[1]], favorable_classes=[1])\n",
    "        orig_aif360 = StandardDataset(test_orig_df, label_name=target, protected_attribute_names=[protected_attr], \n",
    "                    privileged_classes=[[1]], favorable_classes=[1])\n",
    "\n",
    "        #store metrics\n",
    "        ClassificationMetric_list.append(ClassificationMetric(orig_aif360, preds_aif360, unprivileged_groups=unprivileged_groups,privileged_groups=privileged_groups))\n",
    "\n",
    "    return(ClassificationMetric_list)\n",
    "\n"
   ]
  },
  {
   "cell_type": "markdown",
   "metadata": {
    "id": "gu1xtZ6ExCdU"
   },
   "source": [
    "# Problem 2, Part (d) \n",
    "### **Prejudice Remover In-Processing intervention**\n",
    "\n"
   ]
  },
  {
   "cell_type": "markdown",
   "metadata": {
    "id": "f3oBrlsSncYr"
   },
   "source": [
    "### Fit new models using the Prejudice Remover technique"
   ]
  },
  {
   "cell_type": "code",
   "execution_count": null,
   "metadata": {
    "id": "NiejOOrrfEiG"
   },
   "outputs": [],
   "source": [
    "#create eta list to remove prejudice, run func\n",
    "eta_list = np.linspace(0,1,9)\n",
    "\n",
    "unprejudiced_models = prejudice_remover(eta_list)\n"
   ]
  },
  {
   "cell_type": "code",
   "execution_count": null,
   "metadata": {
    "id": "ObfzKq1bcD-C"
   },
   "outputs": [],
   "source": [
    "#compute metrics\n",
    "unprejudiced_metrics = compute_metric_lists(unprejudiced_models, metric_list, True)"
   ]
  },
  {
   "cell_type": "code",
   "execution_count": null,
   "metadata": {
    "id": "J4L0PgiaaTSr"
   },
   "outputs": [],
   "source": [
    "#plot performance across eta levels\n",
    "fig, axs = plt.subplots(1,5, figsize=(20,10))\n",
    "\n",
    "for i in range(len(metric_list)):\n",
    "    metric = metric_list[i]\n",
    "    ax = axs[i] \n",
    "    pcm = ax.plot(eta_list, unprejudiced_metrics[metric], color='#0384fc', linewidth=3, label=metric)\n",
    "    ax.title.set_text('Eta level vs ' + metric)\n",
    "    ax.set_ylabel(metric)"
   ]
  },
  {
   "cell_type": "markdown",
   "metadata": {
    "id": "v6Mgr2iiLb_k"
   },
   "source": [
    "# Problem 2, Part (e) \n",
    "### **Reject Option Post-Processing intervention**"
   ]
  },
  {
   "cell_type": "markdown",
   "metadata": {
    "id": "ZvbKbKM1nuLY"
   },
   "source": [
    "### Using the same random forest models as before, apply the post-processing technique to your results and compare"
   ]
  },
  {
   "cell_type": "code",
   "execution_count": null,
   "metadata": {
    "id": "RK6qmQ_-3MTD"
   },
   "outputs": [],
   "source": [
    "def ROC_rf():\n",
    "  ###steps:\n",
    "      ##split data into train/val/test\n",
    "      #train data using optimally tuned random forest\n",
    "      #pass trained model into ROC classifer, validating on validation dataset\n",
    "      #test new model after post-processing on test dataset\n",
    "\n",
    "  #initialize seed values used in data splitting\n",
    " \n",
    "    seed_list = [27,100,65,12345,59,210398,4231,45,1,98753]\n",
    "\n",
    "  #create gridSearchCV inputs\n",
    "  \n",
    "    final_dict = {}\n",
    "    for i in range(len(seed_list)):\n",
    "        final_dict[i] = {}\n",
    "        #create splits for train,validation and test datasets\n",
    "        train_orig, test_orig = dataset_orig.split([0.8], shuffle=True , seed= seed_list[i])\n",
    "        train_new, val_new = train_orig.split([.875],shuffle=True, seed = seed_list[i])\n",
    "\n",
    "        #create dataframe objects \n",
    "        train_orig_df, _ = train_orig.convert_to_dataframe()\n",
    "        train_new_df,_ =train_new.convert_to_dataframe()\n",
    "        val_new_df, _ = val_new.convert_to_dataframe()\n",
    "        test_orig_df, _ = test_orig.convert_to_dataframe()\n",
    "\n",
    "        #create vectors for base and tuned models\n",
    "\n",
    "        x_base_train, x_base_test = train_orig_df.drop(target, axis=1), test_orig_df.drop(target, axis=1)\n",
    "        y_base_train, y_base_test= train_orig_df.PINCP,  test_orig_df.PINCP\n",
    "\n",
    "\n",
    "        x_val_train, x_val_test = train_new_df.drop(target, axis=1), val_new_df.drop(target, axis=1)\n",
    "        y_val_train, y_val_test = train_new_df.PINCP, val_new_df.PINCP\n",
    "\n",
    "        #create splits for hyperparameter tuning\n",
    "        split_index = [-1 if x in x_val_train.index else 0 for x in x_base_train.index]\n",
    "        pds = PredefinedSplit(test_fold = split_index)\n",
    "        params_list= []\n",
    "\n",
    "        for k in sorted(output_dict[i]['params'].keys()):\n",
    "            params_list.append(output_dict[i]['params'][k])\n",
    "\n",
    "\n",
    "    #create pipeline object\n",
    "        tuned_predictor = Pipeline(\n",
    "            steps=[\n",
    "                  #feature engineering component \n",
    "                (\"preprocessor\", ColumnTransformer(transformers=[\n",
    "                                                      # we use selector to indentify features based on its data type\n",
    "                                                      # Normalize numerical features\n",
    "                                                      (\"num\", MinMaxScaler(), selector(dtype_exclude=\"category\")), \n",
    "                                                      # Encoding (transforming) categorical features to what understandable by the model\n",
    "                                                      (\"cat\", OneHotEncoder(handle_unknown=\"ignore\"), selector(dtype_include=\"category\")),\n",
    "                                                    ]\n",
    "                                                  )\n",
    "                ),\n",
    "                # model component\n",
    "                (\"classifier\",RandomForestClassifier(max_depth = params_list[0], n_estimators=params_list[1]),\n",
    "                ),\n",
    "            ])\n",
    "\n",
    "        #fit optimized rf on training data\n",
    "        tuned_predictor.fit(x_base_train, y_base_train)\n",
    "        pos_ind = np.where(tuned_predictor.classes_ == train_orig.favorable_label)[0][0]\n",
    "\n",
    "        #predict on validation data\n",
    "        valid_pred_BLD = val_new.copy()\n",
    "\n",
    "\n",
    "        valid_pred_BLD.scores = tuned_predictor.predict_proba(x_val_test)[:,pos_ind].reshape(-1,1)\n",
    "        fav_inds = valid_pred_BLD.scores > .5\n",
    "\n",
    "        valid_pred_BLD.labels[fav_inds], valid_pred_BLD.labels[~fav_inds] = val_new.favorable_label, val_new.unfavorable_label\n",
    "\n",
    "\n",
    "        #validate optimal ROC parameters on validation dataset\n",
    "        ROC = RejectOptionClassification(unprivileged_groups=unprivileged_groups,\n",
    "                                         privileged_groups=privileged_groups,\n",
    "                                         low_class_thresh = 0.01,\n",
    "                                         high_class_thresh =.99,\n",
    "                                         num_class_thresh = 10,\n",
    "                                         num_ROC_margin=10\n",
    "                                         )\n",
    "\n",
    "        ROC.fit(val_new,valid_pred_BLD)\n",
    "\n",
    "        #store decision boundaries and ROC margin\n",
    "        best_class_threshold = ROC.classification_threshold \n",
    "        best_margin = ROC.ROC_margin\n",
    "\n",
    "        final_dict[i]['class_threshold'] = best_class_threshold\n",
    "        final_dict[i]['margin'] = best_margin\n",
    "\n",
    "        #predict on test datasets\n",
    "\n",
    "        dataset_orig_test_pred = test_orig.copy()\n",
    "        dataset_orig_test_pred.scores = tuned_predictor.predict_proba(x_base_test)[:,pos_ind].reshape(-1,1)\n",
    "\n",
    "        #transfrom scores into labels using calcualted decision boundary\n",
    "        fav_inds = dataset_orig_test_pred.scores > best_class_threshold\n",
    "        dataset_orig_test_pred.labels[fav_inds] = dataset_orig_test_pred.favorable_label\n",
    "        dataset_orig_test_pred.labels[~fav_inds] = dataset_orig_test_pred.unfavorable_label\n",
    "\n",
    "        #predict data on test set\n",
    "        ROC_Test = ROC.predict(dataset_orig_test_pred)\n",
    "\n",
    "        orig_aif360 = StandardDataset(test_orig_df, label_name=target, protected_attribute_names=[protected_attr], \n",
    "                    privileged_classes=[[1]], favorable_classes=[1])\n",
    "\n",
    "        #store results\n",
    "        final_dict[i]['metric_list']=ClassificationMetric(test_orig, ROC_Test, unprivileged_groups=unprivileged_groups,privileged_groups=privileged_groups)\n",
    "    return(final_dict)\n",
    "  "
   ]
  },
  {
   "cell_type": "code",
   "execution_count": null,
   "metadata": {
    "id": "KUrWBL0_rhup"
   },
   "outputs": [],
   "source": [
    "ROC_list = ROC_rf()"
   ]
  },
  {
   "cell_type": "code",
   "execution_count": null,
   "metadata": {
    "id": "BbUVsyOxroqD"
   },
   "outputs": [],
   "source": [
    "ROC_metric_list = ['accuracy', 'privileged_groups_accuracy', 'unprivileged_groups_accuracy', 'disparate_impact', 'false_positive_difference_rate',\n",
    " 'class_threshold', 'margin',]\n",
    "post_processed_metrics = compute_metric_lists(ROC_list, ROC_metric_list, False)[1:][0]\n"
   ]
  },
  {
   "cell_type": "code",
   "execution_count": null,
   "metadata": {
    "id": "ICxM9a1-xmqh"
   },
   "outputs": [],
   "source": [
    "#plot performance across 5 metrics for ROC, tuned and base random forests\n",
    "fig, axs = plt.subplots(1,5, figsize=(20,10))\n",
    "\n",
    "for i in range(len(metric_list)):\n",
    "    metric = metric_list[i]\n",
    "    ax = axs[i] \n",
    "    pcm = ax.boxplot([post_processed_metrics[metric],tuned_metrics[metric],repair_metrics[metric]],\n",
    "                   labels = ['PostProcessed Model', 'Tuned Model', 'repaired_model'])\n",
    "    #ax.title.set_text('Eta level vs ' + metric)\n",
    "    ax.set_ylabel(metric)"
   ]
  },
  {
   "cell_type": "code",
   "execution_count": null,
   "metadata": {
    "id": "uJ5pYCaAxooN"
   },
   "outputs": [],
   "source": []
  }
 ],
 "metadata": {
  "colab": {
   "collapsed_sections": [],
   "name": "HW_DS_GA_1017_jg6615",
   "provenance": []
  },
  "kernelspec": {
   "display_name": "Python 3",
   "language": "python",
   "name": "python3"
  },
  "language_info": {
   "codemirror_mode": {
    "name": "ipython",
    "version": 3
   },
   "file_extension": ".py",
   "mimetype": "text/x-python",
   "name": "python",
   "nbconvert_exporter": "python",
   "pygments_lexer": "ipython3",
   "version": "3.8.8"
  }
 },
 "nbformat": 4,
 "nbformat_minor": 1
}
